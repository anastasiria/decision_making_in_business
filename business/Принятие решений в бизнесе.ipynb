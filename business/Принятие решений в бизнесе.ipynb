{
 "cells": [
  {
   "cell_type": "markdown",
   "metadata": {},
   "source": [
    "# Основная задача:\n",
    "\n",
    "Часть 1.\n",
    "\n",
    "1. Приоритизировать гипотезы, которые подготовил отдел маркетинга для увеличения выручки.\n",
    "2. Запустить А/В тест и проанализировать результаты тестирования.\n",
    "\n",
    "Часть 2.\n",
    "1. После проведения А/В теста проанализировать результаты. \n",
    "2. Построить графики кумулятивной выручки и среднего чека.\n",
    "3. Посчитать 95-й и 99-й перцентили количества заказов на пользователя\n",
    "4. Построить точечный график стоимостей заказов. \n",
    "5. Посчитать статистическую значимость различий в среднем количестве заказов на посетителя между группами и различий в среднем чеке заказа по «очищенным» данным.\n",
    "6. Написать выводы и решить, что делать по результатам А/В теста.\n"
   ]
  },
  {
   "cell_type": "markdown",
   "metadata": {},
   "source": [
    "# Часть 1. Приоритизация гипотез.\n",
    "\n",
    "\n",
    "# Задача\n",
    "- Примените фреймворк ICE для приоритизации гипотез. Отсортируйте их по убыванию приоритета.\n",
    "- Примените фреймворк RICE для приоритизации гипотез. Отсортируйте их по убыванию приоритета.\n",
    "- Укажите, как изменилась приоритизация гипотез при применении RICE вместо ICE. Объясните, почему так произошло."
   ]
  },
  {
   "cell_type": "code",
   "execution_count": 1,
   "metadata": {},
   "outputs": [],
   "source": [
    "#импортируем таблицу\n",
    "import pandas as pd\n",
    "import matplotlib.pyplot as plt\n",
    "import numpy as np\n",
    "from scipy.stats import ttest_ind\n",
    "import seaborn as sns\n",
    "from scipy import stats as st\n",
    "from datetime import datetime, timedelta\n",
    "import matplotlib.pyplot as plt\n",
    "from pandas.plotting import register_matplotlib_converters\n",
    "import warnings\n",
    "\n",
    "data = pd.read_csv('/datasets/hypothesis.csv', sep=',')"
   ]
  },
  {
   "cell_type": "code",
   "execution_count": 2,
   "metadata": {},
   "outputs": [
    {
     "data": {
      "text/html": [
       "<div>\n",
       "<style scoped>\n",
       "    .dataframe tbody tr th:only-of-type {\n",
       "        vertical-align: middle;\n",
       "    }\n",
       "\n",
       "    .dataframe tbody tr th {\n",
       "        vertical-align: top;\n",
       "    }\n",
       "\n",
       "    .dataframe thead th {\n",
       "        text-align: right;\n",
       "    }\n",
       "</style>\n",
       "<table border=\"1\" class=\"dataframe\">\n",
       "  <thead>\n",
       "    <tr style=\"text-align: right;\">\n",
       "      <th></th>\n",
       "      <th>Hypothesis</th>\n",
       "      <th>Reach</th>\n",
       "      <th>Impact</th>\n",
       "      <th>Confidence</th>\n",
       "      <th>Efforts</th>\n",
       "    </tr>\n",
       "  </thead>\n",
       "  <tbody>\n",
       "    <tr>\n",
       "      <th>0</th>\n",
       "      <td>Добавить два новых канала привлечения трафика,...</td>\n",
       "      <td>3</td>\n",
       "      <td>10</td>\n",
       "      <td>8</td>\n",
       "      <td>6</td>\n",
       "    </tr>\n",
       "    <tr>\n",
       "      <th>1</th>\n",
       "      <td>Запустить собственную службу доставки, что сок...</td>\n",
       "      <td>2</td>\n",
       "      <td>5</td>\n",
       "      <td>4</td>\n",
       "      <td>10</td>\n",
       "    </tr>\n",
       "    <tr>\n",
       "      <th>2</th>\n",
       "      <td>Добавить блоки рекомендаций товаров на сайт ин...</td>\n",
       "      <td>8</td>\n",
       "      <td>3</td>\n",
       "      <td>7</td>\n",
       "      <td>3</td>\n",
       "    </tr>\n",
       "    <tr>\n",
       "      <th>3</th>\n",
       "      <td>Изменить структура категорий, что увеличит кон...</td>\n",
       "      <td>8</td>\n",
       "      <td>3</td>\n",
       "      <td>3</td>\n",
       "      <td>8</td>\n",
       "    </tr>\n",
       "    <tr>\n",
       "      <th>4</th>\n",
       "      <td>Изменить цвет фона главной страницы, чтобы уве...</td>\n",
       "      <td>3</td>\n",
       "      <td>1</td>\n",
       "      <td>1</td>\n",
       "      <td>1</td>\n",
       "    </tr>\n",
       "    <tr>\n",
       "      <th>5</th>\n",
       "      <td>Добавить страницу отзывов клиентов о магазине,...</td>\n",
       "      <td>3</td>\n",
       "      <td>2</td>\n",
       "      <td>2</td>\n",
       "      <td>3</td>\n",
       "    </tr>\n",
       "    <tr>\n",
       "      <th>6</th>\n",
       "      <td>Показать на главной странице баннеры с актуаль...</td>\n",
       "      <td>5</td>\n",
       "      <td>3</td>\n",
       "      <td>8</td>\n",
       "      <td>3</td>\n",
       "    </tr>\n",
       "    <tr>\n",
       "      <th>7</th>\n",
       "      <td>Добавить форму подписки на все основные страни...</td>\n",
       "      <td>10</td>\n",
       "      <td>7</td>\n",
       "      <td>8</td>\n",
       "      <td>5</td>\n",
       "    </tr>\n",
       "    <tr>\n",
       "      <th>8</th>\n",
       "      <td>Запустить акцию, дающую скидку на товар в день...</td>\n",
       "      <td>1</td>\n",
       "      <td>9</td>\n",
       "      <td>9</td>\n",
       "      <td>5</td>\n",
       "    </tr>\n",
       "  </tbody>\n",
       "</table>\n",
       "</div>"
      ],
      "text/plain": [
       "                                          Hypothesis  Reach  Impact  \\\n",
       "0  Добавить два новых канала привлечения трафика,...      3      10   \n",
       "1  Запустить собственную службу доставки, что сок...      2       5   \n",
       "2  Добавить блоки рекомендаций товаров на сайт ин...      8       3   \n",
       "3  Изменить структура категорий, что увеличит кон...      8       3   \n",
       "4  Изменить цвет фона главной страницы, чтобы уве...      3       1   \n",
       "5  Добавить страницу отзывов клиентов о магазине,...      3       2   \n",
       "6  Показать на главной странице баннеры с актуаль...      5       3   \n",
       "7  Добавить форму подписки на все основные страни...     10       7   \n",
       "8  Запустить акцию, дающую скидку на товар в день...      1       9   \n",
       "\n",
       "   Confidence  Efforts  \n",
       "0           8        6  \n",
       "1           4       10  \n",
       "2           7        3  \n",
       "3           3        8  \n",
       "4           1        1  \n",
       "5           2        3  \n",
       "6           8        3  \n",
       "7           8        5  \n",
       "8           9        5  "
      ]
     },
     "metadata": {},
     "output_type": "display_data"
    }
   ],
   "source": [
    "display(data.head(10))\n",
    "pd.options.display.max_colwidth = 100"
   ]
  },
  {
   "cell_type": "code",
   "execution_count": 3,
   "metadata": {},
   "outputs": [
    {
     "name": "stdout",
     "output_type": "stream",
     "text": [
      "<class 'pandas.core.frame.DataFrame'>\n",
      "RangeIndex: 9 entries, 0 to 8\n",
      "Data columns (total 5 columns):\n",
      " #   Column      Non-Null Count  Dtype \n",
      "---  ------      --------------  ----- \n",
      " 0   Hypothesis  9 non-null      object\n",
      " 1   Reach       9 non-null      int64 \n",
      " 2   Impact      9 non-null      int64 \n",
      " 3   Confidence  9 non-null      int64 \n",
      " 4   Efforts     9 non-null      int64 \n",
      "dtypes: int64(4), object(1)\n",
      "memory usage: 488.0+ bytes\n"
     ]
    },
    {
     "data": {
      "text/plain": [
       "None"
      ]
     },
     "metadata": {},
     "output_type": "display_data"
    }
   ],
   "source": [
    "display(data.info())\n",
    "data.columns = data.columns.str.lower()"
   ]
  },
  {
   "cell_type": "code",
   "execution_count": 4,
   "metadata": {},
   "outputs": [
    {
     "data": {
      "text/html": [
       "<div>\n",
       "<style scoped>\n",
       "    .dataframe tbody tr th:only-of-type {\n",
       "        vertical-align: middle;\n",
       "    }\n",
       "\n",
       "    .dataframe tbody tr th {\n",
       "        vertical-align: top;\n",
       "    }\n",
       "\n",
       "    .dataframe thead th {\n",
       "        text-align: right;\n",
       "    }\n",
       "</style>\n",
       "<table border=\"1\" class=\"dataframe\">\n",
       "  <thead>\n",
       "    <tr style=\"text-align: right;\">\n",
       "      <th></th>\n",
       "      <th>hypothesis</th>\n",
       "      <th>ICE</th>\n",
       "    </tr>\n",
       "  </thead>\n",
       "  <tbody>\n",
       "    <tr>\n",
       "      <th>8</th>\n",
       "      <td>Запустить акцию, дающую скидку на товар в день рождения</td>\n",
       "      <td>16.20</td>\n",
       "    </tr>\n",
       "    <tr>\n",
       "      <th>0</th>\n",
       "      <td>Добавить два новых канала привлечения трафика, что позволит привлекать на 30% больше пользователей</td>\n",
       "      <td>13.33</td>\n",
       "    </tr>\n",
       "    <tr>\n",
       "      <th>7</th>\n",
       "      <td>Добавить форму подписки на все основные страницы, чтобы собрать базу клиентов для email-рассылок</td>\n",
       "      <td>11.20</td>\n",
       "    </tr>\n",
       "    <tr>\n",
       "      <th>6</th>\n",
       "      <td>Показать на главной странице баннеры с актуальными акциями и распродажами, чтобы увеличить конве...</td>\n",
       "      <td>8.00</td>\n",
       "    </tr>\n",
       "    <tr>\n",
       "      <th>2</th>\n",
       "      <td>Добавить блоки рекомендаций товаров на сайт интернет магазина, чтобы повысить конверсию и средни...</td>\n",
       "      <td>7.00</td>\n",
       "    </tr>\n",
       "    <tr>\n",
       "      <th>1</th>\n",
       "      <td>Запустить собственную службу доставки, что сократит срок доставки заказов</td>\n",
       "      <td>2.00</td>\n",
       "    </tr>\n",
       "    <tr>\n",
       "      <th>5</th>\n",
       "      <td>Добавить страницу отзывов клиентов о магазине, что позволит увеличить количество заказов</td>\n",
       "      <td>1.33</td>\n",
       "    </tr>\n",
       "    <tr>\n",
       "      <th>3</th>\n",
       "      <td>Изменить структура категорий, что увеличит конверсию, т.к. пользователи быстрее найдут нужный товар</td>\n",
       "      <td>1.12</td>\n",
       "    </tr>\n",
       "    <tr>\n",
       "      <th>4</th>\n",
       "      <td>Изменить цвет фона главной страницы, чтобы увеличить вовлеченность пользователей</td>\n",
       "      <td>1.00</td>\n",
       "    </tr>\n",
       "  </tbody>\n",
       "</table>\n",
       "</div>"
      ],
      "text/plain": [
       "                                                                                            hypothesis  \\\n",
       "8                                              Запустить акцию, дающую скидку на товар в день рождения   \n",
       "0   Добавить два новых канала привлечения трафика, что позволит привлекать на 30% больше пользователей   \n",
       "7     Добавить форму подписки на все основные страницы, чтобы собрать базу клиентов для email-рассылок   \n",
       "6  Показать на главной странице баннеры с актуальными акциями и распродажами, чтобы увеличить конве...   \n",
       "2  Добавить блоки рекомендаций товаров на сайт интернет магазина, чтобы повысить конверсию и средни...   \n",
       "1                            Запустить собственную службу доставки, что сократит срок доставки заказов   \n",
       "5             Добавить страницу отзывов клиентов о магазине, что позволит увеличить количество заказов   \n",
       "3  Изменить структура категорий, что увеличит конверсию, т.к. пользователи быстрее найдут нужный товар   \n",
       "4                     Изменить цвет фона главной страницы, чтобы увеличить вовлеченность пользователей   \n",
       "\n",
       "     ICE  \n",
       "8  16.20  \n",
       "0  13.33  \n",
       "7  11.20  \n",
       "6   8.00  \n",
       "2   7.00  \n",
       "1   2.00  \n",
       "5   1.33  \n",
       "3   1.12  \n",
       "4   1.00  "
      ]
     },
     "metadata": {},
     "output_type": "display_data"
    }
   ],
   "source": [
    "#Применим фреймворк ICE для приоритизации гипотез. Отсортируем их по убыванию приоритета.\n",
    "data['ICE'] = (data['impact'] * data['confidence']) / data['efforts']\n",
    "data_new = data[['hypothesis','ICE']].sort_values(by='ICE', ascending=False)\n",
    "display(round(data_new, 2))"
   ]
  },
  {
   "cell_type": "markdown",
   "metadata": {},
   "source": [
    "Самые приоритетные гипотезы согласно этой оценке:\n",
    "1. Запустить акцию, дающую скидку на товар в день рождения.\n",
    "2. Добавить два новых канала привлечения трафика, что позволит привлекать на 30% больше пользователей.\n",
    "3. Добавить форму подписки на все основные страницы, чтобы собрать базу клиентов для email-рассылок."
   ]
  },
  {
   "cell_type": "code",
   "execution_count": 5,
   "metadata": {},
   "outputs": [
    {
     "data": {
      "text/html": [
       "<div>\n",
       "<style scoped>\n",
       "    .dataframe tbody tr th:only-of-type {\n",
       "        vertical-align: middle;\n",
       "    }\n",
       "\n",
       "    .dataframe tbody tr th {\n",
       "        vertical-align: top;\n",
       "    }\n",
       "\n",
       "    .dataframe thead th {\n",
       "        text-align: right;\n",
       "    }\n",
       "</style>\n",
       "<table border=\"1\" class=\"dataframe\">\n",
       "  <thead>\n",
       "    <tr style=\"text-align: right;\">\n",
       "      <th></th>\n",
       "      <th>hypothesis</th>\n",
       "      <th>RICE</th>\n",
       "    </tr>\n",
       "  </thead>\n",
       "  <tbody>\n",
       "    <tr>\n",
       "      <th>7</th>\n",
       "      <td>Добавить форму подписки на все основные страницы, чтобы собрать базу клиентов для email-рассылок</td>\n",
       "      <td>112.0</td>\n",
       "    </tr>\n",
       "    <tr>\n",
       "      <th>2</th>\n",
       "      <td>Добавить блоки рекомендаций товаров на сайт интернет магазина, чтобы повысить конверсию и средни...</td>\n",
       "      <td>56.0</td>\n",
       "    </tr>\n",
       "    <tr>\n",
       "      <th>0</th>\n",
       "      <td>Добавить два новых канала привлечения трафика, что позволит привлекать на 30% больше пользователей</td>\n",
       "      <td>40.0</td>\n",
       "    </tr>\n",
       "    <tr>\n",
       "      <th>6</th>\n",
       "      <td>Показать на главной странице баннеры с актуальными акциями и распродажами, чтобы увеличить конве...</td>\n",
       "      <td>40.0</td>\n",
       "    </tr>\n",
       "    <tr>\n",
       "      <th>8</th>\n",
       "      <td>Запустить акцию, дающую скидку на товар в день рождения</td>\n",
       "      <td>16.2</td>\n",
       "    </tr>\n",
       "    <tr>\n",
       "      <th>3</th>\n",
       "      <td>Изменить структура категорий, что увеличит конверсию, т.к. пользователи быстрее найдут нужный товар</td>\n",
       "      <td>9.0</td>\n",
       "    </tr>\n",
       "    <tr>\n",
       "      <th>1</th>\n",
       "      <td>Запустить собственную службу доставки, что сократит срок доставки заказов</td>\n",
       "      <td>4.0</td>\n",
       "    </tr>\n",
       "    <tr>\n",
       "      <th>5</th>\n",
       "      <td>Добавить страницу отзывов клиентов о магазине, что позволит увеличить количество заказов</td>\n",
       "      <td>4.0</td>\n",
       "    </tr>\n",
       "    <tr>\n",
       "      <th>4</th>\n",
       "      <td>Изменить цвет фона главной страницы, чтобы увеличить вовлеченность пользователей</td>\n",
       "      <td>3.0</td>\n",
       "    </tr>\n",
       "  </tbody>\n",
       "</table>\n",
       "</div>"
      ],
      "text/plain": [
       "                                                                                            hypothesis  \\\n",
       "7     Добавить форму подписки на все основные страницы, чтобы собрать базу клиентов для email-рассылок   \n",
       "2  Добавить блоки рекомендаций товаров на сайт интернет магазина, чтобы повысить конверсию и средни...   \n",
       "0   Добавить два новых канала привлечения трафика, что позволит привлекать на 30% больше пользователей   \n",
       "6  Показать на главной странице баннеры с актуальными акциями и распродажами, чтобы увеличить конве...   \n",
       "8                                              Запустить акцию, дающую скидку на товар в день рождения   \n",
       "3  Изменить структура категорий, что увеличит конверсию, т.к. пользователи быстрее найдут нужный товар   \n",
       "1                            Запустить собственную службу доставки, что сократит срок доставки заказов   \n",
       "5             Добавить страницу отзывов клиентов о магазине, что позволит увеличить количество заказов   \n",
       "4                     Изменить цвет фона главной страницы, чтобы увеличить вовлеченность пользователей   \n",
       "\n",
       "    RICE  \n",
       "7  112.0  \n",
       "2   56.0  \n",
       "0   40.0  \n",
       "6   40.0  \n",
       "8   16.2  \n",
       "3    9.0  \n",
       "1    4.0  \n",
       "5    4.0  \n",
       "4    3.0  "
      ]
     },
     "metadata": {},
     "output_type": "display_data"
    }
   ],
   "source": [
    "#Примениv фреймворк RICE для приоритизации гипотез. Отсортируtv их по убыванию приоритета.\n",
    "data['RICE']=(data['reach']*data['impact']*data['confidence'])/data['efforts']\n",
    "display(data[['hypothesis','RICE']].sort_values(by='RICE', ascending=False))"
   ]
  },
  {
   "cell_type": "markdown",
   "metadata": {},
   "source": [
    "Согласно этой оценке самые приоритетные гипотезы: \n",
    "1. Добавить форму подписки на все основные страницы, чтобы собрать базу клиентов для email-рассылок.   \n",
    "2.  Добавить блоки рекомендаций товаров на сайт интернет магазина, чтобы повысить конверсию и средний.\n",
    "3.   Добавить два новых канала привлечения трафика, что позволит привлекать на 30% больше пользователей.   "
   ]
  },
  {
   "cell_type": "markdown",
   "metadata": {},
   "source": [
    "Укажите, как изменилась приоритизация гипотез при применении RICE вместо ICE. Объясните, почему так произошло.\n",
    "\n",
    "\n",
    "Если при применении ICE в приоритете были гипотезы 8, 0, 7, то при применении RICE в приоритете: 7, 2 и 0.\n",
    "Так как в RICE затронута четвертая метрика Reach, то результаты в разных методахбудут отличаться. Метрика Reach\n",
    "показывает скольких пользователей затронет изменение, которое вы хотите внести."
   ]
  },
  {
   "cell_type": "markdown",
   "metadata": {},
   "source": [
    "# Часть 2. Анализ A/B-теста\n",
    "Вы провели A/B-тест и получили результаты, которые описаны в файлах /datasets/orders.csv и /datasets/visitors.csv."
   ]
  },
  {
   "cell_type": "code",
   "execution_count": 6,
   "metadata": {},
   "outputs": [],
   "source": [
    "orders = pd.read_csv('/datasets/orders.csv', sep=',')"
   ]
  },
  {
   "cell_type": "code",
   "execution_count": 7,
   "metadata": {},
   "outputs": [],
   "source": [
    "visitors = pd.read_csv('/datasets/visitors.csv', sep=',')"
   ]
  },
  {
   "cell_type": "code",
   "execution_count": 8,
   "metadata": {},
   "outputs": [
    {
     "data": {
      "text/html": [
       "<div>\n",
       "<style scoped>\n",
       "    .dataframe tbody tr th:only-of-type {\n",
       "        vertical-align: middle;\n",
       "    }\n",
       "\n",
       "    .dataframe tbody tr th {\n",
       "        vertical-align: top;\n",
       "    }\n",
       "\n",
       "    .dataframe thead th {\n",
       "        text-align: right;\n",
       "    }\n",
       "</style>\n",
       "<table border=\"1\" class=\"dataframe\">\n",
       "  <thead>\n",
       "    <tr style=\"text-align: right;\">\n",
       "      <th></th>\n",
       "      <th>transactionId</th>\n",
       "      <th>visitorId</th>\n",
       "      <th>date</th>\n",
       "      <th>revenue</th>\n",
       "      <th>group</th>\n",
       "    </tr>\n",
       "  </thead>\n",
       "  <tbody>\n",
       "    <tr>\n",
       "      <th>0</th>\n",
       "      <td>3667963787</td>\n",
       "      <td>3312258926</td>\n",
       "      <td>2019-08-15</td>\n",
       "      <td>1650</td>\n",
       "      <td>B</td>\n",
       "    </tr>\n",
       "    <tr>\n",
       "      <th>1</th>\n",
       "      <td>2804400009</td>\n",
       "      <td>3642806036</td>\n",
       "      <td>2019-08-15</td>\n",
       "      <td>730</td>\n",
       "      <td>B</td>\n",
       "    </tr>\n",
       "    <tr>\n",
       "      <th>2</th>\n",
       "      <td>2961555356</td>\n",
       "      <td>4069496402</td>\n",
       "      <td>2019-08-15</td>\n",
       "      <td>400</td>\n",
       "      <td>A</td>\n",
       "    </tr>\n",
       "    <tr>\n",
       "      <th>3</th>\n",
       "      <td>3797467345</td>\n",
       "      <td>1196621759</td>\n",
       "      <td>2019-08-15</td>\n",
       "      <td>9759</td>\n",
       "      <td>B</td>\n",
       "    </tr>\n",
       "    <tr>\n",
       "      <th>4</th>\n",
       "      <td>2282983706</td>\n",
       "      <td>2322279887</td>\n",
       "      <td>2019-08-15</td>\n",
       "      <td>2308</td>\n",
       "      <td>B</td>\n",
       "    </tr>\n",
       "  </tbody>\n",
       "</table>\n",
       "</div>"
      ],
      "text/plain": [
       "   transactionId   visitorId        date  revenue group\n",
       "0     3667963787  3312258926  2019-08-15     1650     B\n",
       "1     2804400009  3642806036  2019-08-15      730     B\n",
       "2     2961555356  4069496402  2019-08-15      400     A\n",
       "3     3797467345  1196621759  2019-08-15     9759     B\n",
       "4     2282983706  2322279887  2019-08-15     2308     B"
      ]
     },
     "execution_count": 8,
     "metadata": {},
     "output_type": "execute_result"
    }
   ],
   "source": [
    "orders.head()"
   ]
  },
  {
   "cell_type": "code",
   "execution_count": 9,
   "metadata": {},
   "outputs": [
    {
     "data": {
      "text/html": [
       "<div>\n",
       "<style scoped>\n",
       "    .dataframe tbody tr th:only-of-type {\n",
       "        vertical-align: middle;\n",
       "    }\n",
       "\n",
       "    .dataframe tbody tr th {\n",
       "        vertical-align: top;\n",
       "    }\n",
       "\n",
       "    .dataframe thead th {\n",
       "        text-align: right;\n",
       "    }\n",
       "</style>\n",
       "<table border=\"1\" class=\"dataframe\">\n",
       "  <thead>\n",
       "    <tr style=\"text-align: right;\">\n",
       "      <th></th>\n",
       "      <th>date</th>\n",
       "      <th>group</th>\n",
       "      <th>visitors</th>\n",
       "    </tr>\n",
       "  </thead>\n",
       "  <tbody>\n",
       "    <tr>\n",
       "      <th>0</th>\n",
       "      <td>2019-08-01</td>\n",
       "      <td>A</td>\n",
       "      <td>719</td>\n",
       "    </tr>\n",
       "    <tr>\n",
       "      <th>1</th>\n",
       "      <td>2019-08-02</td>\n",
       "      <td>A</td>\n",
       "      <td>619</td>\n",
       "    </tr>\n",
       "    <tr>\n",
       "      <th>2</th>\n",
       "      <td>2019-08-03</td>\n",
       "      <td>A</td>\n",
       "      <td>507</td>\n",
       "    </tr>\n",
       "    <tr>\n",
       "      <th>3</th>\n",
       "      <td>2019-08-04</td>\n",
       "      <td>A</td>\n",
       "      <td>717</td>\n",
       "    </tr>\n",
       "    <tr>\n",
       "      <th>4</th>\n",
       "      <td>2019-08-05</td>\n",
       "      <td>A</td>\n",
       "      <td>756</td>\n",
       "    </tr>\n",
       "  </tbody>\n",
       "</table>\n",
       "</div>"
      ],
      "text/plain": [
       "         date group  visitors\n",
       "0  2019-08-01     A       719\n",
       "1  2019-08-02     A       619\n",
       "2  2019-08-03     A       507\n",
       "3  2019-08-04     A       717\n",
       "4  2019-08-05     A       756"
      ]
     },
     "execution_count": 9,
     "metadata": {},
     "output_type": "execute_result"
    }
   ],
   "source": [
    "visitors.head()"
   ]
  },
  {
   "cell_type": "markdown",
   "metadata": {},
   "source": [
    "### Постройте график кумулятивной выручки по группам. Сделайте выводы и предположения."
   ]
  },
  {
   "cell_type": "code",
   "execution_count": 10,
   "metadata": {},
   "outputs": [],
   "source": [
    "import pandas as pd\n",
    "import datetime as dt\n",
    "import numpy as np\n",
    "import matplotlib.pyplot as plt"
   ]
  },
  {
   "cell_type": "code",
   "execution_count": 11,
   "metadata": {},
   "outputs": [
    {
     "name": "stdout",
     "output_type": "stream",
     "text": [
      "<class 'pandas.core.frame.DataFrame'>\n",
      "RangeIndex: 1197 entries, 0 to 1196\n",
      "Data columns (total 5 columns):\n",
      " #   Column         Non-Null Count  Dtype \n",
      "---  ------         --------------  ----- \n",
      " 0   transactionId  1197 non-null   int64 \n",
      " 1   visitorId      1197 non-null   int64 \n",
      " 2   date           1197 non-null   object\n",
      " 3   revenue        1197 non-null   int64 \n",
      " 4   group          1197 non-null   object\n",
      "dtypes: int64(3), object(2)\n",
      "memory usage: 46.9+ KB\n"
     ]
    }
   ],
   "source": [
    "orders.info()"
   ]
  },
  {
   "cell_type": "code",
   "execution_count": 12,
   "metadata": {},
   "outputs": [],
   "source": [
    "#переведем столбец date в формат datetime\n",
    "orders['date'] = pd.to_datetime(orders['date'])"
   ]
  },
  {
   "cell_type": "code",
   "execution_count": 13,
   "metadata": {},
   "outputs": [
    {
     "name": "stdout",
     "output_type": "stream",
     "text": [
      "<class 'pandas.core.frame.DataFrame'>\n",
      "RangeIndex: 62 entries, 0 to 61\n",
      "Data columns (total 3 columns):\n",
      " #   Column    Non-Null Count  Dtype \n",
      "---  ------    --------------  ----- \n",
      " 0   date      62 non-null     object\n",
      " 1   group     62 non-null     object\n",
      " 2   visitors  62 non-null     int64 \n",
      "dtypes: int64(1), object(2)\n",
      "memory usage: 1.6+ KB\n"
     ]
    }
   ],
   "source": [
    "visitors.info()"
   ]
  },
  {
   "cell_type": "code",
   "execution_count": 14,
   "metadata": {},
   "outputs": [],
   "source": [
    "#переведем столбец date в формат datetime\n",
    "visitors['date'] = pd.to_datetime(visitors['date'])"
   ]
  },
  {
   "cell_type": "code",
   "execution_count": 15,
   "metadata": {},
   "outputs": [
    {
     "data": {
      "text/plain": [
       "'Количество пропусков в таблице visitors:'"
      ]
     },
     "metadata": {},
     "output_type": "display_data"
    },
    {
     "data": {
      "text/plain": [
       "date        0\n",
       "group       0\n",
       "visitors    0\n",
       "dtype: int64"
      ]
     },
     "metadata": {},
     "output_type": "display_data"
    },
    {
     "data": {
      "text/plain": [
       "'Количество пропусков в таблице orders:'"
      ]
     },
     "metadata": {},
     "output_type": "display_data"
    },
    {
     "data": {
      "text/plain": [
       "transactionId    0\n",
       "visitorId        0\n",
       "date             0\n",
       "revenue          0\n",
       "group            0\n",
       "dtype: int64"
      ]
     },
     "metadata": {},
     "output_type": "display_data"
    }
   ],
   "source": [
    "# посчитаем количество пропусков\n",
    "display('Количество пропусков в таблице visitors:', visitors.isna().sum()) \n",
    "display('Количество пропусков в таблице orders:', orders.isna().sum()) "
   ]
  },
  {
   "cell_type": "code",
   "execution_count": 16,
   "metadata": {},
   "outputs": [
    {
     "data": {
      "text/plain": [
       "'Количество дубликатов в таблице visitors:'"
      ]
     },
     "metadata": {},
     "output_type": "display_data"
    },
    {
     "data": {
      "text/plain": [
       "0"
      ]
     },
     "metadata": {},
     "output_type": "display_data"
    },
    {
     "data": {
      "text/plain": [
       "'Количество дубликатов в таблице orders:'"
      ]
     },
     "metadata": {},
     "output_type": "display_data"
    },
    {
     "data": {
      "text/plain": [
       "0"
      ]
     },
     "metadata": {},
     "output_type": "display_data"
    }
   ],
   "source": [
    "# посчитаем количество дубликатов\n",
    "display('Количество дубликатов в таблице visitors:', visitors.duplicated().sum()) \n",
    "display('Количество дубликатов в таблице orders:', orders.duplicated().sum()) "
   ]
  },
  {
   "cell_type": "code",
   "execution_count": 17,
   "metadata": {},
   "outputs": [
    {
     "data": {
      "text/plain": [
       "array(['A', 'B'], dtype=object)"
      ]
     },
     "metadata": {},
     "output_type": "display_data"
    },
    {
     "data": {
      "text/plain": [
       "array(['B', 'A'], dtype=object)"
      ]
     },
     "metadata": {},
     "output_type": "display_data"
    }
   ],
   "source": [
    "#посмотрим сколько у нас групп в А/В тесте\n",
    "\n",
    "display(visitors['group'].unique()) \n",
    "display(orders['group'].unique()) "
   ]
  },
  {
   "cell_type": "markdown",
   "metadata": {},
   "source": [
    "В тесте принимают участие 2 группы."
   ]
  },
  {
   "cell_type": "code",
   "execution_count": 18,
   "metadata": {},
   "outputs": [
    {
     "data": {
      "text/plain": [
       "'Минимальная дата для графика'"
      ]
     },
     "metadata": {},
     "output_type": "display_data"
    },
    {
     "data": {
      "text/plain": [
       "Timestamp('2019-08-01 00:00:00')"
      ]
     },
     "metadata": {},
     "output_type": "display_data"
    },
    {
     "data": {
      "text/plain": [
       "'Максимальная дата для графика'"
      ]
     },
     "metadata": {},
     "output_type": "display_data"
    },
    {
     "data": {
      "text/plain": [
       "Timestamp('2019-08-31 00:00:00')"
      ]
     },
     "metadata": {},
     "output_type": "display_data"
    }
   ],
   "source": [
    "# найдем минимальную и максимальную даты для графика\n",
    "display('Минимальная дата для графика', min(orders['date']))\n",
    "display('Максимальная дата для графика', max(orders['date']))"
   ]
  },
  {
   "cell_type": "code",
   "execution_count": 19,
   "metadata": {},
   "outputs": [
    {
     "data": {
      "text/plain": [
       "'Количество людей в группе А равно:'"
      ]
     },
     "metadata": {},
     "output_type": "display_data"
    },
    {
     "data": {
      "text/plain": [
       "557"
      ]
     },
     "metadata": {},
     "output_type": "display_data"
    },
    {
     "data": {
      "text/plain": [
       "'Количество людей в группе B равно:'"
      ]
     },
     "metadata": {},
     "output_type": "display_data"
    },
    {
     "data": {
      "text/plain": [
       "640"
      ]
     },
     "metadata": {},
     "output_type": "display_data"
    }
   ],
   "source": [
    "# посмотрим количество пользователей в каждой группе\n",
    "orders_lenA = len(orders[orders['group']== 'A'])  \n",
    "orders_lenB = len(orders[orders['group']== 'B'])  \n",
    "                \n",
    "display('Количество людей в группе А равно:', orders_lenA)      \n",
    "display('Количество людей в группе B равно:', orders_lenB)    "
   ]
  },
  {
   "cell_type": "code",
   "execution_count": 20,
   "metadata": {},
   "outputs": [
    {
     "data": {
      "text/html": [
       "<div>\n",
       "<style scoped>\n",
       "    .dataframe tbody tr th:only-of-type {\n",
       "        vertical-align: middle;\n",
       "    }\n",
       "\n",
       "    .dataframe tbody tr th {\n",
       "        vertical-align: top;\n",
       "    }\n",
       "\n",
       "    .dataframe thead th {\n",
       "        text-align: right;\n",
       "    }\n",
       "</style>\n",
       "<table border=\"1\" class=\"dataframe\">\n",
       "  <thead>\n",
       "    <tr style=\"text-align: right;\">\n",
       "      <th></th>\n",
       "      <th>date</th>\n",
       "      <th>group</th>\n",
       "      <th>visitors</th>\n",
       "    </tr>\n",
       "  </thead>\n",
       "  <tbody>\n",
       "    <tr>\n",
       "      <th>31</th>\n",
       "      <td>2019-08-01</td>\n",
       "      <td>B</td>\n",
       "      <td>713</td>\n",
       "    </tr>\n",
       "    <tr>\n",
       "      <th>0</th>\n",
       "      <td>2019-08-01</td>\n",
       "      <td>A</td>\n",
       "      <td>719</td>\n",
       "    </tr>\n",
       "    <tr>\n",
       "      <th>32</th>\n",
       "      <td>2019-08-02</td>\n",
       "      <td>B</td>\n",
       "      <td>581</td>\n",
       "    </tr>\n",
       "    <tr>\n",
       "      <th>1</th>\n",
       "      <td>2019-08-02</td>\n",
       "      <td>A</td>\n",
       "      <td>619</td>\n",
       "    </tr>\n",
       "    <tr>\n",
       "      <th>2</th>\n",
       "      <td>2019-08-03</td>\n",
       "      <td>A</td>\n",
       "      <td>507</td>\n",
       "    </tr>\n",
       "    <tr>\n",
       "      <th>...</th>\n",
       "      <td>...</td>\n",
       "      <td>...</td>\n",
       "      <td>...</td>\n",
       "    </tr>\n",
       "    <tr>\n",
       "      <th>28</th>\n",
       "      <td>2019-08-29</td>\n",
       "      <td>A</td>\n",
       "      <td>577</td>\n",
       "    </tr>\n",
       "    <tr>\n",
       "      <th>29</th>\n",
       "      <td>2019-08-30</td>\n",
       "      <td>A</td>\n",
       "      <td>490</td>\n",
       "    </tr>\n",
       "    <tr>\n",
       "      <th>60</th>\n",
       "      <td>2019-08-30</td>\n",
       "      <td>B</td>\n",
       "      <td>490</td>\n",
       "    </tr>\n",
       "    <tr>\n",
       "      <th>30</th>\n",
       "      <td>2019-08-31</td>\n",
       "      <td>A</td>\n",
       "      <td>699</td>\n",
       "    </tr>\n",
       "    <tr>\n",
       "      <th>61</th>\n",
       "      <td>2019-08-31</td>\n",
       "      <td>B</td>\n",
       "      <td>718</td>\n",
       "    </tr>\n",
       "  </tbody>\n",
       "</table>\n",
       "<p>62 rows × 3 columns</p>\n",
       "</div>"
      ],
      "text/plain": [
       "         date group  visitors\n",
       "31 2019-08-01     B       713\n",
       "0  2019-08-01     A       719\n",
       "32 2019-08-02     B       581\n",
       "1  2019-08-02     A       619\n",
       "2  2019-08-03     A       507\n",
       "..        ...   ...       ...\n",
       "28 2019-08-29     A       577\n",
       "29 2019-08-30     A       490\n",
       "60 2019-08-30     B       490\n",
       "30 2019-08-31     A       699\n",
       "61 2019-08-31     B       718\n",
       "\n",
       "[62 rows x 3 columns]"
      ]
     },
     "execution_count": 20,
     "metadata": {},
     "output_type": "execute_result"
    }
   ],
   "source": [
    "# посмотрим динамику посетителей по дням, по группам \n",
    "visitors.sort_values(['date','visitors', 'group'])"
   ]
  },
  {
   "cell_type": "code",
   "execution_count": 21,
   "metadata": {},
   "outputs": [],
   "source": [
    "# отразим на графике динамику посещений \n",
    "visitors_groupA = visitors.query('group == \"A\"')\n",
    "visitors_groupB = visitors.query('group == \"B\"')\n",
    "#visitors.sort_values(['date','visitors', 'group'])\n",
    "visitors_groupA = visitors_groupA.sort_values(['date','visitors'])\n",
    "visitors_groupB = visitors_groupA.sort_values(['date','visitors'])"
   ]
  },
  {
   "cell_type": "code",
   "execution_count": 22,
   "metadata": {},
   "outputs": [
    {
     "data": {
      "text/plain": [
       "[<matplotlib.lines.Line2D at 0x7f0399deea00>]"
      ]
     },
     "execution_count": 22,
     "metadata": {},
     "output_type": "execute_result"
    },
    {
     "data": {
      "image/png": "[encoded data removed]",
      "text/plain": [
       "<Figure size 432x288 with 2 Axes>"
      ]
     },
     "metadata": {
      "needs_background": "light"
     },
     "output_type": "display_data"
    }
   ],
   "source": [
    "fig, axs = plt.subplots(nrows= 2 , ncols= 1 )\n",
    "fig. suptitle('динамику посетителей по дням, по группам ')\n",
    "axs[0].plot(visitors_groupA['date'], visitors_groupB['visitors'])\n",
    "axs[1].plot(visitors_groupB['date'], visitors_groupB['visitors'])"
   ]
  },
  {
   "cell_type": "markdown",
   "metadata": {},
   "source": [
    "Графики посещений очень похожи. Потому что, как мы видели в таблице выше динамика по группам не сильно отличается. Например, в 1 день в двух группах сделали по 490 человек покупки, а в другой 699 человек в группе А и 718 в группе В. Поэтому на графике они кажутся почти идентичными. "
   ]
  },
  {
   "cell_type": "code",
   "execution_count": 23,
   "metadata": {},
   "outputs": [],
   "source": [
    "#уберем явные дубликаты перед расчетом кумулятивных метрик\n",
    "datesGroups = orders[['date','group']].drop_duplicates() "
   ]
  },
  {
   "cell_type": "code",
   "execution_count": 24,
   "metadata": {},
   "outputs": [
    {
     "data": {
      "text/html": [
       "<div>\n",
       "<style scoped>\n",
       "    .dataframe tbody tr th:only-of-type {\n",
       "        vertical-align: middle;\n",
       "    }\n",
       "\n",
       "    .dataframe tbody tr th {\n",
       "        vertical-align: top;\n",
       "    }\n",
       "\n",
       "    .dataframe thead th {\n",
       "        text-align: right;\n",
       "    }\n",
       "</style>\n",
       "<table border=\"1\" class=\"dataframe\">\n",
       "  <thead>\n",
       "    <tr style=\"text-align: right;\">\n",
       "      <th></th>\n",
       "      <th>date</th>\n",
       "      <th>group</th>\n",
       "    </tr>\n",
       "  </thead>\n",
       "  <tbody>\n",
       "    <tr>\n",
       "      <th>0</th>\n",
       "      <td>2019-08-15</td>\n",
       "      <td>B</td>\n",
       "    </tr>\n",
       "    <tr>\n",
       "      <th>2</th>\n",
       "      <td>2019-08-15</td>\n",
       "      <td>A</td>\n",
       "    </tr>\n",
       "    <tr>\n",
       "      <th>45</th>\n",
       "      <td>2019-08-16</td>\n",
       "      <td>A</td>\n",
       "    </tr>\n",
       "    <tr>\n",
       "      <th>47</th>\n",
       "      <td>2019-08-16</td>\n",
       "      <td>B</td>\n",
       "    </tr>\n",
       "    <tr>\n",
       "      <th>55</th>\n",
       "      <td>2019-08-01</td>\n",
       "      <td>A</td>\n",
       "    </tr>\n",
       "  </tbody>\n",
       "</table>\n",
       "</div>"
      ],
      "text/plain": [
       "         date group\n",
       "0  2019-08-15     B\n",
       "2  2019-08-15     A\n",
       "45 2019-08-16     A\n",
       "47 2019-08-16     B\n",
       "55 2019-08-01     A"
      ]
     },
     "execution_count": 24,
     "metadata": {},
     "output_type": "execute_result"
    }
   ],
   "source": [
    "datesGroups.head()"
   ]
  },
  {
   "cell_type": "code",
   "execution_count": 25,
   "metadata": {},
   "outputs": [],
   "source": [
    "#посмотрим равны ли группы А и В при выборке\n",
    "datesGroups_lenA = len(datesGroups[datesGroups['group']== 'A'])"
   ]
  },
  {
   "cell_type": "code",
   "execution_count": 26,
   "metadata": {},
   "outputs": [
    {
     "data": {
      "text/plain": [
       "'Количество людей в группе А равно:'"
      ]
     },
     "metadata": {},
     "output_type": "display_data"
    },
    {
     "data": {
      "text/plain": [
       "31"
      ]
     },
     "metadata": {},
     "output_type": "display_data"
    },
    {
     "data": {
      "text/plain": [
       "'Количество людей в группе B равно:'"
      ]
     },
     "metadata": {},
     "output_type": "display_data"
    },
    {
     "data": {
      "text/plain": [
       "31"
      ]
     },
     "metadata": {},
     "output_type": "display_data"
    }
   ],
   "source": [
    "datesGroups_lenB = len(datesGroups[datesGroups['group']== 'B'])  \n",
    "                \n",
    "display('Количество людей в группе А равно:', datesGroups_lenA)      \n",
    "display('Количество людей в группе B равно:', datesGroups_lenB)                          "
   ]
  },
  {
   "cell_type": "code",
   "execution_count": 27,
   "metadata": {},
   "outputs": [
    {
     "data": {
      "text/html": [
       "<div>\n",
       "<style scoped>\n",
       "    .dataframe tbody tr th:only-of-type {\n",
       "        vertical-align: middle;\n",
       "    }\n",
       "\n",
       "    .dataframe tbody tr th {\n",
       "        vertical-align: top;\n",
       "    }\n",
       "\n",
       "    .dataframe thead th {\n",
       "        text-align: right;\n",
       "    }\n",
       "</style>\n",
       "<table border=\"1\" class=\"dataframe\">\n",
       "  <thead>\n",
       "    <tr style=\"text-align: right;\">\n",
       "      <th></th>\n",
       "      <th>transactionId</th>\n",
       "      <th>visitorId</th>\n",
       "      <th>date</th>\n",
       "      <th>revenue</th>\n",
       "      <th>group</th>\n",
       "    </tr>\n",
       "  </thead>\n",
       "  <tbody>\n",
       "    <tr>\n",
       "      <th>0</th>\n",
       "      <td>3667963787</td>\n",
       "      <td>3312258926</td>\n",
       "      <td>2019-08-15</td>\n",
       "      <td>1650</td>\n",
       "      <td>B</td>\n",
       "    </tr>\n",
       "    <tr>\n",
       "      <th>1</th>\n",
       "      <td>2804400009</td>\n",
       "      <td>3642806036</td>\n",
       "      <td>2019-08-15</td>\n",
       "      <td>730</td>\n",
       "      <td>B</td>\n",
       "    </tr>\n",
       "    <tr>\n",
       "      <th>2</th>\n",
       "      <td>2961555356</td>\n",
       "      <td>4069496402</td>\n",
       "      <td>2019-08-15</td>\n",
       "      <td>400</td>\n",
       "      <td>A</td>\n",
       "    </tr>\n",
       "    <tr>\n",
       "      <th>3</th>\n",
       "      <td>3797467345</td>\n",
       "      <td>1196621759</td>\n",
       "      <td>2019-08-15</td>\n",
       "      <td>9759</td>\n",
       "      <td>B</td>\n",
       "    </tr>\n",
       "    <tr>\n",
       "      <th>4</th>\n",
       "      <td>2282983706</td>\n",
       "      <td>2322279887</td>\n",
       "      <td>2019-08-15</td>\n",
       "      <td>2308</td>\n",
       "      <td>B</td>\n",
       "    </tr>\n",
       "  </tbody>\n",
       "</table>\n",
       "</div>"
      ],
      "text/plain": [
       "   transactionId   visitorId       date  revenue group\n",
       "0     3667963787  3312258926 2019-08-15     1650     B\n",
       "1     2804400009  3642806036 2019-08-15      730     B\n",
       "2     2961555356  4069496402 2019-08-15      400     A\n",
       "3     3797467345  1196621759 2019-08-15     9759     B\n",
       "4     2282983706  2322279887 2019-08-15     2308     B"
      ]
     },
     "execution_count": 27,
     "metadata": {},
     "output_type": "execute_result"
    }
   ],
   "source": [
    "orders.head()"
   ]
  },
  {
   "cell_type": "markdown",
   "metadata": {},
   "source": [
    "Видим, что количество людей равно."
   ]
  },
  {
   "cell_type": "code",
   "execution_count": 28,
   "metadata": {},
   "outputs": [],
   "source": [
    "#число уникальных заказов в группе теста по указанную дату включительно\n",
    "ordersAggregated = datesGroups.apply(\n",
    "    lambda x: orders[np.logical_and(orders['date'] <= x['date'], orders['group'] == x['group'])].agg({\n",
    "'date' : 'max',\n",
    "'group' : 'max',\n",
    "'transactionId' : pd.Series.nunique,\n",
    "'visitorId' : pd.Series.nunique,\n",
    "'revenue' : 'sum'}), axis=1).sort_values(by=['date','group']) "
   ]
  },
  {
   "cell_type": "code",
   "execution_count": 29,
   "metadata": {},
   "outputs": [],
   "source": [
    "#количество уникальных посетителей в группе теста по указанную дату включительно\n",
    "visitorsAggregated = datesGroups.apply(\n",
    "    lambda x: visitors[np.logical_and(visitors['date'] <= x['date'], visitors['group'] == x['group'])].agg({\n",
    "'date' : 'max',\n",
    "'group' : 'max',\n",
    "'visitors' : 'sum'}), axis=1).sort_values(by=['date','group']) "
   ]
  },
  {
   "cell_type": "code",
   "execution_count": 30,
   "metadata": {},
   "outputs": [
    {
     "name": "stdout",
     "output_type": "stream",
     "text": [
      "<class 'pandas.core.frame.DataFrame'>\n",
      "Int64Index: 62 entries, 55 to 930\n",
      "Data columns (total 5 columns):\n",
      " #   Column         Non-Null Count  Dtype         \n",
      "---  ------         --------------  -----         \n",
      " 0   date           62 non-null     datetime64[ns]\n",
      " 1   group          62 non-null     object        \n",
      " 2   transactionId  62 non-null     int64         \n",
      " 3   visitorId      62 non-null     int64         \n",
      " 4   revenue        62 non-null     int64         \n",
      "dtypes: datetime64[ns](1), int64(3), object(1)\n",
      "memory usage: 2.9+ KB\n"
     ]
    }
   ],
   "source": [
    "ordersAggregated.info()"
   ]
  },
  {
   "cell_type": "code",
   "execution_count": 31,
   "metadata": {},
   "outputs": [],
   "source": [
    "#переведем столбец date в формат datetime\n",
    "ordersAggregated['date'] = pd.to_datetime(ordersAggregated['date'])"
   ]
  },
  {
   "cell_type": "code",
   "execution_count": 32,
   "metadata": {},
   "outputs": [],
   "source": [
    "#объединим таблицы\n",
    "cumulativeData = ordersAggregated.merge(visitorsAggregated, left_on=['date', 'group'], right_on=['date', 'group'])      \n",
    "# переназовем столбцы\n",
    "cumulativeData.rename(columns = {'transactionId' : 'orders', 'visitorId' : 'buyers'}, inplace = True) "
   ]
  },
  {
   "cell_type": "code",
   "execution_count": 33,
   "metadata": {},
   "outputs": [
    {
     "data": {
      "text/plain": [
       "'Минимальная дата для графика'"
      ]
     },
     "metadata": {},
     "output_type": "display_data"
    },
    {
     "data": {
      "text/plain": [
       "Timestamp('2019-08-01 00:00:00')"
      ]
     },
     "metadata": {},
     "output_type": "display_data"
    },
    {
     "data": {
      "text/plain": [
       "'Максимальная дата для графика'"
      ]
     },
     "metadata": {},
     "output_type": "display_data"
    },
    {
     "data": {
      "text/plain": [
       "Timestamp('2019-08-31 00:00:00')"
      ]
     },
     "metadata": {},
     "output_type": "display_data"
    }
   ],
   "source": [
    "# найдем минимальную и максимальную даты для графика\n",
    "display('Минимальная дата для графика', min(cumulativeData['date']))\n",
    "display('Максимальная дата для графика', max(cumulativeData['date']))"
   ]
  },
  {
   "cell_type": "markdown",
   "metadata": {},
   "source": [
    "### Построим график кумулятивной выручки по группам."
   ]
  },
  {
   "cell_type": "code",
   "execution_count": 34,
   "metadata": {},
   "outputs": [],
   "source": [
    "# конвертеры, которые позволяют использовать типы pandas в matplotlib  \n",
    "register_matplotlib_converters()"
   ]
  },
  {
   "cell_type": "code",
   "execution_count": 35,
   "metadata": {},
   "outputs": [],
   "source": [
    "# сохраним в переменных данные о датах, выручке и числе заказов в группах A и B\n",
    "cumulativeRevenueA = cumulativeData[cumulativeData['group']=='A'][['date','revenue', 'orders']]\n",
    "\n",
    "cumulativeRevenueB = cumulativeData[cumulativeData['group']=='B'][['date','revenue', 'orders']]"
   ]
  },
  {
   "cell_type": "code",
   "execution_count": 36,
   "metadata": {},
   "outputs": [
    {
     "data": {
      "image/png": "[encoded data removed]",
      "text/plain": [
       "<Figure size 1080x360 with 1 Axes>"
      ]
     },
     "metadata": {
      "needs_background": "light"
     },
     "output_type": "display_data"
    }
   ],
   "source": [
    "plt.figure(figsize=(15,5))\n",
    "plt.plot(cumulativeRevenueA['date'], cumulativeRevenueA['revenue'], label='Кум.выручка группы A')\n",
    "plt.plot(cumulativeRevenueB['date'], cumulativeRevenueB['revenue'], label='Кум.выручка группы B')\n",
    "plt.grid()\n",
    "plt.title('Кумулятивная выручка групп А и В')\n",
    "plt.legend() ;"
   ]
  },
  {
   "cell_type": "markdown",
   "metadata": {},
   "source": [
    "Вначале кумулятивная выручка обеих групп идет вровень. Где-то с 5 августа выручка группы В выбивается вперед. \n",
    "13 числа выручки снова приравниваются друг к другу, а затем выручка группы В уверенно растет вверх. Особенно выделяется скачок группы В сделанный в 18-19 числа. Видимо тогда были произведены особо крупные заказы или возросло их количество.\n",
    "\n"
   ]
  },
  {
   "cell_type": "markdown",
   "metadata": {},
   "source": [
    "### Построим график кумулятивного среднего чека по группам. "
   ]
  },
  {
   "cell_type": "code",
   "execution_count": 37,
   "metadata": {},
   "outputs": [
    {
     "data": {
      "image/png": "[encoded data removed]",
      "text/plain": [
       "<Figure size 1080x360 with 1 Axes>"
      ]
     },
     "metadata": {
      "needs_background": "light"
     },
     "output_type": "display_data"
    }
   ],
   "source": [
    "plt.figure(figsize=(15,5))\n",
    "plt.plot(cumulativeRevenueA['date'], cumulativeRevenueA['revenue']/cumulativeRevenueA['orders'], label='A')\n",
    "plt.plot(cumulativeRevenueB['date'], cumulativeRevenueB['revenue']/cumulativeRevenueB['orders'], label='B')\n",
    "plt.legend() \n",
    "plt.grid()\n",
    "plt.title('Кумулятивный средний чек групп А и В');"
   ]
  },
  {
   "cell_type": "code",
   "execution_count": 38,
   "metadata": {},
   "outputs": [
    {
     "data": {
      "text/html": [
       "<div>\n",
       "<style scoped>\n",
       "    .dataframe tbody tr th:only-of-type {\n",
       "        vertical-align: middle;\n",
       "    }\n",
       "\n",
       "    .dataframe tbody tr th {\n",
       "        vertical-align: top;\n",
       "    }\n",
       "\n",
       "    .dataframe thead th {\n",
       "        text-align: right;\n",
       "    }\n",
       "</style>\n",
       "<table border=\"1\" class=\"dataframe\">\n",
       "  <thead>\n",
       "    <tr style=\"text-align: right;\">\n",
       "      <th></th>\n",
       "      <th>date</th>\n",
       "      <th>revenue</th>\n",
       "      <th>orders</th>\n",
       "    </tr>\n",
       "  </thead>\n",
       "  <tbody>\n",
       "    <tr>\n",
       "      <th>0</th>\n",
       "      <td>2019-08-01</td>\n",
       "      <td>148579</td>\n",
       "      <td>24</td>\n",
       "    </tr>\n",
       "    <tr>\n",
       "      <th>2</th>\n",
       "      <td>2019-08-02</td>\n",
       "      <td>242401</td>\n",
       "      <td>44</td>\n",
       "    </tr>\n",
       "    <tr>\n",
       "      <th>4</th>\n",
       "      <td>2019-08-03</td>\n",
       "      <td>354874</td>\n",
       "      <td>68</td>\n",
       "    </tr>\n",
       "    <tr>\n",
       "      <th>6</th>\n",
       "      <td>2019-08-04</td>\n",
       "      <td>425699</td>\n",
       "      <td>84</td>\n",
       "    </tr>\n",
       "    <tr>\n",
       "      <th>8</th>\n",
       "      <td>2019-08-05</td>\n",
       "      <td>549917</td>\n",
       "      <td>109</td>\n",
       "    </tr>\n",
       "    <tr>\n",
       "      <th>10</th>\n",
       "      <td>2019-08-06</td>\n",
       "      <td>598401</td>\n",
       "      <td>127</td>\n",
       "    </tr>\n",
       "    <tr>\n",
       "      <th>12</th>\n",
       "      <td>2019-08-07</td>\n",
       "      <td>740818</td>\n",
       "      <td>145</td>\n",
       "    </tr>\n",
       "    <tr>\n",
       "      <th>14</th>\n",
       "      <td>2019-08-08</td>\n",
       "      <td>837097</td>\n",
       "      <td>161</td>\n",
       "    </tr>\n",
       "    <tr>\n",
       "      <th>16</th>\n",
       "      <td>2019-08-09</td>\n",
       "      <td>1025603</td>\n",
       "      <td>177</td>\n",
       "    </tr>\n",
       "    <tr>\n",
       "      <th>18</th>\n",
       "      <td>2019-08-10</td>\n",
       "      <td>1236098</td>\n",
       "      <td>193</td>\n",
       "    </tr>\n",
       "    <tr>\n",
       "      <th>20</th>\n",
       "      <td>2019-08-11</td>\n",
       "      <td>1313683</td>\n",
       "      <td>206</td>\n",
       "    </tr>\n",
       "    <tr>\n",
       "      <th>22</th>\n",
       "      <td>2019-08-12</td>\n",
       "      <td>1562873</td>\n",
       "      <td>230</td>\n",
       "    </tr>\n",
       "    <tr>\n",
       "      <th>24</th>\n",
       "      <td>2019-08-13</td>\n",
       "      <td>1826511</td>\n",
       "      <td>244</td>\n",
       "    </tr>\n",
       "    <tr>\n",
       "      <th>26</th>\n",
       "      <td>2019-08-14</td>\n",
       "      <td>1890852</td>\n",
       "      <td>268</td>\n",
       "    </tr>\n",
       "    <tr>\n",
       "      <th>28</th>\n",
       "      <td>2019-08-15</td>\n",
       "      <td>1979057</td>\n",
       "      <td>283</td>\n",
       "    </tr>\n",
       "    <tr>\n",
       "      <th>30</th>\n",
       "      <td>2019-08-16</td>\n",
       "      <td>2078908</td>\n",
       "      <td>301</td>\n",
       "    </tr>\n",
       "    <tr>\n",
       "      <th>32</th>\n",
       "      <td>2019-08-17</td>\n",
       "      <td>2129769</td>\n",
       "      <td>311</td>\n",
       "    </tr>\n",
       "    <tr>\n",
       "      <th>34</th>\n",
       "      <td>2019-08-18</td>\n",
       "      <td>2202167</td>\n",
       "      <td>328</td>\n",
       "    </tr>\n",
       "    <tr>\n",
       "      <th>36</th>\n",
       "      <td>2019-08-19</td>\n",
       "      <td>2391910</td>\n",
       "      <td>350</td>\n",
       "    </tr>\n",
       "    <tr>\n",
       "      <th>38</th>\n",
       "      <td>2019-08-20</td>\n",
       "      <td>2469529</td>\n",
       "      <td>362</td>\n",
       "    </tr>\n",
       "    <tr>\n",
       "      <th>40</th>\n",
       "      <td>2019-08-21</td>\n",
       "      <td>2643838</td>\n",
       "      <td>385</td>\n",
       "    </tr>\n",
       "    <tr>\n",
       "      <th>42</th>\n",
       "      <td>2019-08-22</td>\n",
       "      <td>2756579</td>\n",
       "      <td>401</td>\n",
       "    </tr>\n",
       "    <tr>\n",
       "      <th>44</th>\n",
       "      <td>2019-08-23</td>\n",
       "      <td>2874367</td>\n",
       "      <td>426</td>\n",
       "    </tr>\n",
       "    <tr>\n",
       "      <th>46</th>\n",
       "      <td>2019-08-24</td>\n",
       "      <td>3002070</td>\n",
       "      <td>441</td>\n",
       "    </tr>\n",
       "    <tr>\n",
       "      <th>48</th>\n",
       "      <td>2019-08-25</td>\n",
       "      <td>3070704</td>\n",
       "      <td>451</td>\n",
       "    </tr>\n",
       "    <tr>\n",
       "      <th>50</th>\n",
       "      <td>2019-08-26</td>\n",
       "      <td>3227918</td>\n",
       "      <td>467</td>\n",
       "    </tr>\n",
       "    <tr>\n",
       "      <th>52</th>\n",
       "      <td>2019-08-27</td>\n",
       "      <td>3514698</td>\n",
       "      <td>495</td>\n",
       "    </tr>\n",
       "    <tr>\n",
       "      <th>54</th>\n",
       "      <td>2019-08-28</td>\n",
       "      <td>3615820</td>\n",
       "      <td>512</td>\n",
       "    </tr>\n",
       "    <tr>\n",
       "      <th>56</th>\n",
       "      <td>2019-08-29</td>\n",
       "      <td>3936510</td>\n",
       "      <td>534</td>\n",
       "    </tr>\n",
       "    <tr>\n",
       "      <th>58</th>\n",
       "      <td>2019-08-30</td>\n",
       "      <td>4022970</td>\n",
       "      <td>545</td>\n",
       "    </tr>\n",
       "    <tr>\n",
       "      <th>60</th>\n",
       "      <td>2019-08-31</td>\n",
       "      <td>4084803</td>\n",
       "      <td>557</td>\n",
       "    </tr>\n",
       "  </tbody>\n",
       "</table>\n",
       "</div>"
      ],
      "text/plain": [
       "         date  revenue  orders\n",
       "0  2019-08-01   148579      24\n",
       "2  2019-08-02   242401      44\n",
       "4  2019-08-03   354874      68\n",
       "6  2019-08-04   425699      84\n",
       "8  2019-08-05   549917     109\n",
       "10 2019-08-06   598401     127\n",
       "12 2019-08-07   740818     145\n",
       "14 2019-08-08   837097     161\n",
       "16 2019-08-09  1025603     177\n",
       "18 2019-08-10  1236098     193\n",
       "20 2019-08-11  1313683     206\n",
       "22 2019-08-12  1562873     230\n",
       "24 2019-08-13  1826511     244\n",
       "26 2019-08-14  1890852     268\n",
       "28 2019-08-15  1979057     283\n",
       "30 2019-08-16  2078908     301\n",
       "32 2019-08-17  2129769     311\n",
       "34 2019-08-18  2202167     328\n",
       "36 2019-08-19  2391910     350\n",
       "38 2019-08-20  2469529     362\n",
       "40 2019-08-21  2643838     385\n",
       "42 2019-08-22  2756579     401\n",
       "44 2019-08-23  2874367     426\n",
       "46 2019-08-24  3002070     441\n",
       "48 2019-08-25  3070704     451\n",
       "50 2019-08-26  3227918     467\n",
       "52 2019-08-27  3514698     495\n",
       "54 2019-08-28  3615820     512\n",
       "56 2019-08-29  3936510     534\n",
       "58 2019-08-30  4022970     545\n",
       "60 2019-08-31  4084803     557"
      ]
     },
     "metadata": {},
     "output_type": "display_data"
    },
    {
     "data": {
      "text/html": [
       "<div>\n",
       "<style scoped>\n",
       "    .dataframe tbody tr th:only-of-type {\n",
       "        vertical-align: middle;\n",
       "    }\n",
       "\n",
       "    .dataframe tbody tr th {\n",
       "        vertical-align: top;\n",
       "    }\n",
       "\n",
       "    .dataframe thead th {\n",
       "        text-align: right;\n",
       "    }\n",
       "</style>\n",
       "<table border=\"1\" class=\"dataframe\">\n",
       "  <thead>\n",
       "    <tr style=\"text-align: right;\">\n",
       "      <th></th>\n",
       "      <th>date</th>\n",
       "      <th>revenue</th>\n",
       "      <th>orders</th>\n",
       "    </tr>\n",
       "  </thead>\n",
       "  <tbody>\n",
       "    <tr>\n",
       "      <th>1</th>\n",
       "      <td>2019-08-01</td>\n",
       "      <td>101217</td>\n",
       "      <td>21</td>\n",
       "    </tr>\n",
       "    <tr>\n",
       "      <th>3</th>\n",
       "      <td>2019-08-02</td>\n",
       "      <td>266748</td>\n",
       "      <td>45</td>\n",
       "    </tr>\n",
       "    <tr>\n",
       "      <th>5</th>\n",
       "      <td>2019-08-03</td>\n",
       "      <td>380996</td>\n",
       "      <td>61</td>\n",
       "    </tr>\n",
       "    <tr>\n",
       "      <th>7</th>\n",
       "      <td>2019-08-04</td>\n",
       "      <td>489567</td>\n",
       "      <td>78</td>\n",
       "    </tr>\n",
       "    <tr>\n",
       "      <th>9</th>\n",
       "      <td>2019-08-05</td>\n",
       "      <td>581995</td>\n",
       "      <td>101</td>\n",
       "    </tr>\n",
       "    <tr>\n",
       "      <th>11</th>\n",
       "      <td>2019-08-06</td>\n",
       "      <td>824337</td>\n",
       "      <td>129</td>\n",
       "    </tr>\n",
       "    <tr>\n",
       "      <th>13</th>\n",
       "      <td>2019-08-07</td>\n",
       "      <td>1049671</td>\n",
       "      <td>153</td>\n",
       "    </tr>\n",
       "    <tr>\n",
       "      <th>15</th>\n",
       "      <td>2019-08-08</td>\n",
       "      <td>1270589</td>\n",
       "      <td>180</td>\n",
       "    </tr>\n",
       "    <tr>\n",
       "      <th>17</th>\n",
       "      <td>2019-08-09</td>\n",
       "      <td>1431401</td>\n",
       "      <td>205</td>\n",
       "    </tr>\n",
       "    <tr>\n",
       "      <th>19</th>\n",
       "      <td>2019-08-10</td>\n",
       "      <td>1539203</td>\n",
       "      <td>228</td>\n",
       "    </tr>\n",
       "    <tr>\n",
       "      <th>21</th>\n",
       "      <td>2019-08-11</td>\n",
       "      <td>1592513</td>\n",
       "      <td>241</td>\n",
       "    </tr>\n",
       "    <tr>\n",
       "      <th>23</th>\n",
       "      <td>2019-08-12</td>\n",
       "      <td>1734067</td>\n",
       "      <td>264</td>\n",
       "    </tr>\n",
       "    <tr>\n",
       "      <th>25</th>\n",
       "      <td>2019-08-13</td>\n",
       "      <td>1853738</td>\n",
       "      <td>285</td>\n",
       "    </tr>\n",
       "    <tr>\n",
       "      <th>27</th>\n",
       "      <td>2019-08-14</td>\n",
       "      <td>2025446</td>\n",
       "      <td>308</td>\n",
       "    </tr>\n",
       "    <tr>\n",
       "      <th>29</th>\n",
       "      <td>2019-08-15</td>\n",
       "      <td>2367945</td>\n",
       "      <td>339</td>\n",
       "    </tr>\n",
       "    <tr>\n",
       "      <th>31</th>\n",
       "      <td>2019-08-16</td>\n",
       "      <td>2539635</td>\n",
       "      <td>359</td>\n",
       "    </tr>\n",
       "    <tr>\n",
       "      <th>33</th>\n",
       "      <td>2019-08-17</td>\n",
       "      <td>2620790</td>\n",
       "      <td>373</td>\n",
       "    </tr>\n",
       "    <tr>\n",
       "      <th>35</th>\n",
       "      <td>2019-08-18</td>\n",
       "      <td>2686621</td>\n",
       "      <td>382</td>\n",
       "    </tr>\n",
       "    <tr>\n",
       "      <th>37</th>\n",
       "      <td>2019-08-19</td>\n",
       "      <td>4116541</td>\n",
       "      <td>403</td>\n",
       "    </tr>\n",
       "    <tr>\n",
       "      <th>39</th>\n",
       "      <td>2019-08-20</td>\n",
       "      <td>4263815</td>\n",
       "      <td>423</td>\n",
       "    </tr>\n",
       "    <tr>\n",
       "      <th>41</th>\n",
       "      <td>2019-08-21</td>\n",
       "      <td>4426892</td>\n",
       "      <td>437</td>\n",
       "    </tr>\n",
       "    <tr>\n",
       "      <th>43</th>\n",
       "      <td>2019-08-22</td>\n",
       "      <td>4589247</td>\n",
       "      <td>462</td>\n",
       "    </tr>\n",
       "    <tr>\n",
       "      <th>45</th>\n",
       "      <td>2019-08-23</td>\n",
       "      <td>4703216</td>\n",
       "      <td>477</td>\n",
       "    </tr>\n",
       "    <tr>\n",
       "      <th>47</th>\n",
       "      <td>2019-08-24</td>\n",
       "      <td>4798722</td>\n",
       "      <td>493</td>\n",
       "    </tr>\n",
       "    <tr>\n",
       "      <th>49</th>\n",
       "      <td>2019-08-25</td>\n",
       "      <td>4901584</td>\n",
       "      <td>507</td>\n",
       "    </tr>\n",
       "    <tr>\n",
       "      <th>51</th>\n",
       "      <td>2019-08-26</td>\n",
       "      <td>5084583</td>\n",
       "      <td>532</td>\n",
       "    </tr>\n",
       "    <tr>\n",
       "      <th>53</th>\n",
       "      <td>2019-08-27</td>\n",
       "      <td>5232260</td>\n",
       "      <td>548</td>\n",
       "    </tr>\n",
       "    <tr>\n",
       "      <th>55</th>\n",
       "      <td>2019-08-28</td>\n",
       "      <td>5328268</td>\n",
       "      <td>576</td>\n",
       "    </tr>\n",
       "    <tr>\n",
       "      <th>57</th>\n",
       "      <td>2019-08-29</td>\n",
       "      <td>5559398</td>\n",
       "      <td>596</td>\n",
       "    </tr>\n",
       "    <tr>\n",
       "      <th>59</th>\n",
       "      <td>2019-08-30</td>\n",
       "      <td>5774631</td>\n",
       "      <td>620</td>\n",
       "    </tr>\n",
       "    <tr>\n",
       "      <th>61</th>\n",
       "      <td>2019-08-31</td>\n",
       "      <td>5907760</td>\n",
       "      <td>640</td>\n",
       "    </tr>\n",
       "  </tbody>\n",
       "</table>\n",
       "</div>"
      ],
      "text/plain": [
       "         date  revenue  orders\n",
       "1  2019-08-01   101217      21\n",
       "3  2019-08-02   266748      45\n",
       "5  2019-08-03   380996      61\n",
       "7  2019-08-04   489567      78\n",
       "9  2019-08-05   581995     101\n",
       "11 2019-08-06   824337     129\n",
       "13 2019-08-07  1049671     153\n",
       "15 2019-08-08  1270589     180\n",
       "17 2019-08-09  1431401     205\n",
       "19 2019-08-10  1539203     228\n",
       "21 2019-08-11  1592513     241\n",
       "23 2019-08-12  1734067     264\n",
       "25 2019-08-13  1853738     285\n",
       "27 2019-08-14  2025446     308\n",
       "29 2019-08-15  2367945     339\n",
       "31 2019-08-16  2539635     359\n",
       "33 2019-08-17  2620790     373\n",
       "35 2019-08-18  2686621     382\n",
       "37 2019-08-19  4116541     403\n",
       "39 2019-08-20  4263815     423\n",
       "41 2019-08-21  4426892     437\n",
       "43 2019-08-22  4589247     462\n",
       "45 2019-08-23  4703216     477\n",
       "47 2019-08-24  4798722     493\n",
       "49 2019-08-25  4901584     507\n",
       "51 2019-08-26  5084583     532\n",
       "53 2019-08-27  5232260     548\n",
       "55 2019-08-28  5328268     576\n",
       "57 2019-08-29  5559398     596\n",
       "59 2019-08-30  5774631     620\n",
       "61 2019-08-31  5907760     640"
      ]
     },
     "metadata": {},
     "output_type": "display_data"
    }
   ],
   "source": [
    "# посмотрим почему кумулятивное среднее по чекам выше в группе В, чем в группе А\n",
    "cumulativeRevenueA.head()\n",
    "display(cumulativeRevenueA.sort_values(['date','orders', 'revenue']))\n",
    "display(cumulativeRevenueB.sort_values(['date','orders', 'revenue']))"
   ]
  },
  {
   "cell_type": "markdown",
   "metadata": {},
   "source": [
    "Кумулятивное среднее по чекам в группе В по предварительной оценке выше, чем в группе А. Самый разкий скачок был в период с 18 по 19 число, когда группа В вырвалась в лидеры.\n",
    "\n",
    "Потому что, в период с 17 по 21 в группе А было  311 чеков (за 17 августа) и 385 чеков (за 21 августа). А по выручке было 2 129 769  за 17 число и  2 643 838 за 21 число.\n",
    "\n",
    "А в группе В на 17 число уже было 373 чека. А на 21 их стало 437, то есть в группе В люди покупают чаще. Также эта группа вырвалась в лидеры и по сумме. Если на 17 число кумулятивное среднее по чекам было 2 620 790, то за 18 число оно перевалило за 4  116 541 рублей. А к 21 августа достигло  4 426 892. То соответственно группа В опережает группу А по количеству чеков и по их сумме."
   ]
  },
  {
   "cell_type": "markdown",
   "metadata": {},
   "source": [
    "### Построим график относительного изменения кумулятивного среднего чека группы B к группе A. "
   ]
  },
  {
   "cell_type": "code",
   "execution_count": 39,
   "metadata": {},
   "outputs": [],
   "source": [
    "#Объединим таблицы cumulativeRevenueA и cumulativeRevenueB методом merge()\n",
    "mergedCumulativeRevenue = cumulativeRevenueA.merge(cumulativeRevenueB, left_on='date', right_on='date', how='left', suffixes=['A', 'B']) "
   ]
  },
  {
   "cell_type": "code",
   "execution_count": 40,
   "metadata": {},
   "outputs": [
    {
     "name": "stderr",
     "output_type": "stream",
     "text": [
      "No handles with labels found to put in legend.\n"
     ]
    },
    {
     "data": {
      "image/png": "[encoded data removed]",
      "text/plain": [
       "<Figure size 1080x360 with 1 Axes>"
      ]
     },
     "metadata": {
      "needs_background": "light"
     },
     "output_type": "display_data"
    }
   ],
   "source": [
    "# cтроим отношение средних чеков\n",
    "plt.figure(figsize=(15,5))\n",
    "plt.plot(mergedCumulativeRevenue['date'], (mergedCumulativeRevenue['revenueB']/mergedCumulativeRevenue['ordersB'])/(mergedCumulativeRevenue['revenueA']/mergedCumulativeRevenue['ordersA'])-1)\n",
    "plt.legend() \n",
    "plt.grid()\n",
    "# добавляем ось X\n",
    "plt.axhline(y=0, color='black', linestyle='--') \n",
    "plt.title('График относительного изменения кумулятивного среднего чека группы B к группе A');"
   ]
  },
  {
   "cell_type": "markdown",
   "metadata": {},
   "source": [
    "Результаты теста иногда значительно менялись в определенные даты. Видимо тогда были совершены аномальные заказы."
   ]
  },
  {
   "cell_type": "markdown",
   "metadata": {},
   "source": [
    "### Построим график кумулятивного среднего количества заказов на посетителя по группам. "
   ]
  },
  {
   "cell_type": "code",
   "execution_count": 41,
   "metadata": {},
   "outputs": [],
   "source": [
    "# считаем кумулятивную конверсию\n",
    "cumulativeData['conversion'] = cumulativeData['orders']/cumulativeData['visitors']\n",
    "\n",
    "# отделяем данные по группе A\n",
    "cumulativeDataA = cumulativeData[cumulativeData['group']=='A']\n",
    "\n",
    "# отделяем данные по группе B\n",
    "cumulativeDataB = cumulativeData[cumulativeData['group']=='B']"
   ]
  },
  {
   "cell_type": "code",
   "execution_count": 42,
   "metadata": {},
   "outputs": [
    {
     "data": {
      "text/plain": [
       "'Минимальная дата для графика'"
      ]
     },
     "metadata": {},
     "output_type": "display_data"
    },
    {
     "data": {
      "text/plain": [
       "Timestamp('2019-08-01 00:00:00')"
      ]
     },
     "metadata": {},
     "output_type": "display_data"
    },
    {
     "data": {
      "text/plain": [
       "'Максимальная дата для графика'"
      ]
     },
     "metadata": {},
     "output_type": "display_data"
    },
    {
     "data": {
      "text/plain": [
       "Timestamp('2019-08-31 00:00:00')"
      ]
     },
     "metadata": {},
     "output_type": "display_data"
    }
   ],
   "source": [
    "# найдем минимальную и максимальную даты для графика\n",
    "display('Минимальная дата для графика', min(cumulativeDataA['date']))\n",
    "display('Максимальная дата для графика', max(cumulativeDataA['date']))"
   ]
  },
  {
   "cell_type": "code",
   "execution_count": 43,
   "metadata": {},
   "outputs": [
    {
     "data": {
      "image/png": "[encoded data removed]",
      "text/plain": [
       "<Figure size 1080x360 with 1 Axes>"
      ]
     },
     "metadata": {
      "needs_background": "light"
     },
     "output_type": "display_data"
    }
   ],
   "source": [
    "# строим графики\n",
    "plt.figure(figsize=(15,5))\n",
    "plt.grid()\n",
    "plt.plot(cumulativeDataA['date'], cumulativeDataA['conversion'], label='A')\n",
    "plt.plot(cumulativeDataB['date'], cumulativeDataB['conversion'], label='B')\n",
    "plt.legend()\n",
    "plt.title('График кумулятивного среднего количества заказов на посетителя по группам')\n",
    "plt.axis([dt.datetime(2019, 8, 1), dt.datetime(2019, 8, 31), 0, 0.04]);"
   ]
  },
  {
   "cell_type": "markdown",
   "metadata": {},
   "source": [
    "Хотя вначале графика лидирует группа А, но потом со 2 августа вверх вырывается группа В.\n",
    "Затем еще 3 числа был скачок, где  среднее количество заказов на посетителя выросло у группы А. Но после 6 августа группа В лидирует по этой метрике."
   ]
  },
  {
   "cell_type": "markdown",
   "metadata": {},
   "source": [
    "### Построим график относительного изменения кумулятивного среднего количества заказов на посетителя группы B к группе A."
   ]
  },
  {
   "cell_type": "code",
   "execution_count": 44,
   "metadata": {},
   "outputs": [],
   "source": [
    "# объединим таблицы cumulativeDataA и cumulativeDataB\n",
    "mergedCumulativeConversions = cumulativeDataA[['date','conversion']].merge(cumulativeDataB[['date','conversion']], left_on='date', right_on='date', how='left', suffixes=['A', 'B'])"
   ]
  },
  {
   "cell_type": "code",
   "execution_count": 45,
   "metadata": {},
   "outputs": [
    {
     "data": {
      "image/png": "[encoded data removed]",
      "text/plain": [
       "<Figure size 1080x360 with 1 Axes>"
      ]
     },
     "metadata": {
      "needs_background": "light"
     },
     "output_type": "display_data"
    }
   ],
   "source": [
    "# строим график\n",
    "plt.figure(figsize=(15,5))\n",
    "plt.grid()\n",
    "plt.plot(mergedCumulativeConversions['date'], mergedCumulativeConversions['conversionB']/mergedCumulativeConversions['conversionA']-1, label=\"Относительный прирост конверсии группы B относительно группы A\")\n",
    "plt.legend()\n",
    "\n",
    "\n",
    "plt.plot(mergedCumulativeConversions['date'], mergedCumulativeConversions['conversionB']/mergedCumulativeConversions['conversionA']-1, label=\"Относительный прирост конверсии группы B относительно группы A\")\n",
    "plt.legend()\n",
    "\n",
    "plt.title('График относительного изменения кумулятивного среднего количества заказов на посетителя группы B к группе A.')\n",
    "plt.axhline(y=0, color='black', linestyle='--')\n",
    "plt.axhline(y=0.2, color='green', linestyle='--')\n",
    "plt.axhline(y=0.1, color='grey', linestyle='--')\n",
    "plt.axis([dt.datetime(2019, 8, 1), dt.datetime(2019, 8, 31), -1, 1]);"
   ]
  },
  {
   "cell_type": "markdown",
   "metadata": {},
   "source": [
    "С 6 августа группа В начинает лидировать по конверсии. До этого первого числа была минусовая конверсия, затем 2 числа она выросла до 0.8 и до 6 августа снова ушла в минус. А после 6 августа уверенно начала расти.\n",
    "Она лишь раз досигает порога в 20%, где-то с 15 по 17 августа. Затем начинает снижаться и с 23 августа уверенно держит прирост в 10% относительно группы А."
   ]
  },
  {
   "cell_type": "markdown",
   "metadata": {},
   "source": [
    "### Построим точечный график количества заказов по пользователям."
   ]
  },
  {
   "cell_type": "code",
   "execution_count": 46,
   "metadata": {},
   "outputs": [
    {
     "data": {
      "text/html": [
       "<div>\n",
       "<style scoped>\n",
       "    .dataframe tbody tr th:only-of-type {\n",
       "        vertical-align: middle;\n",
       "    }\n",
       "\n",
       "    .dataframe tbody tr th {\n",
       "        vertical-align: top;\n",
       "    }\n",
       "\n",
       "    .dataframe thead th {\n",
       "        text-align: right;\n",
       "    }\n",
       "</style>\n",
       "<table border=\"1\" class=\"dataframe\">\n",
       "  <thead>\n",
       "    <tr style=\"text-align: right;\">\n",
       "      <th></th>\n",
       "      <th>transactionId</th>\n",
       "      <th>visitorId</th>\n",
       "      <th>date</th>\n",
       "      <th>revenue</th>\n",
       "      <th>group</th>\n",
       "    </tr>\n",
       "  </thead>\n",
       "  <tbody>\n",
       "    <tr>\n",
       "      <th>0</th>\n",
       "      <td>3667963787</td>\n",
       "      <td>3312258926</td>\n",
       "      <td>2019-08-15</td>\n",
       "      <td>1650</td>\n",
       "      <td>B</td>\n",
       "    </tr>\n",
       "    <tr>\n",
       "      <th>1</th>\n",
       "      <td>2804400009</td>\n",
       "      <td>3642806036</td>\n",
       "      <td>2019-08-15</td>\n",
       "      <td>730</td>\n",
       "      <td>B</td>\n",
       "    </tr>\n",
       "    <tr>\n",
       "      <th>2</th>\n",
       "      <td>2961555356</td>\n",
       "      <td>4069496402</td>\n",
       "      <td>2019-08-15</td>\n",
       "      <td>400</td>\n",
       "      <td>A</td>\n",
       "    </tr>\n",
       "    <tr>\n",
       "      <th>3</th>\n",
       "      <td>3797467345</td>\n",
       "      <td>1196621759</td>\n",
       "      <td>2019-08-15</td>\n",
       "      <td>9759</td>\n",
       "      <td>B</td>\n",
       "    </tr>\n",
       "    <tr>\n",
       "      <th>4</th>\n",
       "      <td>2282983706</td>\n",
       "      <td>2322279887</td>\n",
       "      <td>2019-08-15</td>\n",
       "      <td>2308</td>\n",
       "      <td>B</td>\n",
       "    </tr>\n",
       "  </tbody>\n",
       "</table>\n",
       "</div>"
      ],
      "text/plain": [
       "   transactionId   visitorId       date  revenue group\n",
       "0     3667963787  3312258926 2019-08-15     1650     B\n",
       "1     2804400009  3642806036 2019-08-15      730     B\n",
       "2     2961555356  4069496402 2019-08-15      400     A\n",
       "3     3797467345  1196621759 2019-08-15     9759     B\n",
       "4     2282983706  2322279887 2019-08-15     2308     B"
      ]
     },
     "execution_count": 46,
     "metadata": {},
     "output_type": "execute_result"
    }
   ],
   "source": [
    "orders.head()"
   ]
  },
  {
   "cell_type": "code",
   "execution_count": 47,
   "metadata": {},
   "outputs": [],
   "source": [
    "# Найдем число заказов по пользователям сделаем датафрейм c двумя столбцами: 'userId' и 'orders'. Назовем его ordersByUsers.\n",
    "ordersByUsers = (\n",
    "    orders.groupby('visitorId', as_index=False)\n",
    "    .agg({'transactionId': 'nunique'})\n",
    ")"
   ]
  },
  {
   "cell_type": "code",
   "execution_count": 48,
   "metadata": {},
   "outputs": [
    {
     "data": {
      "text/html": [
       "<div>\n",
       "<style scoped>\n",
       "    .dataframe tbody tr th:only-of-type {\n",
       "        vertical-align: middle;\n",
       "    }\n",
       "\n",
       "    .dataframe tbody tr th {\n",
       "        vertical-align: top;\n",
       "    }\n",
       "\n",
       "    .dataframe thead th {\n",
       "        text-align: right;\n",
       "    }\n",
       "</style>\n",
       "<table border=\"1\" class=\"dataframe\">\n",
       "  <thead>\n",
       "    <tr style=\"text-align: right;\">\n",
       "      <th></th>\n",
       "      <th>visitorId</th>\n",
       "      <th>transactionId</th>\n",
       "    </tr>\n",
       "  </thead>\n",
       "  <tbody>\n",
       "    <tr>\n",
       "      <th>0</th>\n",
       "      <td>5114589</td>\n",
       "      <td>1</td>\n",
       "    </tr>\n",
       "    <tr>\n",
       "      <th>1</th>\n",
       "      <td>6958315</td>\n",
       "      <td>1</td>\n",
       "    </tr>\n",
       "    <tr>\n",
       "      <th>2</th>\n",
       "      <td>8300375</td>\n",
       "      <td>2</td>\n",
       "    </tr>\n",
       "    <tr>\n",
       "      <th>3</th>\n",
       "      <td>11685486</td>\n",
       "      <td>1</td>\n",
       "    </tr>\n",
       "    <tr>\n",
       "      <th>4</th>\n",
       "      <td>39475350</td>\n",
       "      <td>1</td>\n",
       "    </tr>\n",
       "  </tbody>\n",
       "</table>\n",
       "</div>"
      ],
      "text/plain": [
       "   visitorId  transactionId\n",
       "0    5114589              1\n",
       "1    6958315              1\n",
       "2    8300375              2\n",
       "3   11685486              1\n",
       "4   39475350              1"
      ]
     },
     "execution_count": 48,
     "metadata": {},
     "output_type": "execute_result"
    }
   ],
   "source": [
    "ordersByUsers.head()"
   ]
  },
  {
   "cell_type": "code",
   "execution_count": 49,
   "metadata": {},
   "outputs": [],
   "source": [
    "ordersByUsers.columns = ['visitorId', 'transactionId']"
   ]
  },
  {
   "cell_type": "code",
   "execution_count": 50,
   "metadata": {},
   "outputs": [
    {
     "name": "stdout",
     "output_type": "stream",
     "text": [
      "       visitorId  transactionId\n",
      "1023  4256040402             11\n",
      "591   2458001652             11\n",
      "569   2378935119              9\n",
      "487   2038680547              8\n",
      "44     199603092              5\n",
      "744   3062433592              5\n",
      "55     237748145              5\n",
      "917   3803269165              5\n",
      "299   1230306981              5\n",
      "897   3717692402              5\n"
     ]
    }
   ],
   "source": [
    "print(ordersByUsers.sort_values(by='transactionId', ascending=False).head(10)) "
   ]
  },
  {
   "cell_type": "code",
   "execution_count": 51,
   "metadata": {},
   "outputs": [
    {
     "name": "stderr",
     "output_type": "stream",
     "text": [
      "No handles with labels found to put in legend.\n"
     ]
    },
    {
     "data": {
      "image/png": "[encoded data removed]",
      "text/plain": [
       "<Figure size 1080x360 with 1 Axes>"
      ]
     },
     "metadata": {
      "needs_background": "light"
     },
     "output_type": "display_data"
    }
   ],
   "source": [
    "#Построим гистограмму распределения числа заказов по пользователям методом hist().\n",
    "plt.figure(figsize=(15,5))\n",
    "plt.legend() \n",
    "plt.grid()\n",
    "plt.title('Гистограмма распределения числа заказов по пользователям методом hist()')\n",
    "plt.hist(ordersByUsers['transactionId']);"
   ]
  },
  {
   "cell_type": "markdown",
   "metadata": {},
   "source": [
    "Большинство пользователей совершило 1 заказ, таких пользователей было больше 800. Есть еще небольшое количество пользователей, которые совершили до 6 заказов и несколько аномальных пользователей, который сделал 10 заказов."
   ]
  },
  {
   "cell_type": "code",
   "execution_count": 52,
   "metadata": {},
   "outputs": [
    {
     "name": "stderr",
     "output_type": "stream",
     "text": [
      "No handles with labels found to put in legend.\n"
     ]
    },
    {
     "data": {
      "image/png": "[encoded data removed]",
      "text/plain": [
       "<Figure size 1080x360 with 1 Axes>"
      ]
     },
     "metadata": {
      "needs_background": "light"
     },
     "output_type": "display_data"
    }
   ],
   "source": [
    "# Построим диаграмму методом scatter()\n",
    "# серия из чисел от 0 до количества наблюдений в ordersByUsers\n",
    "\n",
    "x_values = pd.Series(range(0, len(ordersByUsers)))\n",
    "plt.figure(figsize=(15,5))\n",
    "plt.legend() \n",
    "plt.grid()\n",
    "plt.title('Гистограмма распределения числа заказов по пользователям методом scatter()')\n",
    "plt.scatter(x_values, ordersByUsers['transactionId']);"
   ]
  },
  {
   "cell_type": "markdown",
   "metadata": {},
   "source": [
    "Большинство заказов распределены до 5 штук на человека. Но есть еще люди, которые заказали более 8-10 раз. Но их очень мало. В основном люди делают по 1-2 заказа."
   ]
  },
  {
   "cell_type": "code",
   "execution_count": 53,
   "metadata": {},
   "outputs": [
    {
     "data": {
      "text/html": [
       "<div>\n",
       "<style scoped>\n",
       "    .dataframe tbody tr th:only-of-type {\n",
       "        vertical-align: middle;\n",
       "    }\n",
       "\n",
       "    .dataframe tbody tr th {\n",
       "        vertical-align: top;\n",
       "    }\n",
       "\n",
       "    .dataframe thead th {\n",
       "        text-align: right;\n",
       "    }\n",
       "</style>\n",
       "<table border=\"1\" class=\"dataframe\">\n",
       "  <thead>\n",
       "    <tr style=\"text-align: right;\">\n",
       "      <th></th>\n",
       "      <th>visitorId</th>\n",
       "      <th>transactionId</th>\n",
       "    </tr>\n",
       "  </thead>\n",
       "  <tbody>\n",
       "    <tr>\n",
       "      <th>0</th>\n",
       "      <td>5114589</td>\n",
       "      <td>1</td>\n",
       "    </tr>\n",
       "    <tr>\n",
       "      <th>1</th>\n",
       "      <td>6958315</td>\n",
       "      <td>1</td>\n",
       "    </tr>\n",
       "    <tr>\n",
       "      <th>2</th>\n",
       "      <td>8300375</td>\n",
       "      <td>2</td>\n",
       "    </tr>\n",
       "    <tr>\n",
       "      <th>3</th>\n",
       "      <td>11685486</td>\n",
       "      <td>1</td>\n",
       "    </tr>\n",
       "    <tr>\n",
       "      <th>4</th>\n",
       "      <td>39475350</td>\n",
       "      <td>1</td>\n",
       "    </tr>\n",
       "  </tbody>\n",
       "</table>\n",
       "</div>"
      ],
      "text/plain": [
       "   visitorId  transactionId\n",
       "0    5114589              1\n",
       "1    6958315              1\n",
       "2    8300375              2\n",
       "3   11685486              1\n",
       "4   39475350              1"
      ]
     },
     "execution_count": 53,
     "metadata": {},
     "output_type": "execute_result"
    }
   ],
   "source": [
    "ordersByUsers.head()"
   ]
  },
  {
   "cell_type": "markdown",
   "metadata": {},
   "source": [
    "### Посчитайте 95-й и 99-й перцентили количества заказов на пользователя. Выберите границу для определения аномальных пользователей."
   ]
  },
  {
   "cell_type": "code",
   "execution_count": 54,
   "metadata": {},
   "outputs": [
    {
     "name": "stdout",
     "output_type": "stream",
     "text": [
      "[1. 2. 4.]\n"
     ]
    }
   ],
   "source": [
    "# Метод np.percentile('column', [percentile1, percentile2, percentile3]) находит перцентили.\n",
    "print(np.percentile(ordersByUsers['transactionId'], [90, 95, 99])) "
   ]
  },
  {
   "cell_type": "markdown",
   "metadata": {},
   "source": [
    "Сейчас 95 и 99 перцентили равны 2 и 4. Не больше 95% пользователей совершали 2 покупки и не больше 99% 4 покупки b более."
   ]
  },
  {
   "cell_type": "markdown",
   "metadata": {},
   "source": [
    "За аномалии мы примем тех людей, которые сделали заказ больше 6 раз. Дальше мы будем делать срез по очищенным данным и отбросим тех, кто делал заказы более 6 раз."
   ]
  },
  {
   "cell_type": "markdown",
   "metadata": {},
   "source": [
    "### Посчитайте статистическую значимость различий в среднем количестве заказов на посетителя между группами по «сырым» данным. Сделайте выводы и предположения."
   ]
  },
  {
   "cell_type": "code",
   "execution_count": 55,
   "metadata": {},
   "outputs": [
    {
     "name": "stdout",
     "output_type": "stream",
     "text": [
      "      transactionId   visitorId       date  revenue group\n",
      "425       590470918  1920142716 2019-08-19  1294500     B\n",
      "1196     3936777065  2108080724 2019-08-15   202740     B\n",
      "858       192721366  1316129916 2019-08-27    93940     A\n",
      "1136      666610489  1307669133 2019-08-13    92550     A\n",
      "744      3668308183   888512513 2019-08-27    86620     B\n",
      "682      1216533772  4266935830 2019-08-29    78990     B\n",
      "662      1811671147  4266935830 2019-08-29    78990     A\n",
      "743      3603576309  4133034833 2019-08-09    67990     A\n",
      "1103     1348774318  1164614297 2019-08-12    66350     A\n",
      "1099      316924019   148427295 2019-08-12    65710     A\n"
     ]
    },
    {
     "data": {
      "image/png": "[encoded data removed]",
      "text/plain": [
       "<Figure size 1080x360 with 1 Axes>"
      ]
     },
     "metadata": {
      "needs_background": "light"
     },
     "output_type": "display_data"
    }
   ],
   "source": [
    "#Построим гистограмму распределения выручек ('revenue') с заказов по пользователям методом hist().\n",
    "print(orders.sort_values(by='revenue', ascending=False).head(10))\n",
    "plt.figure(figsize=(15,5)) \n",
    "plt.grid()\n",
    "plt.title('Построим гистограмму распределения выручек revenue с заказов по пользователям методом hist()')\n",
    "plt.hist(orders['revenue']);"
   ]
  },
  {
   "cell_type": "code",
   "execution_count": 56,
   "metadata": {},
   "outputs": [
    {
     "data": {
      "image/png": "[encoded data removed]",
      "text/plain": [
       "<Figure size 1080x360 with 1 Axes>"
      ]
     },
     "metadata": {
      "needs_background": "light"
     },
     "output_type": "display_data"
    }
   ],
   "source": [
    "# Постройте диаграмму методом scatter().\n",
    "x_values = pd.Series(range(0, len(orders['revenue'])))\n",
    "plt.figure(figsize=(15,5)) \n",
    "plt.grid()\n",
    "plt.title('Построим гистограмму распределения выручек revenue с заказов по пользователям методом scatter()')\n",
    "plt.scatter(x_values, orders['revenue']);"
   ]
  },
  {
   "cell_type": "markdown",
   "metadata": {},
   "source": [
    "По графикам видно, что выручка с заказов по пользователям достигает 1200. И большинство пользвателей совершает не больше 1 заказа."
   ]
  },
  {
   "cell_type": "code",
   "execution_count": 57,
   "metadata": {},
   "outputs": [
    {
     "name": "stdout",
     "output_type": "stream",
     "text": [
      "[18168.  28000.  58233.2]\n"
     ]
    }
   ],
   "source": [
    "#Посчитаем статистическую значимость различий в среднем количестве заказов на посетителя между группами по «сырым» данным методом np.percentile().\n",
    "print(np.percentile(orders['revenue'], [90, 95, 99])) "
   ]
  },
  {
   "cell_type": "markdown",
   "metadata": {},
   "source": [
    "Не больше 5% заказов имеют чек дороже 28 000 рублей и не больше 1% чек более 58 000 рублей. А у 90% людей сумма покупок не превышает 18 000 рублей."
   ]
  },
  {
   "cell_type": "markdown",
   "metadata": {},
   "source": [
    "### Посчитайте статистическую значимость различий в среднем чеке заказа между группами по «сырым» данным. Сделайте выводы и предположения."
   ]
  },
  {
   "cell_type": "code",
   "execution_count": 58,
   "metadata": {},
   "outputs": [],
   "source": [
    "visitorsADaily = visitors[visitors['group'] == 'A'][['date', 'visitors']]\n",
    "visitorsADaily.columns = ['date', 'visitorsPerDateA']"
   ]
  },
  {
   "cell_type": "code",
   "execution_count": 59,
   "metadata": {},
   "outputs": [],
   "source": [
    "visitorsACummulative = visitorsADaily.apply(\n",
    "    lambda x: visitorsADaily[visitorsADaily['date'] <= x['date']].agg(\n",
    "        {'date': 'max', 'visitorsPerDateA': 'sum'}\n",
    "    ),\n",
    "    axis=1,\n",
    ")"
   ]
  },
  {
   "cell_type": "code",
   "execution_count": 60,
   "metadata": {},
   "outputs": [],
   "source": [
    "visitorsACummulative.columns = ['date', 'visitorsCummulativeA']"
   ]
  },
  {
   "cell_type": "code",
   "execution_count": 61,
   "metadata": {},
   "outputs": [],
   "source": [
    "visitorsBDaily = visitors[visitors['group'] == 'B'][['date', 'visitors']]\n",
    "visitorsBDaily.columns = ['date', 'visitorsPerDateB']"
   ]
  },
  {
   "cell_type": "code",
   "execution_count": 62,
   "metadata": {},
   "outputs": [],
   "source": [
    "visitorsBCummulative = visitorsBDaily.apply(\n",
    "    lambda x: visitorsBDaily[visitorsBDaily['date'] <= x['date']].agg(\n",
    "        {'date': 'max', 'visitorsPerDateB': 'sum'}\n",
    "    ),\n",
    "    axis=1,\n",
    ")"
   ]
  },
  {
   "cell_type": "code",
   "execution_count": 63,
   "metadata": {},
   "outputs": [],
   "source": [
    "visitorsBCummulative.columns = ['date', 'visitorsCummulativeB']"
   ]
  },
  {
   "cell_type": "code",
   "execution_count": 64,
   "metadata": {},
   "outputs": [
    {
     "data": {
      "text/html": [
       "<div>\n",
       "<style scoped>\n",
       "    .dataframe tbody tr th:only-of-type {\n",
       "        vertical-align: middle;\n",
       "    }\n",
       "\n",
       "    .dataframe tbody tr th {\n",
       "        vertical-align: top;\n",
       "    }\n",
       "\n",
       "    .dataframe thead th {\n",
       "        text-align: right;\n",
       "    }\n",
       "</style>\n",
       "<table border=\"1\" class=\"dataframe\">\n",
       "  <thead>\n",
       "    <tr style=\"text-align: right;\">\n",
       "      <th></th>\n",
       "      <th>transactionId</th>\n",
       "      <th>visitorId</th>\n",
       "      <th>date</th>\n",
       "      <th>revenue</th>\n",
       "      <th>group</th>\n",
       "    </tr>\n",
       "  </thead>\n",
       "  <tbody>\n",
       "    <tr>\n",
       "      <th>0</th>\n",
       "      <td>3667963787</td>\n",
       "      <td>3312258926</td>\n",
       "      <td>2019-08-15</td>\n",
       "      <td>1650</td>\n",
       "      <td>B</td>\n",
       "    </tr>\n",
       "    <tr>\n",
       "      <th>1</th>\n",
       "      <td>2804400009</td>\n",
       "      <td>3642806036</td>\n",
       "      <td>2019-08-15</td>\n",
       "      <td>730</td>\n",
       "      <td>B</td>\n",
       "    </tr>\n",
       "    <tr>\n",
       "      <th>2</th>\n",
       "      <td>2961555356</td>\n",
       "      <td>4069496402</td>\n",
       "      <td>2019-08-15</td>\n",
       "      <td>400</td>\n",
       "      <td>A</td>\n",
       "    </tr>\n",
       "    <tr>\n",
       "      <th>3</th>\n",
       "      <td>3797467345</td>\n",
       "      <td>1196621759</td>\n",
       "      <td>2019-08-15</td>\n",
       "      <td>9759</td>\n",
       "      <td>B</td>\n",
       "    </tr>\n",
       "    <tr>\n",
       "      <th>4</th>\n",
       "      <td>2282983706</td>\n",
       "      <td>2322279887</td>\n",
       "      <td>2019-08-15</td>\n",
       "      <td>2308</td>\n",
       "      <td>B</td>\n",
       "    </tr>\n",
       "  </tbody>\n",
       "</table>\n",
       "</div>"
      ],
      "text/plain": [
       "   transactionId   visitorId       date  revenue group\n",
       "0     3667963787  3312258926 2019-08-15     1650     B\n",
       "1     2804400009  3642806036 2019-08-15      730     B\n",
       "2     2961555356  4069496402 2019-08-15      400     A\n",
       "3     3797467345  1196621759 2019-08-15     9759     B\n",
       "4     2282983706  2322279887 2019-08-15     2308     B"
      ]
     },
     "execution_count": 64,
     "metadata": {},
     "output_type": "execute_result"
    }
   ],
   "source": [
    "orders.head()"
   ]
  },
  {
   "cell_type": "code",
   "execution_count": 65,
   "metadata": {},
   "outputs": [],
   "source": [
    "ordersADaily = (\n",
    "    orders[orders['group'] == 'A'][['date', 'transactionId', 'visitorId', 'revenue']]\n",
    "    .groupby('date', as_index=False)\n",
    "    .agg({'transactionId': pd.Series.nunique, 'revenue': 'sum'})\n",
    ")\n",
    "ordersADaily.columns = ['date', 'ordersPerDateA', 'revenuePerDateA']"
   ]
  },
  {
   "cell_type": "code",
   "execution_count": 66,
   "metadata": {},
   "outputs": [],
   "source": [
    "ordersACummulative = ordersADaily.apply(\n",
    "    lambda x: ordersADaily[ordersADaily['date'] <= x['date']].agg(\n",
    "        {'date': 'max', 'ordersPerDateA': 'sum', 'revenuePerDateA': 'sum'}\n",
    "    ),\n",
    "    axis=1,\n",
    ").sort_values(by=['date'])\n",
    "ordersACummulative.columns = [\n",
    "    'date',\n",
    "    'ordersCummulativeA',\n",
    "    'revenueCummulativeA',\n",
    "]"
   ]
  },
  {
   "cell_type": "code",
   "execution_count": 67,
   "metadata": {},
   "outputs": [],
   "source": [
    "ordersBDaily = (\n",
    "    orders[orders['group'] == 'B'][['date', 'transactionId', 'visitorId', 'revenue']]\n",
    "    .groupby('date', as_index=False)\n",
    "    .agg({'transactionId': pd.Series.nunique, 'revenue': 'sum'})\n",
    ")"
   ]
  },
  {
   "cell_type": "code",
   "execution_count": 68,
   "metadata": {},
   "outputs": [],
   "source": [
    "ordersBDaily.columns = ['date', 'ordersPerDateB', 'revenuePerDateB']"
   ]
  },
  {
   "cell_type": "code",
   "execution_count": 69,
   "metadata": {},
   "outputs": [],
   "source": [
    "ordersBCummulative = ordersBDaily.apply(\n",
    "    lambda x: ordersBDaily[ordersBDaily['date'] <= x['date']].agg(\n",
    "        {'date': 'max', 'ordersPerDateB': 'sum', 'revenuePerDateB': 'sum'}\n",
    "    ),\n",
    "    axis=1,\n",
    ").sort_values(by=['date'])\n",
    "ordersBCummulative.columns = [\n",
    "    'date',\n",
    "    'ordersCummulativeB',\n",
    "    'revenueCummulativeB',\n",
    "]"
   ]
  },
  {
   "cell_type": "code",
   "execution_count": 70,
   "metadata": {},
   "outputs": [],
   "source": [
    "data = (\n",
    "    ordersADaily.merge(\n",
    "        ordersBDaily, left_on='date', right_on='date', how='left'\n",
    "    )\n",
    "    .merge(ordersACummulative, left_on='date', right_on='date', how='left')\n",
    "    .merge(ordersBCummulative, left_on='date', right_on='date', how='left')\n",
    "    .merge(visitorsADaily, left_on='date', right_on='date', how='left')\n",
    "    .merge(visitorsBDaily, left_on='date', right_on='date', how='left')\n",
    "    .merge(visitorsACummulative, left_on='date', right_on='date', how='left')\n",
    "    .merge(visitorsBCummulative, left_on='date', right_on='date', how='left')\n",
    ")"
   ]
  },
  {
   "cell_type": "code",
   "execution_count": 71,
   "metadata": {},
   "outputs": [
    {
     "data": {
      "text/html": [
       "<div>\n",
       "<style scoped>\n",
       "    .dataframe tbody tr th:only-of-type {\n",
       "        vertical-align: middle;\n",
       "    }\n",
       "\n",
       "    .dataframe tbody tr th {\n",
       "        vertical-align: top;\n",
       "    }\n",
       "\n",
       "    .dataframe thead th {\n",
       "        text-align: right;\n",
       "    }\n",
       "</style>\n",
       "<table border=\"1\" class=\"dataframe\">\n",
       "  <thead>\n",
       "    <tr style=\"text-align: right;\">\n",
       "      <th></th>\n",
       "      <th>transactionId</th>\n",
       "      <th>visitorId</th>\n",
       "      <th>date</th>\n",
       "      <th>revenue</th>\n",
       "      <th>group</th>\n",
       "    </tr>\n",
       "  </thead>\n",
       "  <tbody>\n",
       "    <tr>\n",
       "      <th>0</th>\n",
       "      <td>3667963787</td>\n",
       "      <td>3312258926</td>\n",
       "      <td>2019-08-15</td>\n",
       "      <td>1650</td>\n",
       "      <td>B</td>\n",
       "    </tr>\n",
       "    <tr>\n",
       "      <th>1</th>\n",
       "      <td>2804400009</td>\n",
       "      <td>3642806036</td>\n",
       "      <td>2019-08-15</td>\n",
       "      <td>730</td>\n",
       "      <td>B</td>\n",
       "    </tr>\n",
       "    <tr>\n",
       "      <th>2</th>\n",
       "      <td>2961555356</td>\n",
       "      <td>4069496402</td>\n",
       "      <td>2019-08-15</td>\n",
       "      <td>400</td>\n",
       "      <td>A</td>\n",
       "    </tr>\n",
       "    <tr>\n",
       "      <th>3</th>\n",
       "      <td>3797467345</td>\n",
       "      <td>1196621759</td>\n",
       "      <td>2019-08-15</td>\n",
       "      <td>9759</td>\n",
       "      <td>B</td>\n",
       "    </tr>\n",
       "    <tr>\n",
       "      <th>4</th>\n",
       "      <td>2282983706</td>\n",
       "      <td>2322279887</td>\n",
       "      <td>2019-08-15</td>\n",
       "      <td>2308</td>\n",
       "      <td>B</td>\n",
       "    </tr>\n",
       "  </tbody>\n",
       "</table>\n",
       "</div>"
      ],
      "text/plain": [
       "   transactionId   visitorId       date  revenue group\n",
       "0     3667963787  3312258926 2019-08-15     1650     B\n",
       "1     2804400009  3642806036 2019-08-15      730     B\n",
       "2     2961555356  4069496402 2019-08-15      400     A\n",
       "3     3797467345  1196621759 2019-08-15     9759     B\n",
       "4     2282983706  2322279887 2019-08-15     2308     B"
      ]
     },
     "execution_count": 71,
     "metadata": {},
     "output_type": "execute_result"
    }
   ],
   "source": [
    "orders.head()"
   ]
  },
  {
   "cell_type": "code",
   "execution_count": 72,
   "metadata": {},
   "outputs": [],
   "source": [
    "ordersByUsersA = (\n",
    "    orders[orders['group'] == 'A']\n",
    "    .groupby('visitorId', as_index=False)\n",
    "    .agg({'transactionId': pd.Series.nunique})\n",
    ")"
   ]
  },
  {
   "cell_type": "code",
   "execution_count": 73,
   "metadata": {},
   "outputs": [
    {
     "data": {
      "text/html": [
       "<div>\n",
       "<style scoped>\n",
       "    .dataframe tbody tr th:only-of-type {\n",
       "        vertical-align: middle;\n",
       "    }\n",
       "\n",
       "    .dataframe tbody tr th {\n",
       "        vertical-align: top;\n",
       "    }\n",
       "\n",
       "    .dataframe thead th {\n",
       "        text-align: right;\n",
       "    }\n",
       "</style>\n",
       "<table border=\"1\" class=\"dataframe\">\n",
       "  <thead>\n",
       "    <tr style=\"text-align: right;\">\n",
       "      <th></th>\n",
       "      <th>visitorId</th>\n",
       "      <th>transactionId</th>\n",
       "    </tr>\n",
       "  </thead>\n",
       "  <tbody>\n",
       "    <tr>\n",
       "      <th>0</th>\n",
       "      <td>8300375</td>\n",
       "      <td>1</td>\n",
       "    </tr>\n",
       "    <tr>\n",
       "      <th>1</th>\n",
       "      <td>11685486</td>\n",
       "      <td>1</td>\n",
       "    </tr>\n",
       "    <tr>\n",
       "      <th>2</th>\n",
       "      <td>54447517</td>\n",
       "      <td>1</td>\n",
       "    </tr>\n",
       "    <tr>\n",
       "      <th>3</th>\n",
       "      <td>66685450</td>\n",
       "      <td>1</td>\n",
       "    </tr>\n",
       "    <tr>\n",
       "      <th>4</th>\n",
       "      <td>78758296</td>\n",
       "      <td>1</td>\n",
       "    </tr>\n",
       "  </tbody>\n",
       "</table>\n",
       "</div>"
      ],
      "text/plain": [
       "   visitorId  transactionId\n",
       "0    8300375              1\n",
       "1   11685486              1\n",
       "2   54447517              1\n",
       "3   66685450              1\n",
       "4   78758296              1"
      ]
     },
     "execution_count": 73,
     "metadata": {},
     "output_type": "execute_result"
    }
   ],
   "source": [
    "ordersByUsersA.head()"
   ]
  },
  {
   "cell_type": "code",
   "execution_count": 74,
   "metadata": {},
   "outputs": [],
   "source": [
    "#  создадим переменные ordersByUsersA, где для пользователей, совершивших хотя бы 1 заказ, будет указано число заказов. \n",
    "ordersByUsersA.columns = ['userId', 'orders']"
   ]
  },
  {
   "cell_type": "code",
   "execution_count": 75,
   "metadata": {},
   "outputs": [],
   "source": [
    "ordersByUsersB = (\n",
    "    orders[orders['group'] == 'B']\n",
    "    .groupby('visitorId', as_index=False)\n",
    "    .agg({'transactionId': pd.Series.nunique})\n",
    ")"
   ]
  },
  {
   "cell_type": "code",
   "execution_count": 76,
   "metadata": {},
   "outputs": [],
   "source": [
    "#  создадим переменные ordersByUsersB, где для пользователей, совершивших хотя бы 1 заказ, будет указано число заказов. \n",
    "ordersByUsersB.columns = ['userId', 'orders'] "
   ]
  },
  {
   "cell_type": "code",
   "execution_count": 77,
   "metadata": {},
   "outputs": [],
   "source": [
    "# Объявим переменные sampleA и sampleB, в которых пользователям с заказами будет соответствовать число заказов пользователя. А пользователям без заказов — нули.\n",
    "sampleA = pd.concat([ordersByUsersA['orders'],pd.Series(0, index=np.arange(data['visitorsPerDateA'].sum() - len(ordersByUsersA['orders'])), name='orders')],axis=0)"
   ]
  },
  {
   "cell_type": "code",
   "execution_count": 78,
   "metadata": {},
   "outputs": [],
   "source": [
    "sampleB = pd.concat([ordersByUsersB['orders'],pd.Series(0, index=np.arange(data['visitorsPerDateB'].sum() - len(ordersByUsersB['orders'])), name='orders')],axis=0)"
   ]
  },
  {
   "cell_type": "code",
   "execution_count": 79,
   "metadata": {},
   "outputs": [
    {
     "data": {
      "text/plain": [
       "[0      1\n",
       " 1      1\n",
       " 2      1\n",
       " 3      1\n",
       " 4      1\n",
       "       ..\n",
       " 498    1\n",
       " 499    7\n",
       " 500    1\n",
       " 501    1\n",
       " 502    1\n",
       " Name: orders, Length: 503, dtype: int64,\n",
       " 0        0\n",
       " 1        0\n",
       " 2        0\n",
       " 3        0\n",
       " 4        0\n",
       "         ..\n",
       " 18228    0\n",
       " 18229    0\n",
       " 18230    0\n",
       " 18231    0\n",
       " 18232    0\n",
       " Name: orders, Length: 18233, dtype: int64]"
      ]
     },
     "execution_count": 79,
     "metadata": {},
     "output_type": "execute_result"
    }
   ],
   "source": [
    "pd.Series(0, index=np.arange(data['visitorsPerDateA'].sum() - len(ordersByUsersA['orders'])), name='orders')\n",
    "\n",
    "[ordersByUsersA['orders'],pd.Series(0, index=np.arange(data['visitorsPerDateA'].sum() - len(ordersByUsersA['orders'])), name='orders')] "
   ]
  },
  {
   "cell_type": "markdown",
   "metadata": {},
   "source": [
    "Применим статистический критерий Манна-Уитни к полученным выборкам. Нулевая гипотеза будет гласить: \"статистических различий в среднем между группами нет\". Альтернативная гипотеза гласит: \"статистические различия в среднем между группами есть.\""
   ]
  },
  {
   "cell_type": "code",
   "execution_count": 80,
   "metadata": {},
   "outputs": [
    {
     "name": "stdout",
     "output_type": "stream",
     "text": [
      "alpha = 0.05\n",
      "p-value для сравнения среднего между группами:\n",
      "0.01679\n",
      "Относительное различие в среднем между группами:\n",
      "0.13808\n"
     ]
    }
   ],
   "source": [
    "import scipy.stats as stats\n",
    "\n",
    "print('alpha =', 0.05)\n",
    "# Выведем p-value для сравнения среднего между группами.\n",
    "print('p-value для сравнения среднего между группами:')\n",
    "print(\"{0:.5f}\".format(stats.mannwhitneyu(sampleA, sampleB)[1]))\n",
    "\n",
    "# Вычислим и выведем относительное различие в среднем между группами.\n",
    "print('Относительное различие в среднем между группами:')\n",
    "print(\"{0:.5f}\".format(sampleB.mean() / sampleA.mean() - 1))"
   ]
  },
  {
   "cell_type": "markdown",
   "metadata": {},
   "source": [
    "p-value меньше, чем alpha. Значит мы можем отвергнуть нулевую гипотезу и принять во внимание альтернативную. Статистические различия в среднем между группами есть.\n",
    "Значит по сырым данным различия в среднем чеке есть."
   ]
  },
  {
   "cell_type": "markdown",
   "metadata": {},
   "source": [
    "### Посчитайте статистическую значимость различий в среднем чеке заказа между группами по «сырым» данным. "
   ]
  },
  {
   "cell_type": "markdown",
   "metadata": {},
   "source": [
    "Применим статистический критерий Манна-Уитни к полученным выборкам. Нулевая гипотеза будет гласить: \"статистических различий в среднем между группами нет\". Альтернативная гипотеза гласит: \"статистические различия в среднем между группами есть.\""
   ]
  },
  {
   "cell_type": "code",
   "execution_count": 81,
   "metadata": {},
   "outputs": [
    {
     "name": "stdout",
     "output_type": "stream",
     "text": [
      "alpha = 0.05\n",
      "p-value для сравнения среднего между группами:\n",
      "0.01679\n",
      "p-value = 0.729\n",
      "Относительный показатель 'B' и 'A' = 0.259\n"
     ]
    }
   ],
   "source": [
    "print('alpha =', 0.05)\n",
    "# Выведем p-value для сравнения среднего между группами.\n",
    "print('p-value для сравнения среднего между группами:')\n",
    "print(\"{0:.5f}\".format(stats.mannwhitneyu(sampleA, sampleB)[1]))\n",
    "\n",
    "print(\"p-value = {0:.3f}\".format(stats.mannwhitneyu(orders[orders['group']=='A']['revenue'], orders[orders['group']=='B']['revenue'], alternative = 'two-sided')[1]))\n",
    "\n",
    "print(\"Относительный показатель 'B' и 'A' = {0:.3f}\".format(orders[orders['group']=='B']['revenue'].mean()/orders[orders['group']=='A']['revenue'].mean()-1)) \n"
   ]
  },
  {
   "cell_type": "markdown",
   "metadata": {},
   "source": [
    "p-value больше 0.05, а значит нулевую теорию мы отвергнуть не можем. Соответственно, статистические различия в среднем чеке между группами нет."
   ]
  },
  {
   "cell_type": "markdown",
   "metadata": {},
   "source": [
    "### Посчитайте статистическую значимость различий в среднем количестве заказов на посетителя между группами по «очищенным» данным. Сделайте выводы и предположения."
   ]
  },
  {
   "cell_type": "markdown",
   "metadata": {},
   "source": [
    "Чтобы очистить данные сделаем срезы пользователей с числом заказов меньше 6 — usersWithManyOrders и пользователей, совершивших заказы дешевле 28 000 — usersWithExpensiveOrders. Объединим их в таблице abnormalUsers, удалим дубликаты, отсортируем по возрастанию. "
   ]
  },
  {
   "cell_type": "code",
   "execution_count": 82,
   "metadata": {},
   "outputs": [
    {
     "data": {
      "text/html": [
       "<div>\n",
       "<style scoped>\n",
       "    .dataframe tbody tr th:only-of-type {\n",
       "        vertical-align: middle;\n",
       "    }\n",
       "\n",
       "    .dataframe tbody tr th {\n",
       "        vertical-align: top;\n",
       "    }\n",
       "\n",
       "    .dataframe thead th {\n",
       "        text-align: right;\n",
       "    }\n",
       "</style>\n",
       "<table border=\"1\" class=\"dataframe\">\n",
       "  <thead>\n",
       "    <tr style=\"text-align: right;\">\n",
       "      <th></th>\n",
       "      <th>userId</th>\n",
       "      <th>orders</th>\n",
       "    </tr>\n",
       "  </thead>\n",
       "  <tbody>\n",
       "    <tr>\n",
       "      <th>0</th>\n",
       "      <td>8300375</td>\n",
       "      <td>1</td>\n",
       "    </tr>\n",
       "    <tr>\n",
       "      <th>1</th>\n",
       "      <td>11685486</td>\n",
       "      <td>1</td>\n",
       "    </tr>\n",
       "    <tr>\n",
       "      <th>2</th>\n",
       "      <td>54447517</td>\n",
       "      <td>1</td>\n",
       "    </tr>\n",
       "    <tr>\n",
       "      <th>3</th>\n",
       "      <td>66685450</td>\n",
       "      <td>1</td>\n",
       "    </tr>\n",
       "    <tr>\n",
       "      <th>4</th>\n",
       "      <td>78758296</td>\n",
       "      <td>1</td>\n",
       "    </tr>\n",
       "  </tbody>\n",
       "</table>\n",
       "</div>"
      ],
      "text/plain": [
       "     userId  orders\n",
       "0   8300375       1\n",
       "1  11685486       1\n",
       "2  54447517       1\n",
       "3  66685450       1\n",
       "4  78758296       1"
      ]
     },
     "execution_count": 82,
     "metadata": {},
     "output_type": "execute_result"
    }
   ],
   "source": [
    "ordersByUsersA.head()"
   ]
  },
  {
   "cell_type": "code",
   "execution_count": 83,
   "metadata": {},
   "outputs": [
    {
     "name": "stdout",
     "output_type": "stream",
     "text": [
      "1099    148427295\n",
      "18      199603092\n",
      "23      237748145\n",
      "37      249864742\n",
      "68      457167155\n",
      "dtype: int64\n",
      "Всего ненормальных :) пользователей = 31\n"
     ]
    }
   ],
   "source": [
    "usersWithManyOrders = pd.concat([ordersByUsersA[ordersByUsersA['orders'] > 2]['userId'], ordersByUsersB[ordersByUsersB['orders'] > 2]['userId']], axis = 0)\n",
    "#срезы пользователей совершивших заказы дешевле 58233.2 — usersWithExpensiveOrders\n",
    "usersWithExpensiveOrders = orders[orders['revenue'] > 58233.2]['visitorId']\n",
    "abnormalUsers = pd.concat([usersWithManyOrders, usersWithExpensiveOrders], axis = 0).drop_duplicates().sort_values()\n",
    "print(abnormalUsers.head(5))\n",
    "print(\"Всего ненормальных :) пользователей =\" ,len(abnormalUsers)) "
   ]
  },
  {
   "cell_type": "markdown",
   "metadata": {},
   "source": [
    "Посчитаем статистическую значимость различия среднего количества заказов после удаления аномальных пользователей."
   ]
  },
  {
   "cell_type": "markdown",
   "metadata": {},
   "source": [
    "Создадим переменные sampleAFiltered и sampleBFiltered, в которых сохраним очищенные данные о заказах — не включая аномальных пользователей. "
   ]
  },
  {
   "cell_type": "code",
   "execution_count": 84,
   "metadata": {},
   "outputs": [
    {
     "data": {
      "text/html": [
       "<div>\n",
       "<style scoped>\n",
       "    .dataframe tbody tr th:only-of-type {\n",
       "        vertical-align: middle;\n",
       "    }\n",
       "\n",
       "    .dataframe tbody tr th {\n",
       "        vertical-align: top;\n",
       "    }\n",
       "\n",
       "    .dataframe thead th {\n",
       "        text-align: right;\n",
       "    }\n",
       "</style>\n",
       "<table border=\"1\" class=\"dataframe\">\n",
       "  <thead>\n",
       "    <tr style=\"text-align: right;\">\n",
       "      <th></th>\n",
       "      <th>userId</th>\n",
       "      <th>orders</th>\n",
       "    </tr>\n",
       "  </thead>\n",
       "  <tbody>\n",
       "    <tr>\n",
       "      <th>0</th>\n",
       "      <td>8300375</td>\n",
       "      <td>1</td>\n",
       "    </tr>\n",
       "    <tr>\n",
       "      <th>1</th>\n",
       "      <td>11685486</td>\n",
       "      <td>1</td>\n",
       "    </tr>\n",
       "    <tr>\n",
       "      <th>2</th>\n",
       "      <td>54447517</td>\n",
       "      <td>1</td>\n",
       "    </tr>\n",
       "    <tr>\n",
       "      <th>3</th>\n",
       "      <td>66685450</td>\n",
       "      <td>1</td>\n",
       "    </tr>\n",
       "    <tr>\n",
       "      <th>4</th>\n",
       "      <td>78758296</td>\n",
       "      <td>1</td>\n",
       "    </tr>\n",
       "  </tbody>\n",
       "</table>\n",
       "</div>"
      ],
      "text/plain": [
       "     userId  orders\n",
       "0   8300375       1\n",
       "1  11685486       1\n",
       "2  54447517       1\n",
       "3  66685450       1\n",
       "4  78758296       1"
      ]
     },
     "execution_count": 84,
     "metadata": {},
     "output_type": "execute_result"
    }
   ],
   "source": [
    "ordersByUsersA.head()"
   ]
  },
  {
   "cell_type": "code",
   "execution_count": 85,
   "metadata": {},
   "outputs": [],
   "source": [
    "sampleAFiltered = pd.concat([ordersByUsersA[np.logical_not(ordersByUsersA['userId'].isin(abnormalUsers))]['orders'], \\\n",
    "                             pd.Series(0, index=np.arange(data['visitorsPerDateA'].sum() - len(ordersByUsersA['orders'])), \\\n",
    "                                       name='orders')],axis=0)"
   ]
  },
  {
   "cell_type": "code",
   "execution_count": 86,
   "metadata": {},
   "outputs": [],
   "source": [
    "sampleBFiltered = pd.concat([ordersByUsersB[np.logical_not(ordersByUsersB['userId'].isin(abnormalUsers))]['orders'], \\\n",
    "                             pd.Series(0, index=np.arange(data['visitorsPerDateB'].sum() - len(ordersByUsersB['orders'])), \\\n",
    "                                       name='orders')],axis=0)"
   ]
  },
  {
   "cell_type": "markdown",
   "metadata": {},
   "source": [
    "Так как ниже у меня неправильный расчет p-value, то проверим переменные по нескольким критериям.\n",
    "1. В данных есть хоть один пропуск\n",
    "2. Вместо выборки передается одно число\n",
    "3. Передается пустая выборка\n",
    "\n"
   ]
  },
  {
   "cell_type": "code",
   "execution_count": 87,
   "metadata": {},
   "outputs": [
    {
     "name": "stdout",
     "output_type": "stream",
     "text": [
      "Пропусков в датасете sampleAFiltered 0\n",
      "Пропусков в датасете sampleBFiltered 0\n"
     ]
    }
   ],
   "source": [
    "print('Пропусков в датасете sampleAFiltered', sampleAFiltered.isna().sum())\n",
    "print('Пропусков в датасете sampleBFiltered', sampleBFiltered.isna().sum())"
   ]
  },
  {
   "cell_type": "code",
   "execution_count": 88,
   "metadata": {},
   "outputs": [
    {
     "data": {
      "text/plain": [
       "0    1\n",
       "1    1\n",
       "2    1\n",
       "3    1\n",
       "4    1\n",
       "Name: orders, dtype: int64"
      ]
     },
     "execution_count": 88,
     "metadata": {},
     "output_type": "execute_result"
    }
   ],
   "source": [
    "# пропусков нет, посмотрим, что передается в переменных\n",
    "sampleAFiltered.head()"
   ]
  },
  {
   "cell_type": "markdown",
   "metadata": {},
   "source": [
    "Посчитаем статистическую значимость различия средних чеков после удаления аномальных пользователей.\n",
    "\n",
    "Применим статистический критерий Манна-Уитни к полученным выборкам.\n",
    "Нулевая гипотеза будет гласить: \"статистически значимых различий в конверсии между группами нет\".\n",
    "Альтернативная гипотеза гласит - \"статистически значимые различия есть\"."
   ]
  },
  {
   "cell_type": "code",
   "execution_count": 89,
   "metadata": {},
   "outputs": [
    {
     "name": "stdout",
     "output_type": "stream",
     "text": [
      "alpha = 0.05\n",
      "p-value = 0.010\n",
      "Относительный показатель 'B' и 'A' = 0.174\n"
     ]
    }
   ],
   "source": [
    "print(\"alpha =\",0.05)\n",
    "print(\"p-value = {0:.3f}\".format(stats.mannwhitneyu(sampleAFiltered, sampleBFiltered, alternative = 'two-sided')[1]))\n",
    "print(\"Относительный показатель 'B' и 'A' = {0:.3f}\".format(sampleBFiltered.mean()/sampleAFiltered.mean()-1)) "
   ]
  },
  {
   "cell_type": "markdown",
   "metadata": {},
   "source": [
    "p-value меньше, чем 0.05, значит мы можем отвергнуть нулевую гипотезу и принять во внимание альтернативную.\n",
    "Статистические различия в среднем количестве заказов на посетителя между группами по очищенным данным есть."
   ]
  },
  {
   "cell_type": "markdown",
   "metadata": {},
   "source": [
    "### Посчитайте статистическую значимость различий в среднем чеке заказа между группами по «очищенным» данным. Сделайте выводы и предположения."
   ]
  },
  {
   "cell_type": "markdown",
   "metadata": {},
   "source": [
    "Нулевая гипотеза будет гласить: \"статистически значимых различий в средних чеках между группами нет\".\n",
    "А альтернативная гипотеза гласит: \"статистически значимые различия в среднем чеке между группами есть\"."
   ]
  },
  {
   "cell_type": "raw",
   "metadata": {},
   "source": [
    "print('alpha =', 0.05)\n",
    "# Выведем p-value для сравнения среднего между группами.\n",
    "print('p-value для сравнения среднего между группами:')\n",
    "print(\"{0:.5f}\".format(stats.mannwhitneyu(sampleAFiltered, sampleBFiltered)[1]))\n"
   ]
  },
  {
   "cell_type": "code",
   "execution_count": 90,
   "metadata": {},
   "outputs": [
    {
     "name": "stdout",
     "output_type": "stream",
     "text": [
      "p-value:\n",
      "0.798\n",
      "Относительный показатель 'B' и 'A':\n",
      "-0.020\n"
     ]
    }
   ],
   "source": [
    "print(\"p-value:\")\n",
    "print('{0:.3f}'.format(st.mannwhitneyu(orders[np.logical_and(orders['group'] == 'A',\n",
    "np.logical_not(orders['visitorId'].isin(abnormalUsers)),)]['revenue'],orders[np.logical_and(\n",
    "orders['group'] == 'B',np.logical_not(orders['visitorId'].isin(abnormalUsers)),)\n",
    "]['revenue'],)[1]))\n",
    "print(\"Относительный показатель 'B' и 'A':\")\n",
    "print(\"{0:.3f}\".format(orders[np.logical_and(orders['group'] == 'B',np.logical_not(orders['visitorId'].isin(abnormalUsers)),)]['revenue'].mean()\n",
    "/ orders[np.logical_and( orders['group'] == 'A',\n",
    "np.logical_not(orders['visitorId'].isin(abnormalUsers)),)]['revenue'].mean()- 1))"
   ]
  },
  {
   "cell_type": "markdown",
   "metadata": {},
   "source": [
    "p-value больше, чем alpha. Значит мы не можем отвергнуть нулевую гипотезу. Соответственно статистически значимые различия в среднем чеке по очищенным данным отсутствуют."
   ]
  },
  {
   "cell_type": "markdown",
   "metadata": {},
   "source": [
    "# Выводы."
   ]
  },
  {
   "cell_type": "markdown",
   "metadata": {},
   "source": [
    "Пока тест проводился в тесте принимало участие 2 группы по 31 человеку в каждой.\n",
    "\n",
    "Кумулятивное среднее по чекам в группе В по предварительной оценке выше, чем в группе А.\n",
    "\n",
    "Результаты теста иногда значительно менялись в определенные даты. Видимо тогда были совершены аномальные заказы.\n",
    "\n",
    "Графики посещений очень похожи. Потому что, как мы видели в таблице выше динамика по группам не сильно отличается. Например, в 1 день в двух группах сделали по 490 человек покупки, а в другой 699 человек в группе А и 718 в группе В. Поэтому на графике они кажутся почти идентичными.\n",
    "\n",
    "Вначале кумулятивная выручка обеих групп идет вровень. Где-то с 5 августа выручка группы В выбивается вперед. 13 числа выручки снова приравниваются друг к другу, а затем выручка группы В уверенно растет вверх. Особенно выделяется скачок группы В сделанный в 18-19 числа. Видимо тогда были произведены особо крупные заказы или возросло их количество.\n",
    "\n",
    "Кумулятивное среднее по чекам в группе В по предварительной оценке выше, чем в группе А. Самый разкий скачок был в период с 18 по 19 число, когда группа В вырвалась в лидеры.\n",
    "\n",
    "Потому что, в период с 17 по 21 в группе А было 311 чеков (за 17 августа) и 385 чеков (за 21 августа). А по выручке было 2 129 769 за 17 число и 2 643 838 за 21 число.\n",
    "\n",
    "А в группе В на 17 число уже было 373 чека. А на 21 их стало 437, то есть в группе В люди покупают чаще. Также эта группа вырвалась в лидеры и по сумме. Если на 17 число кумулятивное среднее по чекам было 2 620 790, то за 18 число оно перевалило за 4 116 541 рублей. А к 21 августа достигло 4 426 892. То соответственно группа В опережает группу А по количеству чеков и по их сумме.\n",
    "\n",
    "С 6 августа группа В начинает лидировать по конверсии. До этого первого числа была минусовая конверсия, затем 2 числа она выросла до 0.8 и до 6 августа снова ушла в минус. А после 6 августа уверенно начала расти. Она лишь раз досигает порога в 20%, где-то с 15 по 17 августа. Затем начинает снижаться и с 23 августа уверенно держит прирост в 10% относительно группы А.\n",
    "\n",
    "Большинство пользователей в тесте совершило 1-2 заказа. И 90% пользователей имели средний чек до 18 000 рублей.\n",
    "Не больше 5% заказов имеют чек дороже 28 000 рублей и не больше 1% чек более 58 000 рублей. \n",
    "\n",
    "Соответственно, статистические различия в среднем чеке между группами по сырым данным есть. Статистические различия в среднем количестве заказов на посетителя между группами по очищенным данным есть. \n",
    "Соответственно статистически значимые различия в среднем чеке по очищенным данным отсутствуют.\n",
    "\n",
    "\n",
    "Я считаю, что можно признать победу за группой В. Там больше людей совершало покупки. Это подтверждает и количество чеков и их сумма, которая выше, чем в группе А. А также и другие метрики, которые были описаны в выводе выше. Я думаю, на этом можно остановить тест и зафиксировать победу группы В."
   ]
  },
  {
   "cell_type": "code",
   "execution_count": null,
   "metadata": {},
   "outputs": [],
   "source": []
  }
 ],
 "metadata": {
  "ExecuteTimeLog": [
   {
    "duration": 504,
    "start_time": "2023-04-13T11:03:42.797Z"
   },
   {
    "duration": 12,
    "start_time": "2023-04-13T11:04:08.663Z"
   },
   {
    "duration": 30,
    "start_time": "2023-04-13T11:04:48.294Z"
   },
   {
    "duration": 956,
    "start_time": "2023-04-13T11:18:39.276Z"
   },
   {
    "duration": 12,
    "start_time": "2023-04-13T11:19:37.958Z"
   },
   {
    "duration": 11,
    "start_time": "2023-04-13T11:24:45.049Z"
   },
   {
    "duration": 9,
    "start_time": "2023-04-13T11:25:19.945Z"
   },
   {
    "duration": 7,
    "start_time": "2023-04-13T11:25:52.545Z"
   },
   {
    "duration": 58,
    "start_time": "2023-04-13T11:26:19.346Z"
   },
   {
    "duration": 2,
    "start_time": "2023-04-13T11:30:53.647Z"
   },
   {
    "duration": 7,
    "start_time": "2023-04-13T11:31:07.553Z"
   },
   {
    "duration": 8,
    "start_time": "2023-04-13T11:31:09.024Z"
   },
   {
    "duration": 8,
    "start_time": "2023-04-13T11:31:24.574Z"
   },
   {
    "duration": 42,
    "start_time": "2023-04-13T11:31:52.505Z"
   },
   {
    "duration": 75,
    "start_time": "2023-04-13T11:36:57.607Z"
   },
   {
    "duration": 46,
    "start_time": "2023-04-13T11:40:49.745Z"
   },
   {
    "duration": 71,
    "start_time": "2023-04-13T11:59:36.332Z"
   },
   {
    "duration": 51,
    "start_time": "2023-04-13T12:03:14.375Z"
   },
   {
    "duration": 49,
    "start_time": "2023-04-13T12:04:08.503Z"
   },
   {
    "duration": 76,
    "start_time": "2023-04-13T12:16:08.221Z"
   },
   {
    "duration": 66,
    "start_time": "2023-04-13T12:16:34.066Z"
   },
   {
    "duration": 8,
    "start_time": "2023-04-13T12:16:43.342Z"
   },
   {
    "duration": 7,
    "start_time": "2023-04-13T12:16:53.390Z"
   },
   {
    "duration": 3,
    "start_time": "2023-04-13T12:45:39.649Z"
   },
   {
    "duration": 2,
    "start_time": "2023-04-13T12:50:23.525Z"
   },
   {
    "duration": 288,
    "start_time": "2023-04-13T12:51:10.286Z"
   },
   {
    "duration": 10,
    "start_time": "2023-04-13T12:51:41.510Z"
   },
   {
    "duration": 5,
    "start_time": "2023-04-13T12:55:28.629Z"
   },
   {
    "duration": 214,
    "start_time": "2023-04-13T12:55:30.308Z"
   },
   {
    "duration": 5,
    "start_time": "2023-04-13T12:55:34.380Z"
   },
   {
    "duration": 5,
    "start_time": "2023-04-13T12:55:42.030Z"
   },
   {
    "duration": 205,
    "start_time": "2023-04-13T12:55:43.261Z"
   },
   {
    "duration": 10,
    "start_time": "2023-04-13T12:56:02.581Z"
   },
   {
    "duration": 196,
    "start_time": "2023-04-13T12:56:08.256Z"
   },
   {
    "duration": 24,
    "start_time": "2023-04-13T12:56:20.211Z"
   },
   {
    "duration": 7,
    "start_time": "2023-04-13T12:56:20.236Z"
   },
   {
    "duration": 13,
    "start_time": "2023-04-13T12:56:20.244Z"
   },
   {
    "duration": 9,
    "start_time": "2023-04-13T12:56:20.259Z"
   },
   {
    "duration": 8,
    "start_time": "2023-04-13T12:56:20.269Z"
   },
   {
    "duration": 32,
    "start_time": "2023-04-13T12:56:20.278Z"
   },
   {
    "duration": 12,
    "start_time": "2023-04-13T12:56:20.311Z"
   },
   {
    "duration": 7,
    "start_time": "2023-04-13T12:56:20.324Z"
   },
   {
    "duration": 10,
    "start_time": "2023-04-13T12:56:20.332Z"
   },
   {
    "duration": 10,
    "start_time": "2023-04-13T12:56:20.344Z"
   },
   {
    "duration": 12,
    "start_time": "2023-04-13T12:56:20.355Z"
   },
   {
    "duration": 3,
    "start_time": "2023-04-13T12:56:20.368Z"
   },
   {
    "duration": 209,
    "start_time": "2023-04-13T12:56:20.372Z"
   },
   {
    "duration": 12,
    "start_time": "2023-04-13T13:17:19.250Z"
   },
   {
    "duration": 254,
    "start_time": "2023-04-13T13:18:15.692Z"
   },
   {
    "duration": 196,
    "start_time": "2023-04-13T13:25:49.550Z"
   },
   {
    "duration": 1420,
    "start_time": "2023-04-14T07:01:32.361Z"
   },
   {
    "duration": 11,
    "start_time": "2023-04-14T07:01:34.581Z"
   },
   {
    "duration": 10,
    "start_time": "2023-04-14T07:01:37.079Z"
   },
   {
    "duration": 8,
    "start_time": "2023-04-14T07:01:39.690Z"
   },
   {
    "duration": 7,
    "start_time": "2023-04-14T07:01:42.029Z"
   },
   {
    "duration": 103,
    "start_time": "2023-04-14T07:01:45.626Z"
   },
   {
    "duration": 74,
    "start_time": "2023-04-14T07:01:47.129Z"
   },
   {
    "duration": 8,
    "start_time": "2023-04-14T07:01:48.630Z"
   },
   {
    "duration": 7,
    "start_time": "2023-04-14T07:01:50.947Z"
   },
   {
    "duration": 2,
    "start_time": "2023-04-14T07:01:54.444Z"
   },
   {
    "duration": 10,
    "start_time": "2023-04-14T07:01:56.303Z"
   },
   {
    "duration": 5,
    "start_time": "2023-04-14T07:02:21.984Z"
   },
   {
    "duration": 11,
    "start_time": "2023-04-14T07:02:32.980Z"
   },
   {
    "duration": 11,
    "start_time": "2023-04-14T07:03:27.606Z"
   },
   {
    "duration": 3,
    "start_time": "2023-04-14T07:04:16.736Z"
   },
   {
    "duration": 9,
    "start_time": "2023-04-14T07:04:22.656Z"
   },
   {
    "duration": 6,
    "start_time": "2023-04-14T07:10:53.113Z"
   },
   {
    "duration": 140,
    "start_time": "2023-04-14T07:11:55.260Z"
   },
   {
    "duration": 8,
    "start_time": "2023-04-14T07:12:29.728Z"
   },
   {
    "duration": 131,
    "start_time": "2023-04-14T08:51:42.707Z"
   },
   {
    "duration": 130,
    "start_time": "2023-04-14T08:52:07.767Z"
   },
   {
    "duration": 0,
    "start_time": "2023-04-14T08:52:07.898Z"
   },
   {
    "duration": 107,
    "start_time": "2023-04-14T08:52:19.705Z"
   },
   {
    "duration": 3,
    "start_time": "2023-04-14T08:52:27.611Z"
   },
   {
    "duration": 4,
    "start_time": "2023-04-14T08:52:31.866Z"
   },
   {
    "duration": 152,
    "start_time": "2023-04-14T08:52:47.183Z"
   },
   {
    "duration": 7,
    "start_time": "2023-04-14T08:56:45.841Z"
   },
   {
    "duration": 163,
    "start_time": "2023-04-14T12:14:08.664Z"
   },
   {
    "duration": 113,
    "start_time": "2023-04-14T12:14:20.542Z"
   },
   {
    "duration": 7,
    "start_time": "2023-04-14T12:14:56.488Z"
   },
   {
    "duration": 7,
    "start_time": "2023-04-14T12:17:10.815Z"
   },
   {
    "duration": 6,
    "start_time": "2023-04-14T12:22:46.819Z"
   },
   {
    "duration": 72,
    "start_time": "2023-04-14T12:23:51.776Z"
   },
   {
    "duration": 8,
    "start_time": "2023-04-14T12:23:59.877Z"
   },
   {
    "duration": 6,
    "start_time": "2023-04-14T12:24:50.980Z"
   },
   {
    "duration": 232,
    "start_time": "2023-04-14T12:32:31.867Z"
   },
   {
    "duration": 128,
    "start_time": "2023-04-14T12:32:43.876Z"
   },
   {
    "duration": 85,
    "start_time": "2023-04-14T12:33:08.639Z"
   },
   {
    "duration": 135,
    "start_time": "2023-04-14T12:33:14.659Z"
   },
   {
    "duration": 128,
    "start_time": "2023-04-14T12:33:16.903Z"
   },
   {
    "duration": 88,
    "start_time": "2023-04-14T12:33:19.975Z"
   },
   {
    "duration": 140,
    "start_time": "2023-04-14T12:33:31.304Z"
   },
   {
    "duration": 93,
    "start_time": "2023-04-14T12:34:34.575Z"
   },
   {
    "duration": 211,
    "start_time": "2023-04-14T12:34:57.655Z"
   },
   {
    "duration": 69,
    "start_time": "2023-04-14T12:38:53.730Z"
   },
   {
    "duration": 89,
    "start_time": "2023-04-14T12:39:32.573Z"
   },
   {
    "duration": 6,
    "start_time": "2023-04-14T12:40:28.768Z"
   },
   {
    "duration": 302,
    "start_time": "2023-04-14T12:40:45.086Z"
   },
   {
    "duration": 148,
    "start_time": "2023-04-14T12:41:56.760Z"
   },
   {
    "duration": 78,
    "start_time": "2023-04-14T12:42:49.434Z"
   },
   {
    "duration": 6,
    "start_time": "2023-04-14T12:43:30.605Z"
   },
   {
    "duration": 134,
    "start_time": "2023-04-14T12:43:41.510Z"
   },
   {
    "duration": 4,
    "start_time": "2023-04-14T12:43:44.591Z"
   },
   {
    "duration": 137,
    "start_time": "2023-04-14T12:43:45.857Z"
   },
   {
    "duration": 87,
    "start_time": "2023-04-14T13:19:48.812Z"
   },
   {
    "duration": 9,
    "start_time": "2023-04-14T13:36:16.679Z"
   },
   {
    "duration": 3,
    "start_time": "2023-04-14T13:37:59.601Z"
   },
   {
    "duration": 162,
    "start_time": "2023-04-14T13:38:14.024Z"
   },
   {
    "duration": 237,
    "start_time": "2023-04-14T13:38:31.204Z"
   },
   {
    "duration": 150,
    "start_time": "2023-04-14T13:38:43.980Z"
   },
   {
    "duration": 308,
    "start_time": "2023-04-14T13:40:08.954Z"
   },
   {
    "duration": 159,
    "start_time": "2023-04-14T13:40:40.355Z"
   },
   {
    "duration": 838,
    "start_time": "2023-04-14T13:50:34.070Z"
   },
   {
    "duration": 4,
    "start_time": "2023-04-14T13:51:49.046Z"
   },
   {
    "duration": 14,
    "start_time": "2023-04-14T13:52:01.454Z"
   },
   {
    "duration": 10,
    "start_time": "2023-04-14T13:52:14.742Z"
   },
   {
    "duration": 12,
    "start_time": "2023-04-14T13:52:17.566Z"
   },
   {
    "duration": 10,
    "start_time": "2023-04-14T13:52:35.415Z"
   },
   {
    "duration": 9,
    "start_time": "2023-04-14T13:52:53.186Z"
   },
   {
    "duration": 6,
    "start_time": "2023-04-14T13:53:19.552Z"
   },
   {
    "duration": 636,
    "start_time": "2023-04-14T13:54:16.192Z"
   },
   {
    "duration": 309,
    "start_time": "2023-04-14T13:54:38.508Z"
   },
   {
    "duration": 6,
    "start_time": "2023-04-14T13:57:08.324Z"
   },
   {
    "duration": 6,
    "start_time": "2023-04-14T13:57:51.156Z"
   },
   {
    "duration": 6,
    "start_time": "2023-04-14T13:57:53.884Z"
   },
   {
    "duration": 3,
    "start_time": "2023-04-14T13:57:56.572Z"
   },
   {
    "duration": 5,
    "start_time": "2023-04-14T13:58:08.431Z"
   },
   {
    "duration": 3,
    "start_time": "2023-04-14T14:20:32.196Z"
   },
   {
    "duration": 3,
    "start_time": "2023-04-14T14:21:18.584Z"
   },
   {
    "duration": 3,
    "start_time": "2023-04-14T14:22:29.552Z"
   },
   {
    "duration": 4,
    "start_time": "2023-04-14T14:22:36.528Z"
   },
   {
    "duration": 104,
    "start_time": "2023-04-14T14:22:48.302Z"
   },
   {
    "duration": 4,
    "start_time": "2023-04-14T14:22:52.753Z"
   },
   {
    "duration": 5,
    "start_time": "2023-04-14T14:23:32.984Z"
   },
   {
    "duration": 4,
    "start_time": "2023-04-14T14:23:51.983Z"
   },
   {
    "duration": 160,
    "start_time": "2023-04-14T14:27:46.332Z"
   },
   {
    "duration": 158,
    "start_time": "2023-04-14T14:28:27.195Z"
   },
   {
    "duration": 1518,
    "start_time": "2023-04-15T08:02:07.892Z"
   },
   {
    "duration": 14,
    "start_time": "2023-04-15T08:02:09.412Z"
   },
   {
    "duration": 12,
    "start_time": "2023-04-15T08:02:11.013Z"
   },
   {
    "duration": 14,
    "start_time": "2023-04-15T08:02:13.802Z"
   },
   {
    "duration": 10,
    "start_time": "2023-04-15T08:02:16.308Z"
   },
   {
    "duration": 99,
    "start_time": "2023-04-15T08:02:18.879Z"
   },
   {
    "duration": 72,
    "start_time": "2023-04-15T08:02:20.078Z"
   },
   {
    "duration": 10,
    "start_time": "2023-04-15T08:02:22.703Z"
   },
   {
    "duration": 10,
    "start_time": "2023-04-15T08:02:25.377Z"
   },
   {
    "duration": 3,
    "start_time": "2023-04-15T08:02:27.781Z"
   },
   {
    "duration": 12,
    "start_time": "2023-04-15T08:02:29.273Z"
   },
   {
    "duration": 11,
    "start_time": "2023-04-15T08:02:32.717Z"
   },
   {
    "duration": 4,
    "start_time": "2023-04-15T08:02:34.133Z"
   },
   {
    "duration": 7,
    "start_time": "2023-04-15T08:02:35.270Z"
   },
   {
    "duration": 8,
    "start_time": "2023-04-15T08:02:36.902Z"
   },
   {
    "duration": 4,
    "start_time": "2023-04-15T08:02:44.333Z"
   },
   {
    "duration": 5,
    "start_time": "2023-04-15T08:02:45.497Z"
   },
   {
    "duration": 9,
    "start_time": "2023-04-15T08:02:48.149Z"
   },
   {
    "duration": 194,
    "start_time": "2023-04-15T08:02:51.388Z"
   },
   {
    "duration": 149,
    "start_time": "2023-04-15T08:02:53.117Z"
   },
   {
    "duration": 116,
    "start_time": "2023-04-15T08:02:56.182Z"
   },
   {
    "duration": 211,
    "start_time": "2023-04-15T08:03:12.201Z"
   },
   {
    "duration": 126,
    "start_time": "2023-04-15T08:03:13.289Z"
   },
   {
    "duration": 27,
    "start_time": "2023-04-15T08:03:16.177Z"
   },
   {
    "duration": 16,
    "start_time": "2023-04-15T08:03:46.151Z"
   },
   {
    "duration": 20,
    "start_time": "2023-04-15T08:04:01.313Z"
   },
   {
    "duration": 5,
    "start_time": "2023-04-15T08:04:46.709Z"
   },
   {
    "duration": 8,
    "start_time": "2023-04-15T08:04:49.781Z"
   },
   {
    "duration": 8,
    "start_time": "2023-04-15T08:04:52.236Z"
   },
   {
    "duration": 7,
    "start_time": "2023-04-15T08:04:53.817Z"
   },
   {
    "duration": 250,
    "start_time": "2023-04-15T08:04:55.607Z"
   },
   {
    "duration": 198,
    "start_time": "2023-04-15T08:05:01.424Z"
   },
   {
    "duration": 6,
    "start_time": "2023-04-15T08:05:09.617Z"
   },
   {
    "duration": 339,
    "start_time": "2023-04-15T08:05:09.625Z"
   },
   {
    "duration": 7,
    "start_time": "2023-04-15T08:05:22.812Z"
   },
   {
    "duration": 7,
    "start_time": "2023-04-15T08:05:24.592Z"
   },
   {
    "duration": 135,
    "start_time": "2023-04-15T08:11:17.514Z"
   },
   {
    "duration": 8,
    "start_time": "2023-04-15T08:11:33.617Z"
   },
   {
    "duration": 221,
    "start_time": "2023-04-15T08:11:35.177Z"
   },
   {
    "duration": 308,
    "start_time": "2023-04-15T08:12:13.007Z"
   },
   {
    "duration": 157,
    "start_time": "2023-04-15T08:14:33.118Z"
   },
   {
    "duration": 9,
    "start_time": "2023-04-15T08:20:31.310Z"
   },
   {
    "duration": 8,
    "start_time": "2023-04-15T08:20:33.806Z"
   },
   {
    "duration": 9,
    "start_time": "2023-04-15T08:20:35.188Z"
   },
   {
    "duration": 4,
    "start_time": "2023-04-15T08:20:37.797Z"
   },
   {
    "duration": 8,
    "start_time": "2023-04-15T08:20:39.755Z"
   },
   {
    "duration": 291,
    "start_time": "2023-04-15T08:24:20.500Z"
   },
   {
    "duration": 327,
    "start_time": "2023-04-15T08:24:33.656Z"
   },
   {
    "duration": 375,
    "start_time": "2023-04-15T08:24:46.432Z"
   },
   {
    "duration": 320,
    "start_time": "2023-04-15T08:24:54.121Z"
   },
   {
    "duration": 352,
    "start_time": "2023-04-15T08:26:23.578Z"
   },
   {
    "duration": 10,
    "start_time": "2023-04-15T08:31:33.521Z"
   },
   {
    "duration": 4,
    "start_time": "2023-04-15T08:31:35.578Z"
   },
   {
    "duration": 8,
    "start_time": "2023-04-15T08:31:36.985Z"
   },
   {
    "duration": 1672,
    "start_time": "2023-04-15T08:34:57.979Z"
   },
   {
    "duration": 113,
    "start_time": "2023-04-15T09:03:17.197Z"
   },
   {
    "duration": 100,
    "start_time": "2023-04-15T12:49:24.497Z"
   },
   {
    "duration": 105,
    "start_time": "2023-04-15T12:54:12.055Z"
   },
   {
    "duration": 2066,
    "start_time": "2023-04-15T12:55:08.048Z"
   },
   {
    "duration": 7,
    "start_time": "2023-04-15T12:55:26.912Z"
   },
   {
    "duration": 138,
    "start_time": "2023-04-15T12:55:36.656Z"
   },
   {
    "duration": 255,
    "start_time": "2023-04-15T12:56:53.501Z"
   },
   {
    "duration": 7,
    "start_time": "2023-04-15T13:21:50.355Z"
   },
   {
    "duration": 5,
    "start_time": "2023-04-15T13:22:22.466Z"
   },
   {
    "duration": 110,
    "start_time": "2023-04-15T13:22:31.928Z"
   },
   {
    "duration": 163,
    "start_time": "2023-04-15T13:22:37.082Z"
   },
   {
    "duration": 5,
    "start_time": "2023-04-15T13:23:20.801Z"
   },
   {
    "duration": 3,
    "start_time": "2023-04-15T13:25:44.708Z"
   },
   {
    "duration": 4,
    "start_time": "2023-04-15T13:26:56.740Z"
   },
   {
    "duration": 7,
    "start_time": "2023-04-15T13:27:39.750Z"
   },
   {
    "duration": 5,
    "start_time": "2023-04-15T13:27:42.942Z"
   },
   {
    "duration": 147,
    "start_time": "2023-04-15T13:27:46.277Z"
   },
   {
    "duration": 5,
    "start_time": "2023-04-15T13:27:59.909Z"
   },
   {
    "duration": 75,
    "start_time": "2023-04-15T13:32:48.434Z"
   },
   {
    "duration": 27,
    "start_time": "2023-04-15T13:33:53.693Z"
   },
   {
    "duration": 8,
    "start_time": "2023-04-15T13:33:55.840Z"
   },
   {
    "duration": 12,
    "start_time": "2023-04-15T13:33:58.631Z"
   },
   {
    "duration": 11,
    "start_time": "2023-04-15T13:34:01.236Z"
   },
   {
    "duration": 8,
    "start_time": "2023-04-15T13:34:07.487Z"
   },
   {
    "duration": 47,
    "start_time": "2023-04-15T13:34:10.963Z"
   },
   {
    "duration": 26,
    "start_time": "2023-04-15T13:34:13.234Z"
   },
   {
    "duration": 10,
    "start_time": "2023-04-15T13:34:15.380Z"
   },
   {
    "duration": 9,
    "start_time": "2023-04-15T13:34:18.700Z"
   },
   {
    "duration": 3,
    "start_time": "2023-04-15T13:34:21.636Z"
   },
   {
    "duration": 11,
    "start_time": "2023-04-15T13:34:23.877Z"
   },
   {
    "duration": 5,
    "start_time": "2023-04-15T13:34:27.004Z"
   },
   {
    "duration": 10,
    "start_time": "2023-04-15T13:34:29.136Z"
   },
   {
    "duration": 5,
    "start_time": "2023-04-15T13:34:31.981Z"
   },
   {
    "duration": 6,
    "start_time": "2023-04-15T13:34:33.973Z"
   },
   {
    "duration": 9,
    "start_time": "2023-04-15T13:34:36.205Z"
   },
   {
    "duration": 4,
    "start_time": "2023-04-15T13:34:39.261Z"
   },
   {
    "duration": 6,
    "start_time": "2023-04-15T13:34:41.334Z"
   },
   {
    "duration": 9,
    "start_time": "2023-04-15T13:34:43.836Z"
   },
   {
    "duration": 184,
    "start_time": "2023-04-15T13:34:46.901Z"
   },
   {
    "duration": 122,
    "start_time": "2023-04-15T13:34:50.061Z"
   },
   {
    "duration": 113,
    "start_time": "2023-04-15T13:34:51.853Z"
   },
   {
    "duration": 7,
    "start_time": "2023-04-15T13:37:07.777Z"
   },
   {
    "duration": 11,
    "start_time": "2023-04-15T13:37:08.456Z"
   },
   {
    "duration": 3,
    "start_time": "2023-04-15T13:37:11.575Z"
   },
   {
    "duration": 9,
    "start_time": "2023-04-15T13:37:13.207Z"
   },
   {
    "duration": 151,
    "start_time": "2023-04-15T13:37:15.142Z"
   },
   {
    "duration": 178,
    "start_time": "2023-04-15T13:37:17.934Z"
   },
   {
    "duration": 179,
    "start_time": "2023-04-15T13:37:21.759Z"
   },
   {
    "duration": 7,
    "start_time": "2023-04-15T13:38:01.416Z"
   },
   {
    "duration": 281,
    "start_time": "2023-04-15T13:38:08.152Z"
   },
   {
    "duration": 6,
    "start_time": "2023-04-15T13:38:08.435Z"
   },
   {
    "duration": 57,
    "start_time": "2023-04-15T13:38:08.442Z"
   },
   {
    "duration": 6,
    "start_time": "2023-04-15T13:38:10.264Z"
   },
   {
    "duration": 4,
    "start_time": "2023-04-15T13:38:11.723Z"
   },
   {
    "duration": 192,
    "start_time": "2023-04-15T13:38:13.264Z"
   },
   {
    "duration": 11,
    "start_time": "2023-04-15T13:38:18.332Z"
   },
   {
    "duration": 404,
    "start_time": "2023-04-15T13:38:19.944Z"
   },
   {
    "duration": 9,
    "start_time": "2023-04-15T13:38:24.504Z"
   },
   {
    "duration": 7,
    "start_time": "2023-04-15T13:38:29.552Z"
   },
   {
    "duration": 6,
    "start_time": "2023-04-15T13:38:51.010Z"
   },
   {
    "duration": 5,
    "start_time": "2023-04-15T13:38:53.361Z"
   },
   {
    "duration": 9,
    "start_time": "2023-04-15T13:38:54.905Z"
   },
   {
    "duration": 129,
    "start_time": "2023-04-15T13:38:56.841Z"
   },
   {
    "duration": 134,
    "start_time": "2023-04-15T13:39:00.698Z"
   },
   {
    "duration": 6,
    "start_time": "2023-04-15T13:39:08.134Z"
   },
   {
    "duration": 8,
    "start_time": "2023-04-15T13:39:08.142Z"
   },
   {
    "duration": 6,
    "start_time": "2023-04-15T13:39:21.945Z"
   },
   {
    "duration": 4,
    "start_time": "2023-04-15T13:39:25.802Z"
   },
   {
    "duration": 26,
    "start_time": "2023-04-15T13:40:00.828Z"
   },
   {
    "duration": 10,
    "start_time": "2023-04-15T13:40:08.213Z"
   },
   {
    "duration": 47,
    "start_time": "2023-04-15T13:40:08.226Z"
   },
   {
    "duration": 10,
    "start_time": "2023-04-15T13:40:12.276Z"
   },
   {
    "duration": 12,
    "start_time": "2023-04-15T13:40:14.925Z"
   },
   {
    "duration": 48,
    "start_time": "2023-04-15T13:40:17.791Z"
   },
   {
    "duration": 27,
    "start_time": "2023-04-15T13:40:19.155Z"
   },
   {
    "duration": 8,
    "start_time": "2023-04-15T13:40:20.501Z"
   },
   {
    "duration": 7,
    "start_time": "2023-04-15T13:40:22.860Z"
   },
   {
    "duration": 3,
    "start_time": "2023-04-15T13:40:26.611Z"
   },
   {
    "duration": 11,
    "start_time": "2023-04-15T13:40:28.331Z"
   },
   {
    "duration": 6,
    "start_time": "2023-04-15T13:40:30.596Z"
   },
   {
    "duration": 10,
    "start_time": "2023-04-15T13:40:33.204Z"
   },
   {
    "duration": 5,
    "start_time": "2023-04-15T13:40:35.828Z"
   },
   {
    "duration": 5,
    "start_time": "2023-04-15T13:40:37.059Z"
   },
   {
    "duration": 7,
    "start_time": "2023-04-15T13:40:38.492Z"
   },
   {
    "duration": 4,
    "start_time": "2023-04-15T13:40:42.019Z"
   },
   {
    "duration": 5,
    "start_time": "2023-04-15T13:40:43.253Z"
   },
   {
    "duration": 9,
    "start_time": "2023-04-15T13:40:44.931Z"
   },
   {
    "duration": 177,
    "start_time": "2023-04-15T13:40:47.348Z"
   },
   {
    "duration": 117,
    "start_time": "2023-04-15T13:40:48.835Z"
   },
   {
    "duration": 11,
    "start_time": "2023-04-15T13:40:50.398Z"
   },
   {
    "duration": 4,
    "start_time": "2023-04-15T13:40:53.109Z"
   },
   {
    "duration": 10,
    "start_time": "2023-04-15T13:40:54.843Z"
   },
   {
    "duration": 3,
    "start_time": "2023-04-15T13:40:57.619Z"
   },
   {
    "duration": 7,
    "start_time": "2023-04-15T13:40:59.100Z"
   },
   {
    "duration": 175,
    "start_time": "2023-04-15T13:41:02.717Z"
   },
   {
    "duration": 163,
    "start_time": "2023-04-15T13:41:08.339Z"
   },
   {
    "duration": 6,
    "start_time": "2023-04-15T13:41:08.668Z"
   },
   {
    "duration": 6,
    "start_time": "2023-04-15T13:41:12.116Z"
   },
   {
    "duration": 4,
    "start_time": "2023-04-15T13:41:14.244Z"
   },
   {
    "duration": 149,
    "start_time": "2023-04-15T13:41:15.572Z"
   },
   {
    "duration": 8,
    "start_time": "2023-04-15T13:41:18.708Z"
   },
   {
    "duration": 277,
    "start_time": "2023-04-15T13:44:48.008Z"
   },
   {
    "duration": 250,
    "start_time": "2023-04-15T13:44:58.927Z"
   },
   {
    "duration": 8,
    "start_time": "2023-04-15T13:45:07.893Z"
   },
   {
    "duration": 6,
    "start_time": "2023-04-15T13:45:09.464Z"
   },
   {
    "duration": 6,
    "start_time": "2023-04-15T13:45:11.633Z"
   },
   {
    "duration": 3,
    "start_time": "2023-04-15T13:45:17.892Z"
   },
   {
    "duration": 6,
    "start_time": "2023-04-15T13:45:19.608Z"
   },
   {
    "duration": 103,
    "start_time": "2023-04-15T13:45:22.297Z"
   },
   {
    "duration": 104,
    "start_time": "2023-04-15T13:45:25.105Z"
   },
   {
    "duration": 8,
    "start_time": "2023-04-15T13:45:30.969Z"
   },
   {
    "duration": 5,
    "start_time": "2023-04-15T13:45:34.144Z"
   },
   {
    "duration": 12,
    "start_time": "2023-04-15T13:50:00.473Z"
   },
   {
    "duration": 8,
    "start_time": "2023-04-15T13:50:16.000Z"
   },
   {
    "duration": 9,
    "start_time": "2023-04-15T13:50:25.262Z"
   },
   {
    "duration": 140,
    "start_time": "2023-04-15T13:50:38.856Z"
   },
   {
    "duration": 1266,
    "start_time": "2023-04-15T13:57:14.449Z"
   },
   {
    "duration": 130,
    "start_time": "2023-04-15T13:58:21.203Z"
   },
   {
    "duration": 81,
    "start_time": "2023-04-15T13:59:46.424Z"
   },
   {
    "duration": 1271,
    "start_time": "2023-04-15T14:04:57.631Z"
   },
   {
    "duration": 4,
    "start_time": "2023-04-15T14:05:11.640Z"
   },
   {
    "duration": 85,
    "start_time": "2023-04-15T14:12:15.520Z"
   },
   {
    "duration": 8,
    "start_time": "2023-04-15T14:16:07.400Z"
   },
   {
    "duration": 9,
    "start_time": "2023-04-15T14:16:26.932Z"
   },
   {
    "duration": 9,
    "start_time": "2023-04-15T14:16:51.205Z"
   },
   {
    "duration": 9,
    "start_time": "2023-04-15T14:17:08.046Z"
   },
   {
    "duration": 5,
    "start_time": "2023-04-15T14:22:39.859Z"
   },
   {
    "duration": 46,
    "start_time": "2023-04-15T14:23:22.414Z"
   },
   {
    "duration": 3,
    "start_time": "2023-04-15T14:23:33.532Z"
   },
   {
    "duration": 5,
    "start_time": "2023-04-15T14:23:45.095Z"
   },
   {
    "duration": 6,
    "start_time": "2023-04-15T14:32:32.335Z"
   },
   {
    "duration": 48,
    "start_time": "2023-04-15T14:32:58.111Z"
   },
   {
    "duration": 4,
    "start_time": "2023-04-15T14:33:10.162Z"
   },
   {
    "duration": 13,
    "start_time": "2023-04-15T14:33:18.116Z"
   },
   {
    "duration": 8,
    "start_time": "2023-04-15T14:33:39.155Z"
   },
   {
    "duration": 15,
    "start_time": "2023-04-15T14:40:34.609Z"
   },
   {
    "duration": 16,
    "start_time": "2023-04-15T14:40:50.462Z"
   },
   {
    "duration": 50,
    "start_time": "2023-04-15T14:41:07.783Z"
   },
   {
    "duration": 12,
    "start_time": "2023-04-15T14:41:19.480Z"
   },
   {
    "duration": 14,
    "start_time": "2023-04-15T14:41:49.913Z"
   },
   {
    "duration": 14,
    "start_time": "2023-04-15T14:42:07.770Z"
   },
   {
    "duration": 2,
    "start_time": "2023-04-15T14:42:15.785Z"
   },
   {
    "duration": 45,
    "start_time": "2023-04-15T14:42:26.701Z"
   },
   {
    "duration": 21,
    "start_time": "2023-04-15T14:43:18.188Z"
   },
   {
    "duration": 3,
    "start_time": "2023-04-15T14:43:40.708Z"
   },
   {
    "duration": 4,
    "start_time": "2023-04-15T14:44:08.377Z"
   },
   {
    "duration": 9,
    "start_time": "2023-04-15T14:44:11.869Z"
   },
   {
    "duration": 4,
    "start_time": "2023-04-15T14:44:34.881Z"
   },
   {
    "duration": 4,
    "start_time": "2023-04-15T14:44:42.686Z"
   },
   {
    "duration": 1319,
    "start_time": "2023-04-17T12:05:37.772Z"
   },
   {
    "duration": 11,
    "start_time": "2023-04-17T12:05:39.437Z"
   },
   {
    "duration": 10,
    "start_time": "2023-04-17T12:05:41.409Z"
   },
   {
    "duration": 10,
    "start_time": "2023-04-17T12:05:43.558Z"
   },
   {
    "duration": 7,
    "start_time": "2023-04-17T12:05:45.953Z"
   },
   {
    "duration": 7,
    "start_time": "2023-04-17T12:33:33.682Z"
   },
   {
    "duration": 83,
    "start_time": "2023-04-17T12:33:36.284Z"
   },
   {
    "duration": 48,
    "start_time": "2023-04-17T13:18:19.461Z"
   },
   {
    "duration": 68,
    "start_time": "2023-04-17T13:18:21.380Z"
   },
   {
    "duration": 8,
    "start_time": "2023-04-17T13:18:22.613Z"
   },
   {
    "duration": 7,
    "start_time": "2023-04-17T13:18:24.652Z"
   },
   {
    "duration": 3,
    "start_time": "2023-04-17T13:18:26.514Z"
   },
   {
    "duration": 11,
    "start_time": "2023-04-17T13:18:28.039Z"
   },
   {
    "duration": 5,
    "start_time": "2023-04-17T13:18:30.753Z"
   },
   {
    "duration": 10,
    "start_time": "2023-04-17T13:18:32.055Z"
   },
   {
    "duration": 4,
    "start_time": "2023-04-17T13:18:34.869Z"
   },
   {
    "duration": 6,
    "start_time": "2023-04-17T13:18:36.176Z"
   },
   {
    "duration": 7,
    "start_time": "2023-04-17T13:18:37.431Z"
   },
   {
    "duration": 4,
    "start_time": "2023-04-17T13:18:40.418Z"
   },
   {
    "duration": 5,
    "start_time": "2023-04-17T13:18:41.552Z"
   },
   {
    "duration": 8,
    "start_time": "2023-04-17T13:18:43.146Z"
   },
   {
    "duration": 171,
    "start_time": "2023-04-17T13:18:45.310Z"
   },
   {
    "duration": 117,
    "start_time": "2023-04-17T13:18:47.913Z"
   },
   {
    "duration": 9,
    "start_time": "2023-04-17T13:18:49.428Z"
   },
   {
    "duration": 4,
    "start_time": "2023-04-17T13:19:01.316Z"
   },
   {
    "duration": 7,
    "start_time": "2023-04-17T13:19:03.073Z"
   },
   {
    "duration": 8,
    "start_time": "2023-04-17T13:19:05.233Z"
   },
   {
    "duration": 7,
    "start_time": "2023-04-17T13:19:07.346Z"
   },
   {
    "duration": 228,
    "start_time": "2023-04-17T13:19:08.798Z"
   },
   {
    "duration": 150,
    "start_time": "2023-04-17T13:19:16.361Z"
   },
   {
    "duration": 6,
    "start_time": "2023-04-17T13:19:19.432Z"
   },
   {
    "duration": 313,
    "start_time": "2023-04-17T13:19:21.024Z"
   },
   {
    "duration": 6,
    "start_time": "2023-04-17T13:19:23.813Z"
   },
   {
    "duration": 5,
    "start_time": "2023-04-17T13:19:25.889Z"
   },
   {
    "duration": 7,
    "start_time": "2023-04-17T13:19:28.735Z"
   },
   {
    "duration": 310,
    "start_time": "2023-04-17T13:19:30.007Z"
   },
   {
    "duration": 8,
    "start_time": "2023-04-17T13:19:32.881Z"
   },
   {
    "duration": 6,
    "start_time": "2023-04-17T13:19:34.967Z"
   },
   {
    "duration": 7,
    "start_time": "2023-04-17T13:19:36.534Z"
   },
   {
    "duration": 7,
    "start_time": "2023-04-17T13:19:37.875Z"
   },
   {
    "duration": 3,
    "start_time": "2023-04-17T13:20:01.020Z"
   },
   {
    "duration": 5,
    "start_time": "2023-04-17T13:20:02.330Z"
   },
   {
    "duration": 102,
    "start_time": "2023-04-17T13:20:04.224Z"
   },
   {
    "duration": 104,
    "start_time": "2023-04-17T13:20:06.170Z"
   },
   {
    "duration": 107,
    "start_time": "2023-04-17T13:21:24.017Z"
   },
   {
    "duration": 8,
    "start_time": "2023-04-17T13:21:26.613Z"
   },
   {
    "duration": 4,
    "start_time": "2023-04-17T13:21:32.567Z"
   },
   {
    "duration": 172,
    "start_time": "2023-04-17T13:21:35.206Z"
   },
   {
    "duration": 109,
    "start_time": "2023-04-17T13:21:48.353Z"
   },
   {
    "duration": 4,
    "start_time": "2023-04-17T13:21:57.549Z"
   },
   {
    "duration": 4,
    "start_time": "2023-04-17T13:22:02.357Z"
   },
   {
    "duration": 44,
    "start_time": "2023-04-17T13:22:04.669Z"
   },
   {
    "duration": 3,
    "start_time": "2023-04-17T13:22:07.080Z"
   },
   {
    "duration": 4,
    "start_time": "2023-04-17T13:22:09.637Z"
   },
   {
    "duration": 5,
    "start_time": "2023-04-17T13:28:20.301Z"
   },
   {
    "duration": 42,
    "start_time": "2023-04-17T13:28:22.044Z"
   },
   {
    "duration": 3,
    "start_time": "2023-04-17T13:28:24.139Z"
   },
   {
    "duration": 4,
    "start_time": "2023-04-17T13:28:26.950Z"
   },
   {
    "duration": 40,
    "start_time": "2023-04-17T13:28:28.870Z"
   },
   {
    "duration": 3,
    "start_time": "2023-04-17T13:28:30.721Z"
   },
   {
    "duration": 9,
    "start_time": "2023-04-17T13:28:32.740Z"
   },
   {
    "duration": 27,
    "start_time": "2023-04-17T15:53:41.315Z"
   },
   {
    "duration": 7,
    "start_time": "2023-04-17T15:53:42.584Z"
   },
   {
    "duration": 10,
    "start_time": "2023-04-17T15:53:44.653Z"
   },
   {
    "duration": 8,
    "start_time": "2023-04-17T15:53:47.001Z"
   },
   {
    "duration": 7,
    "start_time": "2023-04-17T15:53:49.276Z"
   },
   {
    "duration": 48,
    "start_time": "2023-04-17T15:53:52.877Z"
   },
   {
    "duration": 27,
    "start_time": "2023-04-17T15:53:54.253Z"
   },
   {
    "duration": 7,
    "start_time": "2023-04-17T15:53:55.802Z"
   },
   {
    "duration": 7,
    "start_time": "2023-04-17T15:53:57.985Z"
   },
   {
    "duration": 3,
    "start_time": "2023-04-17T15:54:01.294Z"
   },
   {
    "duration": 9,
    "start_time": "2023-04-17T15:54:02.810Z"
   },
   {
    "duration": 4,
    "start_time": "2023-04-17T15:54:06.184Z"
   },
   {
    "duration": 10,
    "start_time": "2023-04-17T15:54:07.688Z"
   },
   {
    "duration": 3,
    "start_time": "2023-04-17T15:54:10.218Z"
   },
   {
    "duration": 5,
    "start_time": "2023-04-17T15:54:11.535Z"
   },
   {
    "duration": 7,
    "start_time": "2023-04-17T15:54:12.746Z"
   },
   {
    "duration": 3,
    "start_time": "2023-04-17T15:54:15.307Z"
   },
   {
    "duration": 4,
    "start_time": "2023-04-17T15:54:16.798Z"
   },
   {
    "duration": 7,
    "start_time": "2023-04-17T15:54:19.179Z"
   },
   {
    "duration": 178,
    "start_time": "2023-04-17T15:54:21.880Z"
   },
   {
    "duration": 108,
    "start_time": "2023-04-17T15:54:24.644Z"
   },
   {
    "duration": 9,
    "start_time": "2023-04-17T15:54:26.474Z"
   },
   {
    "duration": 4,
    "start_time": "2023-04-17T15:54:29.295Z"
   },
   {
    "duration": 8,
    "start_time": "2023-04-17T15:54:30.896Z"
   },
   {
    "duration": 3,
    "start_time": "2023-04-17T15:54:33.585Z"
   },
   {
    "duration": 6,
    "start_time": "2023-04-17T15:54:35.295Z"
   },
   {
    "duration": 142,
    "start_time": "2023-04-17T15:56:22.692Z"
   },
   {
    "duration": 148,
    "start_time": "2023-04-17T15:56:28.684Z"
   },
   {
    "duration": 150,
    "start_time": "2023-04-17T15:56:32.426Z"
   },
   {
    "duration": 5,
    "start_time": "2023-04-17T15:56:35.925Z"
   },
   {
    "duration": 281,
    "start_time": "2023-04-17T15:56:37.600Z"
   },
   {
    "duration": 6,
    "start_time": "2023-04-17T15:56:41.495Z"
   },
   {
    "duration": 3,
    "start_time": "2023-04-17T15:56:43.192Z"
   },
   {
    "duration": 145,
    "start_time": "2023-04-17T15:56:44.937Z"
   },
   {
    "duration": 8,
    "start_time": "2023-04-17T15:56:48.120Z"
   },
   {
    "duration": 288,
    "start_time": "2023-04-17T15:56:50.040Z"
   },
   {
    "duration": 8,
    "start_time": "2023-04-17T15:56:53.407Z"
   },
   {
    "duration": 6,
    "start_time": "2023-04-17T15:56:56.143Z"
   },
   {
    "duration": 5,
    "start_time": "2023-04-17T15:56:58.094Z"
   },
   {
    "duration": 6,
    "start_time": "2023-04-17T15:56:59.972Z"
   },
   {
    "duration": 2,
    "start_time": "2023-04-17T15:57:02.437Z"
   },
   {
    "duration": 5,
    "start_time": "2023-04-17T15:57:04.304Z"
   },
   {
    "duration": 98,
    "start_time": "2023-04-17T15:57:06.577Z"
   },
   {
    "duration": 96,
    "start_time": "2023-04-17T15:57:09.756Z"
   },
   {
    "duration": 6,
    "start_time": "2023-04-17T15:57:13.735Z"
   },
   {
    "duration": 4,
    "start_time": "2023-04-17T15:57:19.084Z"
   },
   {
    "duration": 114,
    "start_time": "2023-04-17T16:00:31.232Z"
   },
   {
    "duration": 118,
    "start_time": "2023-04-17T16:00:35.309Z"
   },
   {
    "duration": 5,
    "start_time": "2023-04-17T16:00:38.405Z"
   },
   {
    "duration": 4,
    "start_time": "2023-04-17T16:00:43.008Z"
   },
   {
    "duration": 116,
    "start_time": "2023-04-17T16:00:45.707Z"
   },
   {
    "duration": 3,
    "start_time": "2023-04-17T16:00:49.639Z"
   },
   {
    "duration": 4,
    "start_time": "2023-04-17T16:00:51.884Z"
   },
   {
    "duration": 43,
    "start_time": "2023-04-17T16:00:55.780Z"
   },
   {
    "duration": 3,
    "start_time": "2023-04-17T16:00:57.850Z"
   },
   {
    "duration": 7,
    "start_time": "2023-04-17T16:01:00.154Z"
   },
   {
    "duration": 16,
    "start_time": "2023-04-17T16:01:05.124Z"
   },
   {
    "duration": 46,
    "start_time": "2023-04-17T16:01:08.036Z"
   },
   {
    "duration": 12,
    "start_time": "2023-04-17T16:01:11.089Z"
   },
   {
    "duration": 3,
    "start_time": "2023-04-17T16:01:13.300Z"
   },
   {
    "duration": 46,
    "start_time": "2023-04-17T16:01:16.241Z"
   },
   {
    "duration": 19,
    "start_time": "2023-04-17T16:01:18.689Z"
   },
   {
    "duration": 8,
    "start_time": "2023-04-17T16:01:21.192Z"
   },
   {
    "duration": 3,
    "start_time": "2023-04-17T16:01:24.539Z"
   },
   {
    "duration": 77,
    "start_time": "2023-04-17T16:06:36.780Z"
   },
   {
    "duration": 312,
    "start_time": "2023-04-17T16:11:29.598Z"
   },
   {
    "duration": 7,
    "start_time": "2023-04-17T16:12:25.502Z"
   },
   {
    "duration": 74,
    "start_time": "2023-04-17T16:12:43.311Z"
   },
   {
    "duration": 15,
    "start_time": "2023-04-17T16:12:45.413Z"
   },
   {
    "duration": 3,
    "start_time": "2023-04-17T16:12:49.973Z"
   },
   {
    "duration": 73,
    "start_time": "2023-04-17T16:13:29.032Z"
   },
   {
    "duration": 3,
    "start_time": "2023-04-17T16:13:30.517Z"
   },
   {
    "duration": 5,
    "start_time": "2023-04-17T16:14:30.630Z"
   },
   {
    "duration": 4,
    "start_time": "2023-04-17T16:14:43.681Z"
   },
   {
    "duration": 6,
    "start_time": "2023-04-17T16:15:17.479Z"
   },
   {
    "duration": 9,
    "start_time": "2023-04-17T16:19:36.516Z"
   },
   {
    "duration": 21,
    "start_time": "2023-04-17T16:20:33.346Z"
   },
   {
    "duration": 20,
    "start_time": "2023-04-17T16:21:35.941Z"
   },
   {
    "duration": 8,
    "start_time": "2023-04-17T17:02:17.651Z"
   },
   {
    "duration": 8,
    "start_time": "2023-04-17T17:02:20.900Z"
   },
   {
    "duration": 5,
    "start_time": "2023-04-17T17:02:51.801Z"
   },
   {
    "duration": 836,
    "start_time": "2023-04-17T17:03:30.600Z"
   },
   {
    "duration": 5,
    "start_time": "2023-04-17T17:04:05.110Z"
   },
   {
    "duration": 8,
    "start_time": "2023-04-17T17:04:33.607Z"
   },
   {
    "duration": 6,
    "start_time": "2023-04-17T17:05:08.315Z"
   },
   {
    "duration": 6,
    "start_time": "2023-04-17T17:19:47.309Z"
   },
   {
    "duration": 7,
    "start_time": "2023-04-17T17:20:01.374Z"
   },
   {
    "duration": 21,
    "start_time": "2023-04-17T17:23:28.023Z"
   },
   {
    "duration": 35,
    "start_time": "2023-04-17T17:33:06.498Z"
   },
   {
    "duration": 808,
    "start_time": "2023-04-17T17:36:45.884Z"
   },
   {
    "duration": 9,
    "start_time": "2023-04-17T17:37:10.015Z"
   },
   {
    "duration": 23,
    "start_time": "2023-04-17T17:37:35.079Z"
   },
   {
    "duration": 15,
    "start_time": "2023-04-17T17:38:18.876Z"
   },
   {
    "duration": 93,
    "start_time": "2023-04-17T17:40:24.385Z"
   },
   {
    "duration": 21,
    "start_time": "2023-04-17T17:40:58.484Z"
   },
   {
    "duration": 39,
    "start_time": "2023-04-17T17:43:52.756Z"
   },
   {
    "duration": 17,
    "start_time": "2023-04-17T17:49:42.535Z"
   },
   {
    "duration": 1495,
    "start_time": "2023-04-18T19:04:28.033Z"
   },
   {
    "duration": 11,
    "start_time": "2023-04-18T19:04:29.747Z"
   },
   {
    "duration": 13,
    "start_time": "2023-04-18T19:04:32.203Z"
   },
   {
    "duration": 10,
    "start_time": "2023-04-18T19:04:34.832Z"
   },
   {
    "duration": 9,
    "start_time": "2023-04-18T19:04:37.429Z"
   },
   {
    "duration": 148,
    "start_time": "2023-04-18T19:04:40.705Z"
   },
   {
    "duration": 68,
    "start_time": "2023-04-18T19:04:42.525Z"
   },
   {
    "duration": 8,
    "start_time": "2023-04-18T19:04:44.419Z"
   },
   {
    "duration": 8,
    "start_time": "2023-04-18T19:04:46.833Z"
   },
   {
    "duration": 2,
    "start_time": "2023-04-18T19:04:49.000Z"
   },
   {
    "duration": 11,
    "start_time": "2023-04-18T19:04:50.812Z"
   },
   {
    "duration": 5,
    "start_time": "2023-04-18T19:04:53.300Z"
   },
   {
    "duration": 13,
    "start_time": "2023-04-18T19:04:55.018Z"
   },
   {
    "duration": 4,
    "start_time": "2023-04-18T19:04:57.606Z"
   },
   {
    "duration": 5,
    "start_time": "2023-04-18T19:04:59.426Z"
   },
   {
    "duration": 8,
    "start_time": "2023-04-18T19:05:01.107Z"
   },
   {
    "duration": 5,
    "start_time": "2023-04-18T19:05:04.103Z"
   },
   {
    "duration": 5,
    "start_time": "2023-04-18T19:05:06.405Z"
   },
   {
    "duration": 7,
    "start_time": "2023-04-18T19:05:08.509Z"
   },
   {
    "duration": 193,
    "start_time": "2023-04-18T19:05:11.798Z"
   },
   {
    "duration": 127,
    "start_time": "2023-04-18T19:05:14.101Z"
   },
   {
    "duration": 10,
    "start_time": "2023-04-18T19:05:16.522Z"
   },
   {
    "duration": 5,
    "start_time": "2023-04-18T19:05:19.207Z"
   },
   {
    "duration": 8,
    "start_time": "2023-04-18T19:05:21.448Z"
   },
   {
    "duration": 10,
    "start_time": "2023-04-18T19:05:23.818Z"
   },
   {
    "duration": 3,
    "start_time": "2023-04-18T19:06:10.652Z"
   },
   {
    "duration": 6,
    "start_time": "2023-04-18T19:06:14.222Z"
   },
   {
    "duration": 233,
    "start_time": "2023-04-18T19:06:16.705Z"
   },
   {
    "duration": 144,
    "start_time": "2023-04-18T19:06:20.422Z"
   },
   {
    "duration": 133,
    "start_time": "2023-04-18T19:06:40.362Z"
   },
   {
    "duration": 157,
    "start_time": "2023-04-18T19:06:43.322Z"
   },
   {
    "duration": 5,
    "start_time": "2023-04-18T19:06:47.628Z"
   },
   {
    "duration": 320,
    "start_time": "2023-04-18T19:06:50.215Z"
   },
   {
    "duration": 6,
    "start_time": "2023-04-18T19:06:54.809Z"
   },
   {
    "duration": 4,
    "start_time": "2023-04-18T19:06:57.023Z"
   },
   {
    "duration": 163,
    "start_time": "2023-04-18T19:06:59.547Z"
   },
   {
    "duration": 9,
    "start_time": "2023-04-18T19:07:03.107Z"
   },
   {
    "duration": 249,
    "start_time": "2023-04-18T19:07:05.361Z"
   },
   {
    "duration": 346,
    "start_time": "2023-04-18T19:07:13.801Z"
   },
   {
    "duration": 8,
    "start_time": "2023-04-18T19:07:17.525Z"
   },
   {
    "duration": 6,
    "start_time": "2023-04-18T19:07:20.395Z"
   },
   {
    "duration": 6,
    "start_time": "2023-04-18T19:07:22.810Z"
   },
   {
    "duration": 3,
    "start_time": "2023-04-18T19:07:25.801Z"
   },
   {
    "duration": 5,
    "start_time": "2023-04-18T19:07:27.707Z"
   },
   {
    "duration": 104,
    "start_time": "2023-04-18T19:07:29.847Z"
   },
   {
    "duration": 97,
    "start_time": "2023-04-18T19:07:39.103Z"
   },
   {
    "duration": 6,
    "start_time": "2023-04-18T19:07:42.943Z"
   },
   {
    "duration": 6,
    "start_time": "2023-04-18T19:08:41.111Z"
   },
   {
    "duration": 4,
    "start_time": "2023-04-18T19:08:45.347Z"
   },
   {
    "duration": 110,
    "start_time": "2023-04-18T19:08:49.002Z"
   },
   {
    "duration": 107,
    "start_time": "2023-04-18T19:08:52.302Z"
   },
   {
    "duration": 4,
    "start_time": "2023-04-18T19:08:55.315Z"
   },
   {
    "duration": 5,
    "start_time": "2023-04-18T19:09:04.635Z"
   },
   {
    "duration": 5,
    "start_time": "2023-04-18T19:09:49.513Z"
   },
   {
    "duration": 47,
    "start_time": "2023-04-18T19:09:52.025Z"
   },
   {
    "duration": 2,
    "start_time": "2023-04-18T19:09:54.428Z"
   },
   {
    "duration": 5,
    "start_time": "2023-04-18T19:09:57.256Z"
   },
   {
    "duration": 47,
    "start_time": "2023-04-18T19:09:59.440Z"
   },
   {
    "duration": 3,
    "start_time": "2023-04-18T19:10:01.905Z"
   },
   {
    "duration": 10,
    "start_time": "2023-04-18T19:10:06.007Z"
   },
   {
    "duration": 15,
    "start_time": "2023-04-18T19:10:56.122Z"
   },
   {
    "duration": 50,
    "start_time": "2023-04-18T19:11:00.225Z"
   },
   {
    "duration": 16,
    "start_time": "2023-04-18T19:11:02.707Z"
   },
   {
    "duration": 2,
    "start_time": "2023-04-18T19:11:04.854Z"
   },
   {
    "duration": 48,
    "start_time": "2023-04-18T19:11:07.643Z"
   },
   {
    "duration": 18,
    "start_time": "2023-04-18T19:11:11.025Z"
   },
   {
    "duration": 8,
    "start_time": "2023-04-18T19:11:12.924Z"
   },
   {
    "duration": 68,
    "start_time": "2023-04-18T19:11:17.115Z"
   },
   {
    "duration": 6,
    "start_time": "2023-04-18T19:11:20.543Z"
   },
   {
    "duration": 3,
    "start_time": "2023-04-18T19:11:24.222Z"
   },
   {
    "duration": 66,
    "start_time": "2023-04-18T19:11:26.525Z"
   },
   {
    "duration": 2,
    "start_time": "2023-04-18T19:11:29.501Z"
   },
   {
    "duration": 4,
    "start_time": "2023-04-18T19:11:31.562Z"
   },
   {
    "duration": 5,
    "start_time": "2023-04-18T19:11:33.932Z"
   },
   {
    "duration": 7,
    "start_time": "2023-04-18T19:11:38.700Z"
   },
   {
    "duration": 7,
    "start_time": "2023-04-18T19:12:04.130Z"
   },
   {
    "duration": 21,
    "start_time": "2023-04-18T19:12:11.119Z"
   },
   {
    "duration": 20,
    "start_time": "2023-04-18T19:40:04.310Z"
   },
   {
    "duration": 1204,
    "start_time": "2023-04-19T10:31:52.875Z"
   },
   {
    "duration": 11,
    "start_time": "2023-04-19T10:31:54.247Z"
   },
   {
    "duration": 11,
    "start_time": "2023-04-19T10:31:56.321Z"
   },
   {
    "duration": 9,
    "start_time": "2023-04-19T10:31:58.723Z"
   },
   {
    "duration": 10,
    "start_time": "2023-04-19T10:32:00.861Z"
   },
   {
    "duration": 78,
    "start_time": "2023-04-19T10:32:04.934Z"
   },
   {
    "duration": 65,
    "start_time": "2023-04-19T10:32:06.773Z"
   },
   {
    "duration": 8,
    "start_time": "2023-04-19T10:32:08.026Z"
   },
   {
    "duration": 7,
    "start_time": "2023-04-19T10:32:10.347Z"
   },
   {
    "duration": 3,
    "start_time": "2023-04-19T10:32:12.781Z"
   },
   {
    "duration": 11,
    "start_time": "2023-04-19T10:32:14.632Z"
   },
   {
    "duration": 5,
    "start_time": "2023-04-19T10:32:16.979Z"
   },
   {
    "duration": 9,
    "start_time": "2023-04-19T10:32:18.288Z"
   },
   {
    "duration": 3,
    "start_time": "2023-04-19T10:32:20.757Z"
   },
   {
    "duration": 6,
    "start_time": "2023-04-19T10:32:22.194Z"
   },
   {
    "duration": 7,
    "start_time": "2023-04-19T10:32:23.815Z"
   },
   {
    "duration": 3,
    "start_time": "2023-04-19T10:32:26.286Z"
   },
   {
    "duration": 4,
    "start_time": "2023-04-19T10:32:27.579Z"
   },
   {
    "duration": 8,
    "start_time": "2023-04-19T10:32:29.317Z"
   },
   {
    "duration": 160,
    "start_time": "2023-04-19T10:32:31.935Z"
   },
   {
    "duration": 121,
    "start_time": "2023-04-19T10:32:33.584Z"
   },
   {
    "duration": 11,
    "start_time": "2023-04-19T10:32:35.463Z"
   },
   {
    "duration": 4,
    "start_time": "2023-04-19T10:32:38.490Z"
   },
   {
    "duration": 7,
    "start_time": "2023-04-19T10:32:40.046Z"
   },
   {
    "duration": 8,
    "start_time": "2023-04-19T10:32:41.493Z"
   },
   {
    "duration": 6,
    "start_time": "2023-04-19T10:32:43.576Z"
   },
   {
    "duration": 204,
    "start_time": "2023-04-19T10:32:45.007Z"
   },
   {
    "duration": 135,
    "start_time": "2023-04-19T10:32:47.971Z"
   },
   {
    "duration": 148,
    "start_time": "2023-04-19T10:32:52.097Z"
   },
   {
    "duration": 5,
    "start_time": "2023-04-19T10:32:56.442Z"
   },
   {
    "duration": 335,
    "start_time": "2023-04-19T10:32:58.411Z"
   },
   {
    "duration": 5,
    "start_time": "2023-04-19T10:33:01.354Z"
   },
   {
    "duration": 4,
    "start_time": "2023-04-19T10:33:03.976Z"
   },
   {
    "duration": 134,
    "start_time": "2023-04-19T10:33:04.495Z"
   },
   {
    "duration": 9,
    "start_time": "2023-04-19T10:33:07.446Z"
   },
   {
    "duration": 288,
    "start_time": "2023-04-19T10:33:08.942Z"
   },
   {
    "duration": 8,
    "start_time": "2023-04-19T10:33:13.108Z"
   },
   {
    "duration": 7,
    "start_time": "2023-04-19T10:33:15.956Z"
   },
   {
    "duration": 6,
    "start_time": "2023-04-19T10:33:17.810Z"
   },
   {
    "duration": 6,
    "start_time": "2023-04-19T10:33:19.516Z"
   },
   {
    "duration": 3,
    "start_time": "2023-04-19T10:33:22.296Z"
   },
   {
    "duration": 6,
    "start_time": "2023-04-19T10:33:23.863Z"
   },
   {
    "duration": 118,
    "start_time": "2023-04-19T10:33:25.421Z"
   },
   {
    "duration": 171,
    "start_time": "2023-04-19T10:33:29.798Z"
   },
   {
    "duration": 6,
    "start_time": "2023-04-19T10:33:33.341Z"
   },
   {
    "duration": 3,
    "start_time": "2023-04-19T10:33:36.708Z"
   },
   {
    "duration": 162,
    "start_time": "2023-04-19T10:33:42.472Z"
   },
   {
    "duration": 106,
    "start_time": "2023-04-19T10:33:45.699Z"
   },
   {
    "duration": 4,
    "start_time": "2023-04-19T10:33:48.439Z"
   },
   {
    "duration": 5,
    "start_time": "2023-04-19T10:33:51.270Z"
   },
   {
    "duration": 40,
    "start_time": "2023-04-19T10:33:52.873Z"
   },
   {
    "duration": 2,
    "start_time": "2023-04-19T10:33:54.623Z"
   },
   {
    "duration": 5,
    "start_time": "2023-04-19T10:33:55.972Z"
   },
   {
    "duration": 40,
    "start_time": "2023-04-19T10:33:58.407Z"
   },
   {
    "duration": 3,
    "start_time": "2023-04-19T10:33:59.852Z"
   },
   {
    "duration": 10,
    "start_time": "2023-04-19T10:34:01.707Z"
   },
   {
    "duration": 11,
    "start_time": "2023-04-19T10:34:04.453Z"
   },
   {
    "duration": 45,
    "start_time": "2023-04-19T10:34:05.998Z"
   },
   {
    "duration": 88,
    "start_time": "2023-04-19T10:34:08.435Z"
   },
   {
    "duration": 9,
    "start_time": "2023-04-19T10:34:12.073Z"
   },
   {
    "duration": 12,
    "start_time": "2023-04-19T10:34:13.401Z"
   },
   {
    "duration": 3,
    "start_time": "2023-04-19T10:34:15.015Z"
   },
   {
    "duration": 51,
    "start_time": "2023-04-19T10:34:16.454Z"
   },
   {
    "duration": 20,
    "start_time": "2023-04-19T10:34:18.972Z"
   },
   {
    "duration": 7,
    "start_time": "2023-04-19T10:34:20.640Z"
   },
   {
    "duration": 65,
    "start_time": "2023-04-19T10:34:23.072Z"
   },
   {
    "duration": 6,
    "start_time": "2023-04-19T10:34:24.572Z"
   },
   {
    "duration": 2,
    "start_time": "2023-04-19T10:34:27.479Z"
   },
   {
    "duration": 77,
    "start_time": "2023-04-19T10:34:28.797Z"
   },
   {
    "duration": 2,
    "start_time": "2023-04-19T10:34:30.367Z"
   },
   {
    "duration": 5,
    "start_time": "2023-04-19T10:34:32.415Z"
   },
   {
    "duration": 5,
    "start_time": "2023-04-19T10:34:35.796Z"
   },
   {
    "duration": 9,
    "start_time": "2023-04-19T10:34:37.756Z"
   },
   {
    "duration": 9,
    "start_time": "2023-04-19T10:34:46.407Z"
   },
   {
    "duration": 7,
    "start_time": "2023-04-19T10:34:49.751Z"
   },
   {
    "duration": 33,
    "start_time": "2023-04-19T10:34:52.676Z"
   },
   {
    "duration": 6,
    "start_time": "2023-04-19T10:35:11.111Z"
   },
   {
    "duration": 6,
    "start_time": "2023-04-19T10:35:13.371Z"
   },
   {
    "duration": 7,
    "start_time": "2023-04-19T10:35:15.047Z"
   },
   {
    "duration": 6,
    "start_time": "2023-04-19T10:35:18.634Z"
   },
   {
    "duration": 10,
    "start_time": "2023-04-19T10:35:21.919Z"
   },
   {
    "duration": 6,
    "start_time": "2023-04-19T10:35:27.713Z"
   },
   {
    "duration": 23,
    "start_time": "2023-04-19T10:35:32.051Z"
   },
   {
    "duration": 22,
    "start_time": "2023-04-19T10:41:49.976Z"
   },
   {
    "duration": 41,
    "start_time": "2023-04-19T10:43:52.448Z"
   },
   {
    "duration": 7,
    "start_time": "2023-04-19T10:44:36.658Z"
   },
   {
    "duration": 6,
    "start_time": "2023-04-19T10:44:38.138Z"
   },
   {
    "duration": 7,
    "start_time": "2023-04-19T10:44:39.450Z"
   },
   {
    "duration": 5,
    "start_time": "2023-04-19T10:44:41.456Z"
   },
   {
    "duration": 18,
    "start_time": "2023-04-19T10:44:43.598Z"
   },
   {
    "duration": 26,
    "start_time": "2023-04-19T10:44:47.013Z"
   },
   {
    "duration": 3,
    "start_time": "2023-04-19T10:45:10.369Z"
   },
   {
    "duration": 16,
    "start_time": "2023-04-19T10:45:27.392Z"
   },
   {
    "duration": 6,
    "start_time": "2023-04-19T10:46:04.641Z"
   },
   {
    "duration": 5,
    "start_time": "2023-04-19T10:50:30.148Z"
   },
   {
    "duration": 5,
    "start_time": "2023-04-19T10:50:45.013Z"
   },
   {
    "duration": 5,
    "start_time": "2023-04-19T10:51:19.059Z"
   },
   {
    "duration": 11,
    "start_time": "2023-04-19T10:51:22.861Z"
   },
   {
    "duration": 2,
    "start_time": "2023-04-19T10:58:49.313Z"
   },
   {
    "duration": 3,
    "start_time": "2023-04-19T10:58:51.361Z"
   },
   {
    "duration": 11,
    "start_time": "2023-04-19T10:58:52.680Z"
   },
   {
    "duration": 10,
    "start_time": "2023-04-19T10:59:17.942Z"
   },
   {
    "duration": 9,
    "start_time": "2023-04-19T10:59:59.342Z"
   },
   {
    "duration": 2,
    "start_time": "2023-04-19T11:00:03.982Z"
   },
   {
    "duration": 13,
    "start_time": "2023-04-19T11:00:03.986Z"
   },
   {
    "duration": 1449,
    "start_time": "2023-04-19T19:05:28.802Z"
   },
   {
    "duration": 12,
    "start_time": "2023-04-19T19:05:30.299Z"
   },
   {
    "duration": 13,
    "start_time": "2023-04-19T19:05:32.453Z"
   },
   {
    "duration": 9,
    "start_time": "2023-04-19T19:05:34.639Z"
   },
   {
    "duration": 9,
    "start_time": "2023-04-19T19:05:36.833Z"
   },
   {
    "duration": 85,
    "start_time": "2023-04-19T19:05:40.188Z"
   },
   {
    "duration": 69,
    "start_time": "2023-04-19T19:05:41.693Z"
   },
   {
    "duration": 8,
    "start_time": "2023-04-19T19:05:42.839Z"
   },
   {
    "duration": 8,
    "start_time": "2023-04-19T19:06:03.020Z"
   },
   {
    "duration": 8,
    "start_time": "2023-04-19T19:06:05.621Z"
   },
   {
    "duration": 3,
    "start_time": "2023-04-19T19:06:08.297Z"
   },
   {
    "duration": 10,
    "start_time": "2023-04-19T19:06:10.055Z"
   },
   {
    "duration": 5,
    "start_time": "2023-04-19T19:06:13.085Z"
   },
   {
    "duration": 11,
    "start_time": "2023-04-19T19:06:16.720Z"
   },
   {
    "duration": 4,
    "start_time": "2023-04-19T19:06:19.981Z"
   },
   {
    "duration": 6,
    "start_time": "2023-04-19T19:06:21.797Z"
   },
   {
    "duration": 11,
    "start_time": "2023-04-19T19:06:23.634Z"
   },
   {
    "duration": 4,
    "start_time": "2023-04-19T19:06:26.907Z"
   },
   {
    "duration": 5,
    "start_time": "2023-04-19T19:06:29.076Z"
   },
   {
    "duration": 9,
    "start_time": "2023-04-19T19:06:31.788Z"
   },
   {
    "duration": 188,
    "start_time": "2023-04-19T19:06:35.109Z"
   },
   {
    "duration": 132,
    "start_time": "2023-04-19T19:06:37.389Z"
   },
   {
    "duration": 11,
    "start_time": "2023-04-19T19:06:39.344Z"
   },
   {
    "duration": 4,
    "start_time": "2023-04-19T19:06:41.942Z"
   },
   {
    "duration": 7,
    "start_time": "2023-04-19T19:06:43.983Z"
   },
   {
    "duration": 9,
    "start_time": "2023-04-19T19:06:46.316Z"
   },
   {
    "duration": 6,
    "start_time": "2023-04-19T19:06:48.551Z"
   },
   {
    "duration": 226,
    "start_time": "2023-04-19T19:06:50.783Z"
   },
   {
    "duration": 174,
    "start_time": "2023-04-19T19:06:53.467Z"
   },
   {
    "duration": 165,
    "start_time": "2023-04-19T19:06:57.463Z"
   },
   {
    "duration": 6,
    "start_time": "2023-04-19T19:07:01.485Z"
   },
   {
    "duration": 283,
    "start_time": "2023-04-19T19:07:03.800Z"
   },
   {
    "duration": 7,
    "start_time": "2023-04-19T19:07:07.006Z"
   },
   {
    "duration": 4,
    "start_time": "2023-04-19T19:07:09.560Z"
   },
   {
    "duration": 157,
    "start_time": "2023-04-19T19:07:11.333Z"
   },
   {
    "duration": 8,
    "start_time": "2023-04-19T19:07:15.253Z"
   },
   {
    "duration": 299,
    "start_time": "2023-04-19T19:07:16.887Z"
   },
   {
    "duration": 8,
    "start_time": "2023-04-19T19:07:19.808Z"
   },
   {
    "duration": 7,
    "start_time": "2023-04-19T19:07:22.047Z"
   },
   {
    "duration": 6,
    "start_time": "2023-04-19T19:07:24.290Z"
   },
   {
    "duration": 3,
    "start_time": "2023-04-19T19:07:26.630Z"
   },
   {
    "duration": 5,
    "start_time": "2023-04-19T19:07:28.740Z"
   },
   {
    "duration": 117,
    "start_time": "2023-04-19T19:07:32.742Z"
   },
   {
    "duration": 196,
    "start_time": "2023-04-19T19:07:36.198Z"
   },
   {
    "duration": 6,
    "start_time": "2023-04-19T19:07:38.950Z"
   },
   {
    "duration": 4,
    "start_time": "2023-04-19T19:07:42.804Z"
   },
   {
    "duration": 132,
    "start_time": "2023-04-19T19:07:45.581Z"
   },
   {
    "duration": 126,
    "start_time": "2023-04-19T19:07:55.987Z"
   },
   {
    "duration": 5,
    "start_time": "2023-04-19T19:07:59.787Z"
   },
   {
    "duration": 5,
    "start_time": "2023-04-19T19:08:04.137Z"
   },
   {
    "duration": 49,
    "start_time": "2023-04-19T19:08:06.182Z"
   },
   {
    "duration": 3,
    "start_time": "2023-04-19T19:08:09.414Z"
   },
   {
    "duration": 5,
    "start_time": "2023-04-19T19:08:11.746Z"
   },
   {
    "duration": 45,
    "start_time": "2023-04-19T19:08:14.684Z"
   },
   {
    "duration": 3,
    "start_time": "2023-04-19T19:08:16.781Z"
   },
   {
    "duration": 8,
    "start_time": "2023-04-19T19:08:18.655Z"
   },
   {
    "duration": 15,
    "start_time": "2023-04-19T19:08:21.685Z"
   },
   {
    "duration": 52,
    "start_time": "2023-04-19T19:08:24.434Z"
   },
   {
    "duration": 17,
    "start_time": "2023-04-19T19:08:57.786Z"
   },
   {
    "duration": 3,
    "start_time": "2023-04-19T19:09:09.284Z"
   },
   {
    "duration": 67,
    "start_time": "2023-04-19T19:09:11.413Z"
   },
   {
    "duration": 21,
    "start_time": "2023-04-19T19:09:13.875Z"
   },
   {
    "duration": 8,
    "start_time": "2023-04-19T19:09:17.213Z"
   },
   {
    "duration": 65,
    "start_time": "2023-04-19T19:09:19.090Z"
   },
   {
    "duration": 9,
    "start_time": "2023-04-19T19:09:21.331Z"
   },
   {
    "duration": 3,
    "start_time": "2023-04-19T19:09:24.238Z"
   },
   {
    "duration": 89,
    "start_time": "2023-04-19T19:09:26.046Z"
   },
   {
    "duration": 3,
    "start_time": "2023-04-19T19:09:28.581Z"
   },
   {
    "duration": 5,
    "start_time": "2023-04-19T19:09:30.411Z"
   },
   {
    "duration": 4,
    "start_time": "2023-04-19T19:09:32.944Z"
   },
   {
    "duration": 10,
    "start_time": "2023-04-19T19:09:35.497Z"
   },
   {
    "duration": 25,
    "start_time": "2023-04-19T19:09:39.180Z"
   },
   {
    "duration": 6,
    "start_time": "2023-04-19T19:09:43.563Z"
   },
   {
    "duration": 5,
    "start_time": "2023-04-19T19:09:47.018Z"
   },
   {
    "duration": 6,
    "start_time": "2023-04-19T19:09:49.241Z"
   },
   {
    "duration": 5,
    "start_time": "2023-04-19T19:09:52.385Z"
   },
   {
    "duration": 5,
    "start_time": "2023-04-19T19:09:54.986Z"
   },
   {
    "duration": 23,
    "start_time": "2023-04-19T19:09:58.010Z"
   },
   {
    "duration": 3,
    "start_time": "2023-04-19T19:10:01.632Z"
   },
   {
    "duration": 4,
    "start_time": "2023-04-19T19:10:04.583Z"
   },
   {
    "duration": 113,
    "start_time": "2023-04-19T19:10:20.451Z"
   },
   {
    "duration": 6,
    "start_time": "2023-04-19T19:11:15.942Z"
   },
   {
    "duration": 51,
    "start_time": "2023-04-19T19:17:31.086Z"
   },
   {
    "duration": 3,
    "start_time": "2023-04-19T19:17:40.293Z"
   },
   {
    "duration": 3,
    "start_time": "2023-04-19T19:17:46.022Z"
   },
   {
    "duration": 4,
    "start_time": "2023-04-19T19:17:57.043Z"
   },
   {
    "duration": 7,
    "start_time": "2023-04-19T19:18:14.689Z"
   },
   {
    "duration": 3,
    "start_time": "2023-04-19T19:18:31.752Z"
   },
   {
    "duration": 4,
    "start_time": "2023-04-19T19:19:54.750Z"
   },
   {
    "duration": 3,
    "start_time": "2023-04-19T19:20:26.413Z"
   },
   {
    "duration": 16,
    "start_time": "2023-04-19T19:21:19.274Z"
   },
   {
    "duration": 4,
    "start_time": "2023-04-19T19:21:22.368Z"
   },
   {
    "duration": 13,
    "start_time": "2023-04-19T19:21:47.785Z"
   },
   {
    "duration": 3,
    "start_time": "2023-04-19T19:21:56.592Z"
   },
   {
    "duration": 8,
    "start_time": "2023-04-19T19:21:58.494Z"
   },
   {
    "duration": 3,
    "start_time": "2023-04-19T19:22:00.987Z"
   },
   {
    "duration": 3,
    "start_time": "2023-04-19T19:22:03.335Z"
   },
   {
    "duration": 16,
    "start_time": "2023-04-19T19:22:07.607Z"
   },
   {
    "duration": 16,
    "start_time": "2023-04-19T19:22:15.644Z"
   },
   {
    "duration": 4,
    "start_time": "2023-04-19T19:27:24.621Z"
   },
   {
    "duration": 4,
    "start_time": "2023-04-19T19:28:17.273Z"
   },
   {
    "duration": 3,
    "start_time": "2023-04-19T19:28:24.080Z"
   },
   {
    "duration": 5,
    "start_time": "2023-04-19T19:29:32.367Z"
   },
   {
    "duration": 4,
    "start_time": "2023-04-19T19:31:21.738Z"
   },
   {
    "duration": 12,
    "start_time": "2023-04-19T19:31:43.674Z"
   },
   {
    "duration": 12,
    "start_time": "2023-04-19T19:32:29.144Z"
   },
   {
    "duration": 4,
    "start_time": "2023-04-19T19:51:02.410Z"
   },
   {
    "duration": 23,
    "start_time": "2023-04-19T19:51:13.761Z"
   },
   {
    "duration": 63,
    "start_time": "2023-04-19T19:51:52.916Z"
   },
   {
    "duration": 44,
    "start_time": "2023-04-19T19:52:05.419Z"
   },
   {
    "duration": 4,
    "start_time": "2023-04-19T19:52:10.706Z"
   },
   {
    "duration": 20,
    "start_time": "2023-04-19T19:52:28.784Z"
   },
   {
    "duration": 15,
    "start_time": "2023-04-19T19:54:14.833Z"
   },
   {
    "duration": 3,
    "start_time": "2023-04-19T19:56:49.825Z"
   },
   {
    "duration": 3,
    "start_time": "2023-04-19T20:03:30.890Z"
   },
   {
    "duration": 15,
    "start_time": "2023-04-19T20:03:47.757Z"
   },
   {
    "duration": 4,
    "start_time": "2023-04-19T20:05:21.594Z"
   },
   {
    "duration": 20,
    "start_time": "2023-04-19T20:05:43.429Z"
   },
   {
    "duration": 8,
    "start_time": "2023-04-19T20:06:30.854Z"
   },
   {
    "duration": 6,
    "start_time": "2023-04-19T20:07:20.685Z"
   },
   {
    "duration": 12,
    "start_time": "2023-04-19T20:07:48.894Z"
   },
   {
    "duration": 5,
    "start_time": "2023-04-19T20:07:54.461Z"
   },
   {
    "duration": 4,
    "start_time": "2023-04-19T20:07:57.296Z"
   },
   {
    "duration": 14,
    "start_time": "2023-04-19T20:08:05.793Z"
   },
   {
    "duration": 14,
    "start_time": "2023-04-19T20:08:51.238Z"
   },
   {
    "duration": 3,
    "start_time": "2023-04-19T20:09:15.044Z"
   },
   {
    "duration": 4,
    "start_time": "2023-04-19T20:09:16.802Z"
   },
   {
    "duration": 23,
    "start_time": "2023-04-19T20:09:44.590Z"
   },
   {
    "duration": 4,
    "start_time": "2023-04-19T20:37:53.486Z"
   },
   {
    "duration": 3,
    "start_time": "2023-04-19T20:38:05.330Z"
   },
   {
    "duration": 7,
    "start_time": "2023-04-19T20:38:06.510Z"
   },
   {
    "duration": 3,
    "start_time": "2023-04-19T20:38:17.924Z"
   },
   {
    "duration": 4,
    "start_time": "2023-04-19T20:40:38.854Z"
   },
   {
    "duration": 1327,
    "start_time": "2023-04-20T09:34:26.574Z"
   },
   {
    "duration": 12,
    "start_time": "2023-04-20T09:34:27.980Z"
   },
   {
    "duration": 11,
    "start_time": "2023-04-20T09:34:33.222Z"
   },
   {
    "duration": 9,
    "start_time": "2023-04-20T09:34:35.735Z"
   },
   {
    "duration": 9,
    "start_time": "2023-04-20T09:34:38.188Z"
   },
   {
    "duration": 79,
    "start_time": "2023-04-20T09:34:43.791Z"
   },
   {
    "duration": 66,
    "start_time": "2023-04-20T09:34:45.779Z"
   },
   {
    "duration": 9,
    "start_time": "2023-04-20T09:34:47.196Z"
   },
   {
    "duration": 7,
    "start_time": "2023-04-20T09:34:49.308Z"
   },
   {
    "duration": 2,
    "start_time": "2023-04-20T09:34:51.444Z"
   },
   {
    "duration": 9,
    "start_time": "2023-04-20T09:34:52.789Z"
   },
   {
    "duration": 4,
    "start_time": "2023-04-20T09:34:55.286Z"
   },
   {
    "duration": 9,
    "start_time": "2023-04-20T09:34:56.492Z"
   },
   {
    "duration": 4,
    "start_time": "2023-04-20T09:34:58.924Z"
   },
   {
    "duration": 5,
    "start_time": "2023-04-20T09:35:00.552Z"
   },
   {
    "duration": 7,
    "start_time": "2023-04-20T09:35:01.870Z"
   },
   {
    "duration": 3,
    "start_time": "2023-04-20T09:35:04.789Z"
   },
   {
    "duration": 4,
    "start_time": "2023-04-20T09:35:06.118Z"
   },
   {
    "duration": 8,
    "start_time": "2023-04-20T09:35:07.732Z"
   },
   {
    "duration": 163,
    "start_time": "2023-04-20T09:35:10.767Z"
   },
   {
    "duration": 124,
    "start_time": "2023-04-20T09:35:12.636Z"
   },
   {
    "duration": 9,
    "start_time": "2023-04-20T09:35:15.133Z"
   },
   {
    "duration": 4,
    "start_time": "2023-04-20T09:35:17.508Z"
   },
   {
    "duration": 8,
    "start_time": "2023-04-20T09:35:18.916Z"
   },
   {
    "duration": 8,
    "start_time": "2023-04-20T09:35:20.195Z"
   },
   {
    "duration": 9,
    "start_time": "2023-04-20T09:35:22.388Z"
   },
   {
    "duration": 208,
    "start_time": "2023-04-20T09:35:23.907Z"
   },
   {
    "duration": 153,
    "start_time": "2023-04-20T09:35:28.173Z"
   },
   {
    "duration": 6,
    "start_time": "2023-04-20T09:35:31.684Z"
   },
   {
    "duration": 281,
    "start_time": "2023-04-20T09:35:33.355Z"
   },
   {
    "duration": 6,
    "start_time": "2023-04-20T09:35:37.492Z"
   },
   {
    "duration": 4,
    "start_time": "2023-04-20T09:35:38.982Z"
   },
   {
    "duration": 151,
    "start_time": "2023-04-20T09:35:40.477Z"
   },
   {
    "duration": 6,
    "start_time": "2023-04-20T09:35:43.140Z"
   },
   {
    "duration": 291,
    "start_time": "2023-04-20T09:35:44.516Z"
   },
   {
    "duration": 8,
    "start_time": "2023-04-20T09:35:47.668Z"
   },
   {
    "duration": 6,
    "start_time": "2023-04-20T09:35:49.676Z"
   },
   {
    "duration": 8,
    "start_time": "2023-04-20T09:40:41.591Z"
   },
   {
    "duration": 7,
    "start_time": "2023-04-20T09:40:43.027Z"
   },
   {
    "duration": 6,
    "start_time": "2023-04-20T09:40:44.558Z"
   },
   {
    "duration": 7,
    "start_time": "2023-04-20T09:43:47.964Z"
   },
   {
    "duration": 7,
    "start_time": "2023-04-20T09:43:49.349Z"
   },
   {
    "duration": 3,
    "start_time": "2023-04-20T09:43:51.874Z"
   },
   {
    "duration": 5,
    "start_time": "2023-04-20T09:43:53.106Z"
   },
   {
    "duration": 103,
    "start_time": "2023-04-20T09:43:54.539Z"
   },
   {
    "duration": 106,
    "start_time": "2023-04-20T09:43:56.870Z"
   },
   {
    "duration": 6,
    "start_time": "2023-04-20T09:43:59.605Z"
   },
   {
    "duration": 3,
    "start_time": "2023-04-20T09:44:04.530Z"
   },
   {
    "duration": 182,
    "start_time": "2023-04-20T09:44:04.787Z"
   },
   {
    "duration": 111,
    "start_time": "2023-04-20T09:44:08.347Z"
   },
   {
    "duration": 4,
    "start_time": "2023-04-20T09:44:11.062Z"
   },
   {
    "duration": 4,
    "start_time": "2023-04-20T09:44:14.179Z"
   },
   {
    "duration": 41,
    "start_time": "2023-04-20T09:44:15.802Z"
   },
   {
    "duration": 2,
    "start_time": "2023-04-20T09:44:17.996Z"
   },
   {
    "duration": 4,
    "start_time": "2023-04-20T09:44:19.451Z"
   },
   {
    "duration": 53,
    "start_time": "2023-04-20T09:44:21.419Z"
   },
   {
    "duration": 3,
    "start_time": "2023-04-20T09:44:23.532Z"
   },
   {
    "duration": 8,
    "start_time": "2023-04-20T09:44:24.998Z"
   },
   {
    "duration": 15,
    "start_time": "2023-04-20T09:44:27.356Z"
   },
   {
    "duration": 49,
    "start_time": "2023-04-20T09:46:12.196Z"
   },
   {
    "duration": 45,
    "start_time": "2023-04-20T09:46:14.514Z"
   },
   {
    "duration": 13,
    "start_time": "2023-04-20T09:46:16.092Z"
   },
   {
    "duration": 3,
    "start_time": "2023-04-20T09:46:17.188Z"
   },
   {
    "duration": 46,
    "start_time": "2023-04-20T09:46:18.196Z"
   },
   {
    "duration": 20,
    "start_time": "2023-04-20T09:46:19.619Z"
   },
   {
    "duration": 8,
    "start_time": "2023-04-20T09:46:20.947Z"
   },
   {
    "duration": 71,
    "start_time": "2023-04-20T09:46:23.387Z"
   },
   {
    "duration": 6,
    "start_time": "2023-04-20T09:46:25.267Z"
   },
   {
    "duration": 2,
    "start_time": "2023-04-20T09:46:28.426Z"
   },
   {
    "duration": 84,
    "start_time": "2023-04-20T09:46:29.813Z"
   },
   {
    "duration": 2,
    "start_time": "2023-04-20T09:46:31.162Z"
   },
   {
    "duration": 4,
    "start_time": "2023-04-20T09:46:32.562Z"
   },
   {
    "duration": 4,
    "start_time": "2023-04-20T09:46:34.027Z"
   },
   {
    "duration": 8,
    "start_time": "2023-04-20T09:46:35.508Z"
   },
   {
    "duration": 23,
    "start_time": "2023-04-20T09:46:38.466Z"
   },
   {
    "duration": 7,
    "start_time": "2023-04-20T09:46:41.771Z"
   },
   {
    "duration": 5,
    "start_time": "2023-04-20T09:46:43.907Z"
   },
   {
    "duration": 6,
    "start_time": "2023-04-20T09:46:46.252Z"
   },
   {
    "duration": 5,
    "start_time": "2023-04-20T09:46:49.420Z"
   },
   {
    "duration": 6,
    "start_time": "2023-04-20T09:46:51.085Z"
   },
   {
    "duration": 19,
    "start_time": "2023-04-20T09:46:52.850Z"
   },
   {
    "duration": 2,
    "start_time": "2023-04-20T09:46:55.899Z"
   },
   {
    "duration": 3,
    "start_time": "2023-04-20T09:46:57.170Z"
   },
   {
    "duration": 3,
    "start_time": "2023-04-20T09:46:58.508Z"
   },
   {
    "duration": 7,
    "start_time": "2023-04-20T09:46:59.995Z"
   },
   {
    "duration": 3,
    "start_time": "2023-04-20T09:47:02.842Z"
   },
   {
    "duration": 3,
    "start_time": "2023-04-20T09:47:04.691Z"
   },
   {
    "duration": 2,
    "start_time": "2023-04-20T09:47:04.986Z"
   },
   {
    "duration": 3,
    "start_time": "2023-04-20T09:47:05.971Z"
   },
   {
    "duration": 3,
    "start_time": "2023-04-20T09:47:07.378Z"
   },
   {
    "duration": 3,
    "start_time": "2023-04-20T09:47:08.594Z"
   },
   {
    "duration": 4,
    "start_time": "2023-04-20T09:47:10.482Z"
   },
   {
    "duration": 4,
    "start_time": "2023-04-20T09:47:11.673Z"
   },
   {
    "duration": 5,
    "start_time": "2023-04-20T09:47:13.514Z"
   },
   {
    "duration": 96,
    "start_time": "2023-04-20T09:47:15.306Z"
   },
   {
    "duration": 32,
    "start_time": "2023-04-20T10:02:43.897Z"
   },
   {
    "duration": 20,
    "start_time": "2023-04-20T10:04:34.831Z"
   },
   {
    "duration": 5,
    "start_time": "2023-04-20T10:29:06.139Z"
   },
   {
    "duration": 6,
    "start_time": "2023-04-20T10:29:26.932Z"
   },
   {
    "duration": 4,
    "start_time": "2023-04-20T10:29:36.503Z"
   },
   {
    "duration": 4,
    "start_time": "2023-04-20T10:29:56.733Z"
   },
   {
    "duration": 3,
    "start_time": "2023-04-20T10:30:08.371Z"
   },
   {
    "duration": 60,
    "start_time": "2023-04-20T11:08:39.670Z"
   },
   {
    "duration": 1254,
    "start_time": "2023-04-20T11:43:10.510Z"
   },
   {
    "duration": 13,
    "start_time": "2023-04-20T11:43:11.766Z"
   },
   {
    "duration": 18,
    "start_time": "2023-04-20T11:43:11.781Z"
   },
   {
    "duration": 32,
    "start_time": "2023-04-20T11:43:11.801Z"
   },
   {
    "duration": 10,
    "start_time": "2023-04-20T11:43:11.835Z"
   },
   {
    "duration": 46,
    "start_time": "2023-04-20T11:43:11.847Z"
   },
   {
    "duration": 15,
    "start_time": "2023-04-20T11:43:11.894Z"
   },
   {
    "duration": 12,
    "start_time": "2023-04-20T11:43:11.910Z"
   },
   {
    "duration": 12,
    "start_time": "2023-04-20T11:43:11.923Z"
   },
   {
    "duration": 6,
    "start_time": "2023-04-20T11:43:11.938Z"
   },
   {
    "duration": 14,
    "start_time": "2023-04-20T11:43:11.946Z"
   },
   {
    "duration": 17,
    "start_time": "2023-04-20T11:43:11.962Z"
   },
   {
    "duration": 14,
    "start_time": "2023-04-20T11:43:11.981Z"
   },
   {
    "duration": 7,
    "start_time": "2023-04-20T11:43:11.997Z"
   },
   {
    "duration": 20,
    "start_time": "2023-04-20T11:43:12.005Z"
   },
   {
    "duration": 36,
    "start_time": "2023-04-20T11:43:12.026Z"
   },
   {
    "duration": 11,
    "start_time": "2023-04-20T11:43:12.064Z"
   },
   {
    "duration": 7,
    "start_time": "2023-04-20T11:43:12.076Z"
   },
   {
    "duration": 9,
    "start_time": "2023-04-20T11:43:12.085Z"
   },
   {
    "duration": 176,
    "start_time": "2023-04-20T11:43:12.096Z"
   },
   {
    "duration": 129,
    "start_time": "2023-04-20T11:43:12.274Z"
   },
   {
    "duration": 10,
    "start_time": "2023-04-20T11:43:12.405Z"
   },
   {
    "duration": 25,
    "start_time": "2023-04-20T11:43:12.417Z"
   },
   {
    "duration": 10,
    "start_time": "2023-04-20T11:43:12.444Z"
   },
   {
    "duration": 14,
    "start_time": "2023-04-20T11:43:12.455Z"
   },
   {
    "duration": 11,
    "start_time": "2023-04-20T11:43:12.471Z"
   },
   {
    "duration": 236,
    "start_time": "2023-04-20T11:43:12.484Z"
   },
   {
    "duration": 161,
    "start_time": "2023-04-20T11:43:12.724Z"
   },
   {
    "duration": 176,
    "start_time": "2023-04-20T11:43:12.886Z"
   },
   {
    "duration": 6,
    "start_time": "2023-04-20T11:43:13.064Z"
   },
   {
    "duration": 290,
    "start_time": "2023-04-20T11:43:13.071Z"
   },
   {
    "duration": 6,
    "start_time": "2023-04-20T11:43:13.363Z"
   },
   {
    "duration": 6,
    "start_time": "2023-04-20T11:43:13.371Z"
   },
   {
    "duration": 164,
    "start_time": "2023-04-20T11:43:13.378Z"
   },
   {
    "duration": 8,
    "start_time": "2023-04-20T11:43:13.544Z"
   },
   {
    "duration": 303,
    "start_time": "2023-04-20T11:43:13.553Z"
   },
   {
    "duration": 7,
    "start_time": "2023-04-20T11:43:13.858Z"
   },
   {
    "duration": 9,
    "start_time": "2023-04-20T11:43:13.867Z"
   },
   {
    "duration": 12,
    "start_time": "2023-04-20T11:43:13.878Z"
   },
   {
    "duration": 14,
    "start_time": "2023-04-20T11:43:13.891Z"
   },
   {
    "duration": 30,
    "start_time": "2023-04-20T11:43:13.906Z"
   },
   {
    "duration": 117,
    "start_time": "2023-04-20T11:43:13.938Z"
   },
   {
    "duration": 179,
    "start_time": "2023-04-20T11:43:14.056Z"
   },
   {
    "duration": 6,
    "start_time": "2023-04-20T11:43:14.237Z"
   },
   {
    "duration": 31,
    "start_time": "2023-04-20T11:43:14.244Z"
   },
   {
    "duration": 171,
    "start_time": "2023-04-20T11:43:14.277Z"
   },
   {
    "duration": 129,
    "start_time": "2023-04-20T11:43:14.449Z"
   },
   {
    "duration": 3,
    "start_time": "2023-04-20T11:43:14.580Z"
   },
   {
    "duration": 8,
    "start_time": "2023-04-20T11:43:14.585Z"
   },
   {
    "duration": 80,
    "start_time": "2023-04-20T11:43:14.594Z"
   },
   {
    "duration": 30,
    "start_time": "2023-04-20T11:43:14.677Z"
   },
   {
    "duration": 11,
    "start_time": "2023-04-20T11:43:14.709Z"
   },
   {
    "duration": 61,
    "start_time": "2023-04-20T11:43:14.722Z"
   },
   {
    "duration": 22,
    "start_time": "2023-04-20T11:43:14.785Z"
   },
   {
    "duration": 30,
    "start_time": "2023-04-20T11:43:14.814Z"
   },
   {
    "duration": 35,
    "start_time": "2023-04-20T11:43:14.845Z"
   },
   {
    "duration": 60,
    "start_time": "2023-04-20T11:43:14.881Z"
   },
   {
    "duration": 33,
    "start_time": "2023-04-20T11:43:14.943Z"
   },
   {
    "duration": 8,
    "start_time": "2023-04-20T11:43:14.978Z"
   },
   {
    "duration": 58,
    "start_time": "2023-04-20T11:43:14.987Z"
   },
   {
    "duration": 83,
    "start_time": "2023-04-20T11:43:15.047Z"
   },
   {
    "duration": 43,
    "start_time": "2023-04-20T11:43:15.132Z"
   },
   {
    "duration": 88,
    "start_time": "2023-04-20T11:43:15.177Z"
   },
   {
    "duration": 7,
    "start_time": "2023-04-20T11:43:15.267Z"
   },
   {
    "duration": 19,
    "start_time": "2023-04-20T11:43:15.276Z"
   },
   {
    "duration": 101,
    "start_time": "2023-04-20T11:43:15.297Z"
   },
   {
    "duration": 3,
    "start_time": "2023-04-20T11:43:15.399Z"
   },
   {
    "duration": 25,
    "start_time": "2023-04-20T11:43:15.404Z"
   },
   {
    "duration": 33,
    "start_time": "2023-04-20T11:43:15.431Z"
   },
   {
    "duration": 26,
    "start_time": "2023-04-20T11:43:15.466Z"
   },
   {
    "duration": 63,
    "start_time": "2023-04-20T11:43:15.494Z"
   },
   {
    "duration": 7,
    "start_time": "2023-04-20T11:43:15.559Z"
   },
   {
    "duration": 26,
    "start_time": "2023-04-20T11:43:15.567Z"
   },
   {
    "duration": 41,
    "start_time": "2023-04-20T11:43:15.595Z"
   },
   {
    "duration": 44,
    "start_time": "2023-04-20T11:43:15.637Z"
   },
   {
    "duration": 33,
    "start_time": "2023-04-20T11:43:15.682Z"
   },
   {
    "duration": 41,
    "start_time": "2023-04-20T11:43:15.716Z"
   },
   {
    "duration": 28,
    "start_time": "2023-04-20T11:43:15.758Z"
   },
   {
    "duration": 1239,
    "start_time": "2023-04-20T11:43:29.546Z"
   },
   {
    "duration": 10,
    "start_time": "2023-04-20T11:43:30.787Z"
   },
   {
    "duration": 42,
    "start_time": "2023-04-20T11:43:30.798Z"
   },
   {
    "duration": 79,
    "start_time": "2023-04-20T11:43:30.842Z"
   },
   {
    "duration": 33,
    "start_time": "2023-04-20T11:43:30.923Z"
   },
   {
    "duration": 80,
    "start_time": "2023-04-20T11:43:30.957Z"
   },
   {
    "duration": 57,
    "start_time": "2023-04-20T11:43:31.039Z"
   },
   {
    "duration": 28,
    "start_time": "2023-04-20T11:43:31.097Z"
   },
   {
    "duration": 44,
    "start_time": "2023-04-20T11:43:31.127Z"
   },
   {
    "duration": 32,
    "start_time": "2023-04-20T11:43:31.173Z"
   },
   {
    "duration": 40,
    "start_time": "2023-04-20T11:43:31.207Z"
   },
   {
    "duration": 13,
    "start_time": "2023-04-20T11:43:31.249Z"
   },
   {
    "duration": 50,
    "start_time": "2023-04-20T11:43:31.264Z"
   },
   {
    "duration": 21,
    "start_time": "2023-04-20T11:43:31.317Z"
   },
   {
    "duration": 76,
    "start_time": "2023-04-20T11:43:31.340Z"
   },
   {
    "duration": 40,
    "start_time": "2023-04-20T11:43:31.417Z"
   },
   {
    "duration": 67,
    "start_time": "2023-04-20T11:43:31.459Z"
   },
   {
    "duration": 26,
    "start_time": "2023-04-20T11:43:31.528Z"
   },
   {
    "duration": 41,
    "start_time": "2023-04-20T11:43:31.556Z"
   },
   {
    "duration": 185,
    "start_time": "2023-04-20T11:43:31.599Z"
   },
   {
    "duration": 121,
    "start_time": "2023-04-20T11:43:31.786Z"
   },
   {
    "duration": 10,
    "start_time": "2023-04-20T11:43:31.908Z"
   },
   {
    "duration": 5,
    "start_time": "2023-04-20T11:43:31.935Z"
   },
   {
    "duration": 18,
    "start_time": "2023-04-20T11:43:31.942Z"
   },
   {
    "duration": 44,
    "start_time": "2023-04-20T11:43:31.962Z"
   },
   {
    "duration": 11,
    "start_time": "2023-04-20T11:43:32.007Z"
   },
   {
    "duration": 232,
    "start_time": "2023-04-20T11:43:32.020Z"
   },
   {
    "duration": 189,
    "start_time": "2023-04-20T11:43:32.255Z"
   },
   {
    "duration": 171,
    "start_time": "2023-04-20T11:43:32.446Z"
   },
   {
    "duration": 15,
    "start_time": "2023-04-20T11:43:32.619Z"
   },
   {
    "duration": 291,
    "start_time": "2023-04-20T11:43:32.636Z"
   },
   {
    "duration": 9,
    "start_time": "2023-04-20T11:43:32.928Z"
   },
   {
    "duration": 24,
    "start_time": "2023-04-20T11:43:32.940Z"
   },
   {
    "duration": 161,
    "start_time": "2023-04-20T11:43:32.965Z"
   },
   {
    "duration": 9,
    "start_time": "2023-04-20T11:43:33.127Z"
   },
   {
    "duration": 307,
    "start_time": "2023-04-20T11:43:33.138Z"
   },
   {
    "duration": 8,
    "start_time": "2023-04-20T11:43:33.447Z"
   },
   {
    "duration": 16,
    "start_time": "2023-04-20T11:43:33.457Z"
   },
   {
    "duration": 28,
    "start_time": "2023-04-20T11:43:33.474Z"
   },
   {
    "duration": 19,
    "start_time": "2023-04-20T11:43:33.503Z"
   },
   {
    "duration": 17,
    "start_time": "2023-04-20T11:43:33.526Z"
   },
   {
    "duration": 121,
    "start_time": "2023-04-20T11:43:33.544Z"
   },
   {
    "duration": 173,
    "start_time": "2023-04-20T11:43:33.666Z"
   },
   {
    "duration": 6,
    "start_time": "2023-04-20T11:43:33.841Z"
   },
   {
    "duration": 6,
    "start_time": "2023-04-20T11:43:33.849Z"
   },
   {
    "duration": 126,
    "start_time": "2023-04-20T11:43:33.856Z"
   },
   {
    "duration": 145,
    "start_time": "2023-04-20T11:43:33.984Z"
   },
   {
    "duration": 6,
    "start_time": "2023-04-20T11:43:34.130Z"
   },
   {
    "duration": 23,
    "start_time": "2023-04-20T11:43:34.138Z"
   },
   {
    "duration": 57,
    "start_time": "2023-04-20T11:43:34.163Z"
   },
   {
    "duration": 16,
    "start_time": "2023-04-20T11:43:34.222Z"
   },
   {
    "duration": 23,
    "start_time": "2023-04-20T11:43:34.240Z"
   },
   {
    "duration": 49,
    "start_time": "2023-04-20T11:43:34.265Z"
   },
   {
    "duration": 13,
    "start_time": "2023-04-20T11:43:34.315Z"
   },
   {
    "duration": 23,
    "start_time": "2023-04-20T11:43:34.329Z"
   },
   {
    "duration": 25,
    "start_time": "2023-04-20T11:43:34.354Z"
   },
   {
    "duration": 67,
    "start_time": "2023-04-20T11:43:34.381Z"
   },
   {
    "duration": 31,
    "start_time": "2023-04-20T11:43:34.449Z"
   },
   {
    "duration": 3,
    "start_time": "2023-04-20T11:43:34.481Z"
   },
   {
    "duration": 75,
    "start_time": "2023-04-20T11:43:34.485Z"
   },
   {
    "duration": 84,
    "start_time": "2023-04-20T11:43:34.562Z"
   },
   {
    "duration": 12,
    "start_time": "2023-04-20T11:43:34.648Z"
   },
   {
    "duration": 93,
    "start_time": "2023-04-20T11:43:34.661Z"
   },
   {
    "duration": 6,
    "start_time": "2023-04-20T11:43:34.756Z"
   },
   {
    "duration": 6,
    "start_time": "2023-04-20T11:43:34.764Z"
   },
   {
    "duration": 93,
    "start_time": "2023-04-20T11:43:34.771Z"
   },
   {
    "duration": 3,
    "start_time": "2023-04-20T11:43:34.866Z"
   },
   {
    "duration": 8,
    "start_time": "2023-04-20T11:43:34.870Z"
   },
   {
    "duration": 22,
    "start_time": "2023-04-20T11:43:34.880Z"
   },
   {
    "duration": 13,
    "start_time": "2023-04-20T11:43:34.904Z"
   },
   {
    "duration": 50,
    "start_time": "2023-04-20T11:43:34.919Z"
   },
   {
    "duration": 6,
    "start_time": "2023-04-20T11:43:34.970Z"
   },
   {
    "duration": 16,
    "start_time": "2023-04-20T11:43:34.977Z"
   },
   {
    "duration": 10,
    "start_time": "2023-04-20T11:43:34.995Z"
   },
   {
    "duration": 22,
    "start_time": "2023-04-20T11:43:35.006Z"
   },
   {
    "duration": 13,
    "start_time": "2023-04-20T11:43:35.029Z"
   },
   {
    "duration": 33,
    "start_time": "2023-04-20T11:43:35.043Z"
   },
   {
    "duration": 34,
    "start_time": "2023-04-20T11:43:35.078Z"
   },
   {
    "duration": 78,
    "start_time": "2023-04-20T17:50:46.602Z"
   },
   {
    "duration": 66,
    "start_time": "2023-04-20T17:51:31.747Z"
   },
   {
    "duration": 1613,
    "start_time": "2023-04-20T17:51:35.390Z"
   },
   {
    "duration": 3,
    "start_time": "2023-04-20T17:51:38.028Z"
   },
   {
    "duration": 8,
    "start_time": "2023-04-20T17:51:56.467Z"
   },
   {
    "duration": 6,
    "start_time": "2023-04-20T17:52:06.727Z"
   },
   {
    "duration": 6,
    "start_time": "2023-04-20T17:52:14.092Z"
   },
   {
    "duration": 6,
    "start_time": "2023-04-20T17:52:21.480Z"
   },
   {
    "duration": 5,
    "start_time": "2023-04-20T17:52:29.416Z"
   },
   {
    "duration": 6,
    "start_time": "2023-04-20T17:52:36.729Z"
   },
   {
    "duration": 7,
    "start_time": "2023-04-20T17:52:47.971Z"
   },
   {
    "duration": 6,
    "start_time": "2023-04-20T17:52:53.319Z"
   },
   {
    "duration": 89,
    "start_time": "2023-04-20T18:12:18.572Z"
   },
   {
    "duration": 13,
    "start_time": "2023-04-20T18:12:26.918Z"
   },
   {
    "duration": 11,
    "start_time": "2023-04-20T18:12:29.446Z"
   },
   {
    "duration": 73,
    "start_time": "2023-04-20T18:12:54.207Z"
   },
   {
    "duration": 12,
    "start_time": "2023-04-20T18:16:53.537Z"
   },
   {
    "duration": 105,
    "start_time": "2023-04-20T18:17:21.356Z"
   },
   {
    "duration": 28,
    "start_time": "2023-04-20T18:38:04.067Z"
   },
   {
    "duration": 6,
    "start_time": "2023-04-20T18:38:35.972Z"
   },
   {
    "duration": 6,
    "start_time": "2023-04-20T18:38:50.999Z"
   },
   {
    "duration": 7,
    "start_time": "2023-04-20T18:38:58.835Z"
   },
   {
    "duration": 12,
    "start_time": "2023-04-20T18:39:13.114Z"
   },
   {
    "duration": 11,
    "start_time": "2023-04-20T18:39:15.626Z"
   },
   {
    "duration": 9,
    "start_time": "2023-04-20T18:40:33.945Z"
   },
   {
    "duration": 100,
    "start_time": "2023-04-20T18:48:00.848Z"
   },
   {
    "duration": 68,
    "start_time": "2023-04-20T18:48:01.880Z"
   },
   {
    "duration": 15,
    "start_time": "2023-04-20T18:48:03.646Z"
   },
   {
    "duration": 8,
    "start_time": "2023-04-20T18:48:05.672Z"
   },
   {
    "duration": 3,
    "start_time": "2023-04-20T18:48:09.060Z"
   },
   {
    "duration": 13,
    "start_time": "2023-04-20T18:48:11.119Z"
   },
   {
    "duration": 5,
    "start_time": "2023-04-20T18:48:13.611Z"
   },
   {
    "duration": 12,
    "start_time": "2023-04-20T18:48:15.070Z"
   },
   {
    "duration": 71,
    "start_time": "2023-04-20T18:56:35.599Z"
   },
   {
    "duration": 49,
    "start_time": "2023-04-20T18:56:45.405Z"
   },
   {
    "duration": 27,
    "start_time": "2023-04-20T18:56:47.248Z"
   },
   {
    "duration": 8,
    "start_time": "2023-04-20T18:56:49.042Z"
   },
   {
    "duration": 9,
    "start_time": "2023-04-20T18:56:51.945Z"
   },
   {
    "duration": 3,
    "start_time": "2023-04-20T18:56:54.841Z"
   },
   {
    "duration": 12,
    "start_time": "2023-04-20T18:56:56.992Z"
   },
   {
    "duration": 6,
    "start_time": "2023-04-20T18:57:00.016Z"
   },
   {
    "duration": 11,
    "start_time": "2023-04-20T18:57:02.038Z"
   },
   {
    "duration": 4,
    "start_time": "2023-04-20T18:57:06.679Z"
   },
   {
    "duration": 11,
    "start_time": "2023-04-20T19:07:43.270Z"
   },
   {
    "duration": 6,
    "start_time": "2023-04-20T19:08:26.845Z"
   },
   {
    "duration": 8,
    "start_time": "2023-04-20T19:08:46.379Z"
   },
   {
    "duration": 9,
    "start_time": "2023-04-20T19:26:48.700Z"
   },
   {
    "duration": 94,
    "start_time": "2023-04-20T19:27:07.437Z"
   },
   {
    "duration": 10,
    "start_time": "2023-04-20T20:04:30.108Z"
   },
   {
    "duration": 13,
    "start_time": "2023-04-20T20:05:05.639Z"
   },
   {
    "duration": 4,
    "start_time": "2023-04-20T20:07:13.946Z"
   },
   {
    "duration": 7,
    "start_time": "2023-04-20T20:07:39.987Z"
   },
   {
    "duration": 105,
    "start_time": "2023-04-20T20:08:11.841Z"
   },
   {
    "duration": 7,
    "start_time": "2023-04-20T20:09:52.260Z"
   },
   {
    "duration": 5,
    "start_time": "2023-04-22T10:58:29.446Z"
   },
   {
    "duration": 7,
    "start_time": "2023-04-22T10:58:31.811Z"
   },
   {
    "duration": 14,
    "start_time": "2023-04-22T10:58:35.786Z"
   },
   {
    "duration": 11,
    "start_time": "2023-04-22T10:58:38.332Z"
   },
   {
    "duration": 11,
    "start_time": "2023-04-22T10:58:43.606Z"
   },
   {
    "duration": 97,
    "start_time": "2023-04-22T10:58:52.922Z"
   },
   {
    "duration": 65,
    "start_time": "2023-04-22T10:58:54.432Z"
   },
   {
    "duration": 11,
    "start_time": "2023-04-22T10:58:55.927Z"
   },
   {
    "duration": 9,
    "start_time": "2023-04-22T10:58:57.991Z"
   },
   {
    "duration": 3,
    "start_time": "2023-04-22T10:59:00.454Z"
   },
   {
    "duration": 10,
    "start_time": "2023-04-22T10:59:01.873Z"
   },
   {
    "duration": 6,
    "start_time": "2023-04-22T10:59:04.035Z"
   },
   {
    "duration": 18,
    "start_time": "2023-04-22T10:59:05.382Z"
   },
   {
    "duration": 4,
    "start_time": "2023-04-22T10:59:07.650Z"
   },
   {
    "duration": 7,
    "start_time": "2023-04-22T10:59:09.207Z"
   },
   {
    "duration": 16,
    "start_time": "2023-04-22T10:59:11.981Z"
   },
   {
    "duration": 4,
    "start_time": "2023-04-22T11:00:10.348Z"
   },
   {
    "duration": 10,
    "start_time": "2023-04-22T11:00:13.280Z"
   },
   {
    "duration": 8,
    "start_time": "2023-04-22T11:04:00.581Z"
   },
   {
    "duration": 90,
    "start_time": "2023-04-22T11:05:39.742Z"
   },
   {
    "duration": 8,
    "start_time": "2023-04-22T11:07:42.174Z"
   },
   {
    "duration": 6,
    "start_time": "2023-04-22T11:09:05.406Z"
   },
   {
    "duration": 8,
    "start_time": "2023-04-22T11:24:43.888Z"
   },
   {
    "duration": 13,
    "start_time": "2023-04-22T11:29:50.062Z"
   },
   {
    "duration": 126,
    "start_time": "2023-04-22T11:35:00.876Z"
   },
   {
    "duration": 29,
    "start_time": "2023-04-22T11:35:07.649Z"
   },
   {
    "duration": 81,
    "start_time": "2023-04-22T11:35:29.493Z"
   },
   {
    "duration": 9,
    "start_time": "2023-04-22T11:36:03.977Z"
   },
   {
    "duration": 7,
    "start_time": "2023-04-22T11:43:14.668Z"
   },
   {
    "duration": 285,
    "start_time": "2023-04-22T11:54:04.706Z"
   },
   {
    "duration": 141,
    "start_time": "2023-04-22T11:55:08.851Z"
   },
   {
    "duration": 166,
    "start_time": "2023-04-22T11:55:34.601Z"
   },
   {
    "duration": 193,
    "start_time": "2023-04-22T11:56:08.040Z"
   },
   {
    "duration": 182,
    "start_time": "2023-04-22T11:56:15.159Z"
   },
   {
    "duration": 319,
    "start_time": "2023-04-22T12:05:09.365Z"
   },
   {
    "duration": 303,
    "start_time": "2023-04-22T12:05:17.502Z"
   },
   {
    "duration": 309,
    "start_time": "2023-04-22T12:05:27.940Z"
   },
   {
    "duration": 229,
    "start_time": "2023-04-22T12:05:33.518Z"
   },
   {
    "duration": 22,
    "start_time": "2023-04-22T12:07:24.211Z"
   },
   {
    "duration": 14,
    "start_time": "2023-04-22T12:08:00.349Z"
   },
   {
    "duration": 151,
    "start_time": "2023-04-22T12:08:02.335Z"
   },
   {
    "duration": 256,
    "start_time": "2023-04-22T12:08:08.318Z"
   },
   {
    "duration": 91,
    "start_time": "2023-04-22T12:10:17.995Z"
   },
   {
    "duration": 106,
    "start_time": "2023-04-22T12:10:39.210Z"
   },
   {
    "duration": 6,
    "start_time": "2023-04-22T12:10:45.922Z"
   },
   {
    "duration": 7,
    "start_time": "2023-04-22T12:10:47.725Z"
   },
   {
    "duration": 4,
    "start_time": "2023-04-22T12:10:50.155Z"
   },
   {
    "duration": 5,
    "start_time": "2023-04-22T12:10:51.773Z"
   },
   {
    "duration": 8,
    "start_time": "2023-04-22T12:10:57.861Z"
   },
   {
    "duration": 235,
    "start_time": "2023-04-22T12:11:00.083Z"
   },
   {
    "duration": 117,
    "start_time": "2023-04-22T12:11:01.756Z"
   },
   {
    "duration": 5,
    "start_time": "2023-04-22T12:11:03.704Z"
   },
   {
    "duration": 8,
    "start_time": "2023-04-22T12:11:09.157Z"
   },
   {
    "duration": 4,
    "start_time": "2023-04-22T12:22:30.444Z"
   },
   {
    "duration": 9,
    "start_time": "2023-04-22T12:23:18.704Z"
   },
   {
    "duration": 231,
    "start_time": "2023-04-22T12:23:20.686Z"
   },
   {
    "duration": 6,
    "start_time": "2023-04-22T12:23:23.281Z"
   },
   {
    "duration": 8,
    "start_time": "2023-04-22T12:23:24.516Z"
   },
   {
    "duration": 5,
    "start_time": "2023-04-22T12:23:27.345Z"
   },
   {
    "duration": 5,
    "start_time": "2023-04-22T12:23:57.705Z"
   },
   {
    "duration": 8,
    "start_time": "2023-04-22T12:24:00.161Z"
   },
   {
    "duration": 200,
    "start_time": "2023-04-22T12:24:03.233Z"
   },
   {
    "duration": 137,
    "start_time": "2023-04-22T12:24:05.361Z"
   },
   {
    "duration": 14,
    "start_time": "2023-04-22T12:24:07.244Z"
   },
   {
    "duration": 6,
    "start_time": "2023-04-22T12:24:09.595Z"
   },
   {
    "duration": 8,
    "start_time": "2023-04-22T12:24:15.869Z"
   },
   {
    "duration": 4,
    "start_time": "2023-04-22T12:24:18.160Z"
   },
   {
    "duration": 80,
    "start_time": "2023-04-22T12:33:07.629Z"
   },
   {
    "duration": 40,
    "start_time": "2023-04-22T12:33:46.084Z"
   },
   {
    "duration": 8,
    "start_time": "2023-04-22T12:34:06.748Z"
   },
   {
    "duration": 70,
    "start_time": "2023-04-22T12:34:27.743Z"
   },
   {
    "duration": 6,
    "start_time": "2023-04-22T12:35:53.915Z"
   },
   {
    "duration": 190,
    "start_time": "2023-04-22T12:35:56.525Z"
   },
   {
    "duration": 184,
    "start_time": "2023-04-22T12:35:59.142Z"
   },
   {
    "duration": 238,
    "start_time": "2023-04-22T12:37:04.773Z"
   },
   {
    "duration": 317,
    "start_time": "2023-04-22T12:44:43.922Z"
   },
   {
    "duration": 127,
    "start_time": "2023-04-22T12:45:05.622Z"
   },
   {
    "duration": 147,
    "start_time": "2023-04-22T12:45:34.443Z"
   },
   {
    "duration": 90,
    "start_time": "2023-04-22T12:45:39.370Z"
   },
   {
    "duration": 189,
    "start_time": "2023-04-22T12:46:37.907Z"
   },
   {
    "duration": 11,
    "start_time": "2023-04-22T12:52:46.693Z"
   },
   {
    "duration": 10,
    "start_time": "2023-04-22T12:52:52.815Z"
   },
   {
    "duration": 12,
    "start_time": "2023-04-22T12:53:41.594Z"
   },
   {
    "duration": 21,
    "start_time": "2023-04-22T12:54:22.883Z"
   },
   {
    "duration": 352,
    "start_time": "2023-04-22T12:56:48.488Z"
   },
   {
    "duration": 225,
    "start_time": "2023-04-22T12:57:09.058Z"
   },
   {
    "duration": 205,
    "start_time": "2023-04-22T12:57:18.122Z"
   },
   {
    "duration": 1362,
    "start_time": "2023-04-24T06:45:34.714Z"
   },
   {
    "duration": 7,
    "start_time": "2023-04-24T06:46:09.738Z"
   },
   {
    "duration": 11,
    "start_time": "2023-04-24T06:46:13.494Z"
   },
   {
    "duration": 10,
    "start_time": "2023-04-24T06:46:35.640Z"
   },
   {
    "duration": 78,
    "start_time": "2023-04-24T06:46:42.800Z"
   },
   {
    "duration": 64,
    "start_time": "2023-04-24T06:46:44.664Z"
   },
   {
    "duration": 9,
    "start_time": "2023-04-24T06:46:46.666Z"
   },
   {
    "duration": 8,
    "start_time": "2023-04-24T06:48:49.565Z"
   },
   {
    "duration": 6,
    "start_time": "2023-04-24T06:48:55.248Z"
   },
   {
    "duration": 2,
    "start_time": "2023-04-24T06:48:58.628Z"
   },
   {
    "duration": 9,
    "start_time": "2023-04-24T06:49:02.912Z"
   },
   {
    "duration": 6,
    "start_time": "2023-04-24T06:49:06.387Z"
   },
   {
    "duration": 10,
    "start_time": "2023-04-24T06:49:12.127Z"
   },
   {
    "duration": 4,
    "start_time": "2023-04-24T06:49:14.994Z"
   },
   {
    "duration": 7,
    "start_time": "2023-04-24T06:49:16.954Z"
   },
   {
    "duration": 7,
    "start_time": "2023-04-24T06:49:21.138Z"
   },
   {
    "duration": 5,
    "start_time": "2023-04-24T06:49:25.492Z"
   },
   {
    "duration": 3,
    "start_time": "2023-04-24T06:52:07.516Z"
   },
   {
    "duration": 5,
    "start_time": "2023-04-24T06:52:09.859Z"
   },
   {
    "duration": 7,
    "start_time": "2023-04-24T06:52:13.600Z"
   },
   {
    "duration": 12,
    "start_time": "2023-04-24T06:52:16.715Z"
   },
   {
    "duration": 10,
    "start_time": "2023-04-24T06:52:24.412Z"
   },
   {
    "duration": 291,
    "start_time": "2023-04-24T06:52:27.162Z"
   },
   {
    "duration": 6,
    "start_time": "2023-04-24T06:52:40.428Z"
   },
   {
    "duration": 9,
    "start_time": "2023-04-24T06:52:42.657Z"
   },
   {
    "duration": 3,
    "start_time": "2023-04-24T06:52:46.795Z"
   },
   {
    "duration": 5,
    "start_time": "2023-04-24T06:52:48.600Z"
   },
   {
    "duration": 7,
    "start_time": "2023-04-24T06:52:50.871Z"
   },
   {
    "duration": 9,
    "start_time": "2023-04-24T06:52:56.183Z"
   },
   {
    "duration": 180,
    "start_time": "2023-04-24T06:52:58.622Z"
   },
   {
    "duration": 123,
    "start_time": "2023-04-24T06:53:01.047Z"
   },
   {
    "duration": 9,
    "start_time": "2023-04-24T06:53:03.246Z"
   },
   {
    "duration": 4,
    "start_time": "2023-04-24T06:53:12.056Z"
   },
   {
    "duration": 7,
    "start_time": "2023-04-24T06:53:14.021Z"
   },
   {
    "duration": 4,
    "start_time": "2023-04-24T06:53:16.530Z"
   },
   {
    "duration": 8,
    "start_time": "2023-04-24T06:53:34.120Z"
   },
   {
    "duration": 6,
    "start_time": "2023-04-24T06:53:38.724Z"
   },
   {
    "duration": 193,
    "start_time": "2023-04-24T06:53:41.270Z"
   },
   {
    "duration": 173,
    "start_time": "2023-04-24T06:54:45.780Z"
   },
   {
    "duration": 11,
    "start_time": "2023-04-24T06:54:48.941Z"
   },
   {
    "duration": 49,
    "start_time": "2023-04-24T07:46:10.115Z"
   },
   {
    "duration": 6,
    "start_time": "2023-04-24T07:47:13.920Z"
   },
   {
    "duration": 338,
    "start_time": "2023-04-24T07:47:16.876Z"
   },
   {
    "duration": 6,
    "start_time": "2023-04-24T07:47:20.419Z"
   },
   {
    "duration": 5,
    "start_time": "2023-04-24T07:47:39.054Z"
   },
   {
    "duration": 4,
    "start_time": "2023-04-24T07:47:40.972Z"
   },
   {
    "duration": 147,
    "start_time": "2023-04-24T07:47:43.169Z"
   },
   {
    "duration": 156,
    "start_time": "2023-04-24T07:48:55.123Z"
   },
   {
    "duration": 278,
    "start_time": "2023-04-24T07:49:06.183Z"
   },
   {
    "duration": 178,
    "start_time": "2023-04-24T07:49:15.145Z"
   },
   {
    "duration": 162,
    "start_time": "2023-04-24T07:49:26.663Z"
   },
   {
    "duration": 176,
    "start_time": "2023-04-24T07:50:25.545Z"
   },
   {
    "duration": 189,
    "start_time": "2023-04-24T07:50:37.762Z"
   },
   {
    "duration": 77,
    "start_time": "2023-04-24T07:51:02.275Z"
   },
   {
    "duration": 195,
    "start_time": "2023-04-24T07:51:10.508Z"
   },
   {
    "duration": 214,
    "start_time": "2023-04-24T07:51:30.231Z"
   },
   {
    "duration": 306,
    "start_time": "2023-04-24T07:52:41.182Z"
   },
   {
    "duration": 188,
    "start_time": "2023-04-24T07:52:58.803Z"
   },
   {
    "duration": 73,
    "start_time": "2023-04-24T08:05:03.733Z"
   },
   {
    "duration": 7,
    "start_time": "2023-04-24T08:05:14.786Z"
   },
   {
    "duration": 307,
    "start_time": "2023-04-24T08:05:16.268Z"
   },
   {
    "duration": 339,
    "start_time": "2023-04-24T08:06:12.814Z"
   },
   {
    "duration": 342,
    "start_time": "2023-04-24T08:06:39.178Z"
   },
   {
    "duration": 52,
    "start_time": "2023-04-24T08:30:25.645Z"
   },
   {
    "duration": 8,
    "start_time": "2023-04-24T08:30:31.310Z"
   },
   {
    "duration": 6,
    "start_time": "2023-04-24T08:30:33.375Z"
   },
   {
    "duration": 10,
    "start_time": "2023-04-24T08:30:34.687Z"
   },
   {
    "duration": 2,
    "start_time": "2023-04-24T08:30:36.912Z"
   },
   {
    "duration": 6,
    "start_time": "2023-04-24T08:30:38.126Z"
   },
   {
    "duration": 182,
    "start_time": "2023-04-24T08:30:39.466Z"
   },
   {
    "duration": 106,
    "start_time": "2023-04-24T08:30:41.806Z"
   },
   {
    "duration": 97,
    "start_time": "2023-04-24T08:30:58.316Z"
   },
   {
    "duration": 140,
    "start_time": "2023-04-24T08:31:34.473Z"
   },
   {
    "duration": 104,
    "start_time": "2023-04-24T08:32:50.642Z"
   },
   {
    "duration": 166,
    "start_time": "2023-04-24T08:33:06.091Z"
   },
   {
    "duration": 149,
    "start_time": "2023-04-24T08:33:40.337Z"
   },
   {
    "duration": 6,
    "start_time": "2023-04-24T08:34:28.812Z"
   },
   {
    "duration": 5,
    "start_time": "2023-04-24T08:34:34.643Z"
   },
   {
    "duration": 81,
    "start_time": "2023-04-24T08:35:45.055Z"
   },
   {
    "duration": 73,
    "start_time": "2023-04-24T08:36:35.879Z"
   },
   {
    "duration": 151,
    "start_time": "2023-04-24T08:36:44.197Z"
   },
   {
    "duration": 138,
    "start_time": "2023-04-24T08:36:48.347Z"
   },
   {
    "duration": 115,
    "start_time": "2023-04-24T08:36:56.118Z"
   },
   {
    "duration": 117,
    "start_time": "2023-04-24T08:37:02.330Z"
   },
   {
    "duration": 70,
    "start_time": "2023-04-24T08:37:48.597Z"
   },
   {
    "duration": 167,
    "start_time": "2023-04-24T08:37:58.893Z"
   },
   {
    "duration": 227,
    "start_time": "2023-04-24T08:38:09.221Z"
   },
   {
    "duration": 148,
    "start_time": "2023-04-24T08:38:42.282Z"
   },
   {
    "duration": 98,
    "start_time": "2023-04-24T08:43:35.750Z"
   },
   {
    "duration": 154,
    "start_time": "2023-04-24T08:43:43.405Z"
   },
   {
    "duration": 3,
    "start_time": "2023-04-24T09:03:57.019Z"
   },
   {
    "duration": 5,
    "start_time": "2023-04-24T09:03:59.777Z"
   },
   {
    "duration": 42,
    "start_time": "2023-04-24T09:04:00.944Z"
   },
   {
    "duration": 7,
    "start_time": "2023-04-24T09:04:02.795Z"
   },
   {
    "duration": 6,
    "start_time": "2023-04-24T09:04:04.126Z"
   },
   {
    "duration": 53,
    "start_time": "2023-04-24T09:04:05.985Z"
   },
   {
    "duration": 4,
    "start_time": "2023-04-24T09:04:07.311Z"
   },
   {
    "duration": 8,
    "start_time": "2023-04-24T09:04:08.543Z"
   },
   {
    "duration": 16,
    "start_time": "2023-04-24T09:04:10.493Z"
   },
   {
    "duration": 50,
    "start_time": "2023-04-24T09:04:11.818Z"
   },
   {
    "duration": 14,
    "start_time": "2023-04-24T09:04:13.709Z"
   },
   {
    "duration": 3,
    "start_time": "2023-04-24T09:04:15.174Z"
   },
   {
    "duration": 53,
    "start_time": "2023-04-24T09:04:16.613Z"
   },
   {
    "duration": 22,
    "start_time": "2023-04-24T09:04:18.070Z"
   },
   {
    "duration": 8,
    "start_time": "2023-04-24T09:04:21.309Z"
   },
   {
    "duration": 70,
    "start_time": "2023-04-24T09:04:23.034Z"
   },
   {
    "duration": 6,
    "start_time": "2023-04-24T09:04:25.122Z"
   },
   {
    "duration": 5,
    "start_time": "2023-04-24T09:04:27.202Z"
   },
   {
    "duration": 86,
    "start_time": "2023-04-24T09:04:28.638Z"
   },
   {
    "duration": 3,
    "start_time": "2023-04-24T09:04:30.611Z"
   },
   {
    "duration": 5,
    "start_time": "2023-04-24T09:04:31.881Z"
   },
   {
    "duration": 4,
    "start_time": "2023-04-24T09:04:33.239Z"
   },
   {
    "duration": 8,
    "start_time": "2023-04-24T09:04:35.108Z"
   },
   {
    "duration": 20,
    "start_time": "2023-04-24T09:04:39.853Z"
   },
   {
    "duration": 7,
    "start_time": "2023-04-24T09:04:46.944Z"
   },
   {
    "duration": 7,
    "start_time": "2023-04-24T09:04:48.803Z"
   },
   {
    "duration": 6,
    "start_time": "2023-04-24T09:04:51.536Z"
   },
   {
    "duration": 5,
    "start_time": "2023-04-24T09:04:57.560Z"
   },
   {
    "duration": 45,
    "start_time": "2023-04-24T09:05:27.509Z"
   },
   {
    "duration": 5,
    "start_time": "2023-04-24T09:05:33.935Z"
   },
   {
    "duration": 9,
    "start_time": "2023-04-24T09:05:35.691Z"
   },
   {
    "duration": 25,
    "start_time": "2023-04-24T09:05:37.694Z"
   },
   {
    "duration": 6,
    "start_time": "2023-04-24T09:28:41.480Z"
   },
   {
    "duration": 5,
    "start_time": "2023-04-24T09:28:43.380Z"
   },
   {
    "duration": 27,
    "start_time": "2023-04-24T09:28:45.607Z"
   },
   {
    "duration": 22,
    "start_time": "2023-04-24T09:29:47.736Z"
   },
   {
    "duration": 5,
    "start_time": "2023-04-24T09:34:49.326Z"
   },
   {
    "duration": 5,
    "start_time": "2023-04-24T09:35:28.504Z"
   },
   {
    "duration": 8,
    "start_time": "2023-04-24T09:35:37.648Z"
   },
   {
    "duration": 4,
    "start_time": "2023-04-24T09:35:56.486Z"
   },
   {
    "duration": 6,
    "start_time": "2023-04-24T09:37:33.836Z"
   },
   {
    "duration": 13,
    "start_time": "2023-04-24T09:37:54.192Z"
   },
   {
    "duration": 6,
    "start_time": "2023-04-24T09:38:18.658Z"
   },
   {
    "duration": 5,
    "start_time": "2023-04-24T09:38:37.518Z"
   },
   {
    "duration": 5,
    "start_time": "2023-04-24T09:38:53.635Z"
   },
   {
    "duration": 5,
    "start_time": "2023-04-24T09:46:19.385Z"
   },
   {
    "duration": 7,
    "start_time": "2023-04-24T09:46:36.444Z"
   },
   {
    "duration": 5,
    "start_time": "2023-04-24T09:47:08.263Z"
   },
   {
    "duration": 4,
    "start_time": "2023-04-24T09:47:10.385Z"
   },
   {
    "duration": 31,
    "start_time": "2023-04-24T09:47:14.159Z"
   },
   {
    "duration": 5,
    "start_time": "2023-04-24T09:52:19.791Z"
   },
   {
    "duration": 6,
    "start_time": "2023-04-24T09:52:47.800Z"
   },
   {
    "duration": 4,
    "start_time": "2023-04-24T09:52:51.182Z"
   },
   {
    "duration": 7,
    "start_time": "2023-04-24T09:53:04.225Z"
   },
   {
    "duration": 6,
    "start_time": "2023-04-24T09:53:05.198Z"
   },
   {
    "duration": 4,
    "start_time": "2023-04-24T09:53:06.501Z"
   },
   {
    "duration": 8,
    "start_time": "2023-04-24T09:53:17.268Z"
   },
   {
    "duration": 8,
    "start_time": "2023-04-24T09:53:18.929Z"
   },
   {
    "duration": 4,
    "start_time": "2023-04-24T09:53:20.818Z"
   },
   {
    "duration": 7,
    "start_time": "2023-04-24T09:53:31.767Z"
   },
   {
    "duration": 6,
    "start_time": "2023-04-24T09:53:33.040Z"
   },
   {
    "duration": 5,
    "start_time": "2023-04-24T09:53:34.628Z"
   },
   {
    "duration": 7,
    "start_time": "2023-04-24T09:54:51.704Z"
   },
   {
    "duration": 5,
    "start_time": "2023-04-24T09:55:13.300Z"
   },
   {
    "duration": 7,
    "start_time": "2023-04-24T09:55:14.575Z"
   },
   {
    "duration": 5,
    "start_time": "2023-04-24T09:55:17.284Z"
   },
   {
    "duration": 4,
    "start_time": "2023-04-24T09:55:19.574Z"
   },
   {
    "duration": 5,
    "start_time": "2023-04-24T09:55:24.523Z"
   },
   {
    "duration": 30,
    "start_time": "2023-04-24T09:55:28.919Z"
   },
   {
    "duration": 132,
    "start_time": "2023-04-24T09:57:29.218Z"
   },
   {
    "duration": 234,
    "start_time": "2023-04-24T09:59:36.192Z"
   },
   {
    "duration": 175,
    "start_time": "2023-04-24T09:59:43.882Z"
   },
   {
    "duration": 66,
    "start_time": "2023-04-24T10:01:47.078Z"
   },
   {
    "duration": 62,
    "start_time": "2023-04-24T10:02:01.391Z"
   },
   {
    "duration": 5,
    "start_time": "2023-04-24T10:02:11.147Z"
   },
   {
    "duration": 57,
    "start_time": "2023-04-24T10:02:12.182Z"
   },
   {
    "duration": 4,
    "start_time": "2023-04-24T10:02:13.284Z"
   },
   {
    "duration": 6,
    "start_time": "2023-04-24T10:02:14.428Z"
   },
   {
    "duration": 42,
    "start_time": "2023-04-24T10:02:15.516Z"
   },
   {
    "duration": 5,
    "start_time": "2023-04-24T10:02:17.150Z"
   },
   {
    "duration": 9,
    "start_time": "2023-04-24T10:02:18.571Z"
   },
   {
    "duration": 13,
    "start_time": "2023-04-24T10:02:20.540Z"
   },
   {
    "duration": 55,
    "start_time": "2023-04-24T10:02:21.974Z"
   },
   {
    "duration": 21,
    "start_time": "2023-04-24T10:02:23.592Z"
   },
   {
    "duration": 3,
    "start_time": "2023-04-24T10:02:24.888Z"
   },
   {
    "duration": 60,
    "start_time": "2023-04-24T10:02:26.031Z"
   },
   {
    "duration": 25,
    "start_time": "2023-04-24T10:02:27.443Z"
   },
   {
    "duration": 8,
    "start_time": "2023-04-24T10:02:28.963Z"
   },
   {
    "duration": 82,
    "start_time": "2023-04-24T10:02:31.154Z"
   },
   {
    "duration": 8,
    "start_time": "2023-04-24T10:02:32.424Z"
   },
   {
    "duration": 23,
    "start_time": "2023-04-24T10:02:37.893Z"
   },
   {
    "duration": 92,
    "start_time": "2023-04-24T10:02:39.222Z"
   },
   {
    "duration": 4,
    "start_time": "2023-04-24T10:02:41.656Z"
   },
   {
    "duration": 6,
    "start_time": "2023-04-24T10:02:43.187Z"
   },
   {
    "duration": 6,
    "start_time": "2023-04-24T10:02:44.587Z"
   },
   {
    "duration": 10,
    "start_time": "2023-04-24T10:02:46.356Z"
   },
   {
    "duration": 33,
    "start_time": "2023-04-24T10:02:59.112Z"
   },
   {
    "duration": 8,
    "start_time": "2023-04-24T10:03:02.846Z"
   },
   {
    "duration": 8,
    "start_time": "2023-04-24T10:03:04.686Z"
   },
   {
    "duration": 7,
    "start_time": "2023-04-24T10:03:06.335Z"
   },
   {
    "duration": 1266,
    "start_time": "2023-04-24T15:18:45.734Z"
   },
   {
    "duration": 8,
    "start_time": "2023-04-24T15:18:47.002Z"
   },
   {
    "duration": 14,
    "start_time": "2023-04-24T15:18:47.011Z"
   },
   {
    "duration": 11,
    "start_time": "2023-04-24T15:18:47.028Z"
   },
   {
    "duration": 9,
    "start_time": "2023-04-24T15:18:47.040Z"
   },
   {
    "duration": 49,
    "start_time": "2023-04-24T15:18:47.050Z"
   },
   {
    "duration": 14,
    "start_time": "2023-04-24T15:18:47.100Z"
   },
   {
    "duration": 10,
    "start_time": "2023-04-24T15:18:47.115Z"
   },
   {
    "duration": 9,
    "start_time": "2023-04-24T15:18:47.126Z"
   },
   {
    "duration": 3,
    "start_time": "2023-04-24T15:18:47.137Z"
   },
   {
    "duration": 13,
    "start_time": "2023-04-24T15:18:47.141Z"
   },
   {
    "duration": 5,
    "start_time": "2023-04-24T15:18:47.155Z"
   },
   {
    "duration": 12,
    "start_time": "2023-04-24T15:18:47.161Z"
   },
   {
    "duration": 9,
    "start_time": "2023-04-24T15:18:47.175Z"
   },
   {
    "duration": 7,
    "start_time": "2023-04-24T15:18:47.186Z"
   },
   {
    "duration": 7,
    "start_time": "2023-04-24T15:18:47.194Z"
   },
   {
    "duration": 4,
    "start_time": "2023-04-24T15:18:47.202Z"
   },
   {
    "duration": 5,
    "start_time": "2023-04-24T15:18:47.209Z"
   },
   {
    "duration": 11,
    "start_time": "2023-04-24T15:18:47.215Z"
   },
   {
    "duration": 14,
    "start_time": "2023-04-24T15:18:47.227Z"
   },
   {
    "duration": 9,
    "start_time": "2023-04-24T15:18:47.263Z"
   },
   {
    "duration": 349,
    "start_time": "2023-04-24T15:18:47.274Z"
   },
   {
    "duration": 6,
    "start_time": "2023-04-24T15:18:47.624Z"
   },
   {
    "duration": 12,
    "start_time": "2023-04-24T15:18:47.632Z"
   },
   {
    "duration": 18,
    "start_time": "2023-04-24T15:18:47.645Z"
   },
   {
    "duration": 27,
    "start_time": "2023-04-24T15:18:47.665Z"
   },
   {
    "duration": 24,
    "start_time": "2023-04-24T15:18:47.693Z"
   },
   {
    "duration": 170,
    "start_time": "2023-04-24T15:18:47.721Z"
   },
   {
    "duration": 121,
    "start_time": "2023-04-24T15:18:47.892Z"
   },
   {
    "duration": 9,
    "start_time": "2023-04-24T15:18:48.015Z"
   },
   {
    "duration": 5,
    "start_time": "2023-04-24T15:18:48.025Z"
   },
   {
    "duration": 7,
    "start_time": "2023-04-24T15:18:48.031Z"
   },
   {
    "duration": 5,
    "start_time": "2023-04-24T15:18:48.039Z"
   },
   {
    "duration": 24,
    "start_time": "2023-04-24T15:18:48.045Z"
   },
   {
    "duration": 6,
    "start_time": "2023-04-24T15:18:48.070Z"
   },
   {
    "duration": 217,
    "start_time": "2023-04-24T15:18:48.078Z"
   },
   {
    "duration": 199,
    "start_time": "2023-04-24T15:18:48.297Z"
   },
   {
    "duration": 11,
    "start_time": "2023-04-24T15:18:48.497Z"
   },
   {
    "duration": 5,
    "start_time": "2023-04-24T15:18:48.510Z"
   },
   {
    "duration": 251,
    "start_time": "2023-04-24T15:18:48.516Z"
   },
   {
    "duration": 5,
    "start_time": "2023-04-24T15:18:48.769Z"
   },
   {
    "duration": 12,
    "start_time": "2023-04-24T15:18:48.775Z"
   },
   {
    "duration": 207,
    "start_time": "2023-04-24T15:18:48.789Z"
   },
   {
    "duration": 8,
    "start_time": "2023-04-24T15:18:48.997Z"
   },
   {
    "duration": 312,
    "start_time": "2023-04-24T15:18:49.006Z"
   },
   {
    "duration": 7,
    "start_time": "2023-04-24T15:18:49.320Z"
   },
   {
    "duration": 7,
    "start_time": "2023-04-24T15:18:49.329Z"
   },
   {
    "duration": 26,
    "start_time": "2023-04-24T15:18:49.337Z"
   },
   {
    "duration": 3,
    "start_time": "2023-04-24T15:18:49.365Z"
   },
   {
    "duration": 7,
    "start_time": "2023-04-24T15:18:49.369Z"
   },
   {
    "duration": 222,
    "start_time": "2023-04-24T15:18:49.378Z"
   },
   {
    "duration": 150,
    "start_time": "2023-04-24T15:18:49.602Z"
   },
   {
    "duration": 11,
    "start_time": "2023-04-24T15:18:49.753Z"
   },
   {
    "duration": 5,
    "start_time": "2023-04-24T15:18:49.765Z"
   },
   {
    "duration": 166,
    "start_time": "2023-04-24T15:18:49.771Z"
   },
   {
    "duration": 173,
    "start_time": "2023-04-24T15:18:49.938Z"
   },
   {
    "duration": 4,
    "start_time": "2023-04-24T15:18:50.113Z"
   },
   {
    "duration": 5,
    "start_time": "2023-04-24T15:18:50.119Z"
   },
   {
    "duration": 51,
    "start_time": "2023-04-24T15:18:50.125Z"
   },
   {
    "duration": 8,
    "start_time": "2023-04-24T15:18:50.177Z"
   },
   {
    "duration": 5,
    "start_time": "2023-04-24T15:18:50.186Z"
   },
   {
    "duration": 40,
    "start_time": "2023-04-24T15:18:50.192Z"
   },
   {
    "duration": 5,
    "start_time": "2023-04-24T15:18:50.234Z"
   },
   {
    "duration": 23,
    "start_time": "2023-04-24T15:18:50.241Z"
   },
   {
    "duration": 13,
    "start_time": "2023-04-24T15:18:50.265Z"
   },
   {
    "duration": 47,
    "start_time": "2023-04-24T15:18:50.279Z"
   },
   {
    "duration": 12,
    "start_time": "2023-04-24T15:18:50.327Z"
   },
   {
    "duration": 4,
    "start_time": "2023-04-24T15:18:50.362Z"
   },
   {
    "duration": 48,
    "start_time": "2023-04-24T15:18:50.367Z"
   },
   {
    "duration": 18,
    "start_time": "2023-04-24T15:18:50.416Z"
   },
   {
    "duration": 7,
    "start_time": "2023-04-24T15:18:50.435Z"
   },
   {
    "duration": 61,
    "start_time": "2023-04-24T15:18:50.462Z"
   },
   {
    "duration": 5,
    "start_time": "2023-04-24T15:18:50.525Z"
   },
   {
    "duration": 4,
    "start_time": "2023-04-24T15:18:50.531Z"
   },
   {
    "duration": 83,
    "start_time": "2023-04-24T15:18:50.536Z"
   },
   {
    "duration": 2,
    "start_time": "2023-04-24T15:18:50.621Z"
   },
   {
    "duration": 5,
    "start_time": "2023-04-24T15:18:50.624Z"
   },
   {
    "duration": 4,
    "start_time": "2023-04-24T15:18:50.630Z"
   },
   {
    "duration": 9,
    "start_time": "2023-04-24T15:18:50.636Z"
   },
   {
    "duration": 39,
    "start_time": "2023-04-24T15:18:50.646Z"
   },
   {
    "duration": 6,
    "start_time": "2023-04-24T15:18:50.686Z"
   },
   {
    "duration": 5,
    "start_time": "2023-04-24T15:18:50.696Z"
   },
   {
    "duration": 5,
    "start_time": "2023-04-24T15:18:50.703Z"
   },
   {
    "duration": 4,
    "start_time": "2023-04-24T15:18:50.709Z"
   },
   {
    "duration": 7,
    "start_time": "2023-04-24T15:18:50.714Z"
   },
   {
    "duration": 6,
    "start_time": "2023-04-24T15:18:50.722Z"
   },
   {
    "duration": 38,
    "start_time": "2023-04-24T15:18:50.729Z"
   },
   {
    "duration": 5,
    "start_time": "2023-04-24T15:18:50.769Z"
   },
   {
    "duration": 4,
    "start_time": "2023-04-24T15:18:50.776Z"
   },
   {
    "duration": 23,
    "start_time": "2023-04-24T15:18:50.782Z"
   },
   {
    "duration": 23,
    "start_time": "2023-04-24T15:18:50.806Z"
   },
   {
    "duration": 1349,
    "start_time": "2023-04-24T16:07:19.324Z"
   },
   {
    "duration": 7,
    "start_time": "2023-04-24T16:07:21.685Z"
   },
   {
    "duration": 11,
    "start_time": "2023-04-24T16:07:37.916Z"
   },
   {
    "duration": 12,
    "start_time": "2023-04-24T16:07:46.876Z"
   },
   {
    "duration": 13,
    "start_time": "2023-04-24T16:07:53.980Z"
   },
   {
    "duration": 12,
    "start_time": "2023-04-24T16:08:12.584Z"
   },
   {
    "duration": 12,
    "start_time": "2023-04-24T16:08:22.161Z"
   },
   {
    "duration": 88,
    "start_time": "2023-04-24T16:08:31.060Z"
   },
   {
    "duration": 61,
    "start_time": "2023-04-24T16:08:32.208Z"
   },
   {
    "duration": 7,
    "start_time": "2023-04-24T16:08:33.477Z"
   },
   {
    "duration": 7,
    "start_time": "2023-04-24T16:08:35.884Z"
   },
   {
    "duration": 2,
    "start_time": "2023-04-24T16:08:37.797Z"
   },
   {
    "duration": 10,
    "start_time": "2023-04-24T16:08:39.025Z"
   },
   {
    "duration": 5,
    "start_time": "2023-04-24T16:08:41.443Z"
   },
   {
    "duration": 10,
    "start_time": "2023-04-24T16:08:42.546Z"
   },
   {
    "duration": 5,
    "start_time": "2023-04-24T16:08:44.680Z"
   },
   {
    "duration": 13,
    "start_time": "2023-04-24T16:08:51.014Z"
   },
   {
    "duration": 11,
    "start_time": "2023-04-24T16:09:05.852Z"
   },
   {
    "duration": 5,
    "start_time": "2023-04-24T16:09:53.996Z"
   },
   {
    "duration": 8,
    "start_time": "2023-04-24T16:10:01.988Z"
   },
   {
    "duration": 8,
    "start_time": "2023-04-24T16:10:07.892Z"
   },
   {
    "duration": 8,
    "start_time": "2023-04-24T16:10:27.896Z"
   },
   {
    "duration": 12,
    "start_time": "2023-04-24T16:10:30.872Z"
   },
   {
    "duration": 11,
    "start_time": "2023-04-24T16:10:34.082Z"
   },
   {
    "duration": 6,
    "start_time": "2023-04-24T16:10:59.943Z"
   },
   {
    "duration": 7,
    "start_time": "2023-04-24T16:11:01.615Z"
   },
   {
    "duration": 4,
    "start_time": "2023-04-24T16:11:04.203Z"
   },
   {
    "duration": 7,
    "start_time": "2023-04-24T16:11:10.496Z"
   },
   {
    "duration": 8,
    "start_time": "2023-04-24T16:11:22.746Z"
   },
   {
    "duration": 169,
    "start_time": "2023-04-24T16:11:25.843Z"
   },
   {
    "duration": 111,
    "start_time": "2023-04-24T16:11:27.943Z"
   },
   {
    "duration": 10,
    "start_time": "2023-04-24T16:11:28.125Z"
   },
   {
    "duration": 12,
    "start_time": "2023-04-24T16:11:30.240Z"
   },
   {
    "duration": 4,
    "start_time": "2023-04-24T16:11:40.419Z"
   },
   {
    "duration": 8,
    "start_time": "2023-04-24T16:11:42.429Z"
   },
   {
    "duration": 10,
    "start_time": "2023-04-24T16:11:50.996Z"
   },
   {
    "duration": 8,
    "start_time": "2023-04-24T16:11:56.080Z"
   },
   {
    "duration": 7,
    "start_time": "2023-04-24T16:11:59.698Z"
   },
   {
    "duration": 283,
    "start_time": "2023-04-24T16:12:02.818Z"
   },
   {
    "duration": 186,
    "start_time": "2023-04-24T16:12:59.181Z"
   },
   {
    "duration": 11,
    "start_time": "2023-04-24T16:13:01.188Z"
   },
   {
    "duration": 17,
    "start_time": "2023-04-24T16:13:07.380Z"
   },
   {
    "duration": 6,
    "start_time": "2023-04-24T16:13:14.316Z"
   },
   {
    "duration": 335,
    "start_time": "2023-04-24T16:13:15.692Z"
   },
   {
    "duration": 5,
    "start_time": "2023-04-24T16:13:32.750Z"
   },
   {
    "duration": 7,
    "start_time": "2023-04-24T16:13:40.514Z"
   },
   {
    "duration": 187,
    "start_time": "2023-04-24T16:13:42.819Z"
   },
   {
    "duration": 9,
    "start_time": "2023-04-24T16:13:46.845Z"
   },
   {
    "duration": 377,
    "start_time": "2023-04-24T16:13:49.220Z"
   },
   {
    "duration": 8,
    "start_time": "2023-04-24T16:13:54.038Z"
   },
   {
    "duration": 6,
    "start_time": "2023-04-24T16:13:56.022Z"
   },
   {
    "duration": 6,
    "start_time": "2023-04-24T16:13:57.494Z"
   },
   {
    "duration": 3,
    "start_time": "2023-04-24T16:14:00.009Z"
   },
   {
    "duration": 6,
    "start_time": "2023-04-24T16:14:01.326Z"
   },
   {
    "duration": 132,
    "start_time": "2023-04-24T16:14:03.180Z"
   },
   {
    "duration": 198,
    "start_time": "2023-04-24T16:14:06.328Z"
   },
   {
    "duration": 10,
    "start_time": "2023-04-24T16:14:09.230Z"
   },
   {
    "duration": 4,
    "start_time": "2023-04-24T16:14:11.541Z"
   },
   {
    "duration": 167,
    "start_time": "2023-04-24T16:14:16.580Z"
   },
   {
    "duration": 139,
    "start_time": "2023-04-24T16:14:19.054Z"
   },
   {
    "duration": 4,
    "start_time": "2023-04-24T16:14:22.691Z"
   },
   {
    "duration": 4,
    "start_time": "2023-04-24T16:14:26.095Z"
   },
   {
    "duration": 43,
    "start_time": "2023-04-24T16:14:28.209Z"
   },
   {
    "duration": 3,
    "start_time": "2023-04-24T16:14:29.584Z"
   },
   {
    "duration": 6,
    "start_time": "2023-04-24T16:14:31.039Z"
   },
   {
    "duration": 42,
    "start_time": "2023-04-24T16:14:32.532Z"
   },
   {
    "duration": 3,
    "start_time": "2023-04-24T16:14:34.691Z"
   },
   {
    "duration": 7,
    "start_time": "2023-04-24T16:14:35.894Z"
   },
   {
    "duration": 12,
    "start_time": "2023-04-24T16:14:38.204Z"
   },
   {
    "duration": 45,
    "start_time": "2023-04-24T16:14:39.400Z"
   },
   {
    "duration": 12,
    "start_time": "2023-04-24T16:14:42.211Z"
   },
   {
    "duration": 104,
    "start_time": "2023-04-24T16:14:43.923Z"
   },
   {
    "duration": 3,
    "start_time": "2023-04-24T16:14:47.692Z"
   },
   {
    "duration": 3,
    "start_time": "2023-04-24T16:14:50.784Z"
   },
   {
    "duration": 51,
    "start_time": "2023-04-24T16:14:52.036Z"
   },
   {
    "duration": 23,
    "start_time": "2023-04-24T16:14:53.615Z"
   },
   {
    "duration": 7,
    "start_time": "2023-04-24T16:14:54.994Z"
   },
   {
    "duration": 54,
    "start_time": "2023-04-24T16:14:57.812Z"
   },
   {
    "duration": 6,
    "start_time": "2023-04-24T16:14:58.492Z"
   },
   {
    "duration": 6,
    "start_time": "2023-04-24T16:15:00.949Z"
   },
   {
    "duration": 69,
    "start_time": "2023-04-24T16:15:02.080Z"
   },
   {
    "duration": 2,
    "start_time": "2023-04-24T16:15:03.349Z"
   },
   {
    "duration": 5,
    "start_time": "2023-04-24T16:15:04.939Z"
   },
   {
    "duration": 4,
    "start_time": "2023-04-24T16:15:06.480Z"
   },
   {
    "duration": 4,
    "start_time": "2023-04-24T16:15:08.175Z"
   },
   {
    "duration": 22,
    "start_time": "2023-04-24T16:15:13.095Z"
   },
   {
    "duration": 8,
    "start_time": "2023-04-24T16:15:30.744Z"
   },
   {
    "duration": 5,
    "start_time": "2023-04-24T16:15:33.185Z"
   },
   {
    "duration": 6,
    "start_time": "2023-04-24T16:15:35.092Z"
   },
   {
    "duration": 4,
    "start_time": "2023-04-24T16:15:36.511Z"
   },
   {
    "duration": 6,
    "start_time": "2023-04-24T16:16:07.112Z"
   },
   {
    "duration": 5,
    "start_time": "2023-04-24T16:16:08.904Z"
   },
   {
    "duration": 5,
    "start_time": "2023-04-24T16:16:10.184Z"
   },
   {
    "duration": 4,
    "start_time": "2023-04-24T16:16:12.101Z"
   },
   {
    "duration": 5,
    "start_time": "2023-04-24T16:16:13.449Z"
   },
   {
    "duration": 24,
    "start_time": "2023-04-24T16:16:15.397Z"
   },
   {
    "duration": 22,
    "start_time": "2023-04-24T16:16:33.129Z"
   },
   {
    "duration": 1494,
    "start_time": "2023-04-25T10:22:36.095Z"
   },
   {
    "duration": 17,
    "start_time": "2023-04-25T10:22:38.510Z"
   },
   {
    "duration": 14,
    "start_time": "2023-04-25T10:22:44.330Z"
   },
   {
    "duration": 17,
    "start_time": "2023-04-25T10:22:47.009Z"
   },
   {
    "duration": 13,
    "start_time": "2023-04-25T10:22:50.932Z"
   },
   {
    "duration": 95,
    "start_time": "2023-04-25T10:22:55.088Z"
   },
   {
    "duration": 81,
    "start_time": "2023-04-25T10:22:56.207Z"
   },
   {
    "duration": 9,
    "start_time": "2023-04-25T10:22:57.396Z"
   },
   {
    "duration": 12,
    "start_time": "2023-04-25T10:22:59.888Z"
   },
   {
    "duration": 4,
    "start_time": "2023-04-25T10:23:01.301Z"
   },
   {
    "duration": 15,
    "start_time": "2023-04-25T10:23:04.434Z"
   },
   {
    "duration": 6,
    "start_time": "2023-04-25T10:23:06.211Z"
   },
   {
    "duration": 12,
    "start_time": "2023-04-25T10:23:07.537Z"
   },
   {
    "duration": 4,
    "start_time": "2023-04-25T10:23:09.834Z"
   },
   {
    "duration": 14,
    "start_time": "2023-04-25T10:23:11.213Z"
   },
   {
    "duration": 14,
    "start_time": "2023-04-25T10:23:13.606Z"
   },
   {
    "duration": 8,
    "start_time": "2023-04-25T10:23:16.501Z"
   },
   {
    "duration": 11,
    "start_time": "2023-04-25T10:23:19.496Z"
   },
   {
    "duration": 12,
    "start_time": "2023-04-25T10:23:20.727Z"
   },
   {
    "duration": 14,
    "start_time": "2023-04-25T10:23:25.508Z"
   },
   {
    "duration": 15,
    "start_time": "2023-04-25T10:23:28.813Z"
   },
   {
    "duration": 361,
    "start_time": "2023-04-25T10:23:30.292Z"
   },
   {
    "duration": 6,
    "start_time": "2023-04-25T10:23:35.420Z"
   },
   {
    "duration": 9,
    "start_time": "2023-04-25T10:23:37.083Z"
   },
   {
    "duration": 5,
    "start_time": "2023-04-25T10:23:39.602Z"
   },
   {
    "duration": 11,
    "start_time": "2023-04-25T10:23:40.809Z"
   },
   {
    "duration": 10,
    "start_time": "2023-04-25T10:23:43.292Z"
   },
   {
    "duration": 195,
    "start_time": "2023-04-25T10:23:45.836Z"
   },
   {
    "duration": 150,
    "start_time": "2023-04-25T10:23:47.404Z"
   },
   {
    "duration": 14,
    "start_time": "2023-04-25T10:23:48.909Z"
   },
   {
    "duration": 5,
    "start_time": "2023-04-25T10:23:51.695Z"
   },
   {
    "duration": 8,
    "start_time": "2023-04-25T10:23:52.992Z"
   },
   {
    "duration": 9,
    "start_time": "2023-04-25T10:23:54.504Z"
   },
   {
    "duration": 13,
    "start_time": "2023-04-25T10:23:58.927Z"
   },
   {
    "duration": 8,
    "start_time": "2023-04-25T10:24:01.946Z"
   },
   {
    "duration": 323,
    "start_time": "2023-04-25T10:24:04.491Z"
   },
   {
    "duration": 244,
    "start_time": "2023-04-25T10:24:14.241Z"
   },
   {
    "duration": 22,
    "start_time": "2023-04-25T10:24:16.300Z"
   },
   {
    "duration": 7,
    "start_time": "2023-04-25T10:24:23.288Z"
   },
   {
    "duration": 349,
    "start_time": "2023-04-25T10:24:37.292Z"
   },
   {
    "duration": 347,
    "start_time": "2023-04-25T10:25:57.708Z"
   },
   {
    "duration": 8,
    "start_time": "2023-04-25T10:26:19.484Z"
   },
   {
    "duration": 398,
    "start_time": "2023-04-25T10:26:20.520Z"
   },
   {
    "duration": 55,
    "start_time": "2023-04-25T10:26:27.115Z"
   },
   {
    "duration": 6,
    "start_time": "2023-04-25T10:26:37.615Z"
   },
   {
    "duration": 11,
    "start_time": "2023-04-25T10:26:39.097Z"
   },
   {
    "duration": 390,
    "start_time": "2023-04-25T10:26:41.712Z"
   },
   {
    "duration": 9,
    "start_time": "2023-04-25T10:26:46.704Z"
   },
   {
    "duration": 388,
    "start_time": "2023-04-25T10:26:48.300Z"
   },
   {
    "duration": 9,
    "start_time": "2023-04-25T10:26:54.596Z"
   },
   {
    "duration": 8,
    "start_time": "2023-04-25T10:26:56.988Z"
   },
   {
    "duration": 9,
    "start_time": "2023-04-25T10:26:58.600Z"
   },
   {
    "duration": 4,
    "start_time": "2023-04-25T10:27:00.822Z"
   },
   {
    "duration": 8,
    "start_time": "2023-04-25T10:27:04.618Z"
   },
   {
    "duration": 233,
    "start_time": "2023-04-25T10:28:19.393Z"
   },
   {
    "duration": 191,
    "start_time": "2023-04-25T10:28:21.602Z"
   },
   {
    "duration": 8,
    "start_time": "2023-04-25T10:28:24.540Z"
   },
   {
    "duration": 5,
    "start_time": "2023-04-25T10:28:28.605Z"
   },
   {
    "duration": 208,
    "start_time": "2023-04-25T10:28:32.615Z"
   },
   {
    "duration": 184,
    "start_time": "2023-04-25T10:28:36.314Z"
   },
   {
    "duration": 4,
    "start_time": "2023-04-25T10:28:40.215Z"
   },
   {
    "duration": 7,
    "start_time": "2023-04-25T10:28:42.797Z"
   },
   {
    "duration": 67,
    "start_time": "2023-04-25T10:28:44.208Z"
   },
   {
    "duration": 4,
    "start_time": "2023-04-25T10:28:46.454Z"
   },
   {
    "duration": 5,
    "start_time": "2023-04-25T10:28:47.855Z"
   },
   {
    "duration": 56,
    "start_time": "2023-04-25T10:28:49.196Z"
   },
   {
    "duration": 16,
    "start_time": "2023-04-25T10:28:50.792Z"
   },
   {
    "duration": 67,
    "start_time": "2023-04-25T10:28:52.341Z"
   },
   {
    "duration": 112,
    "start_time": "2023-04-25T10:28:54.621Z"
   },
   {
    "duration": 10,
    "start_time": "2023-04-25T10:28:58.409Z"
   },
   {
    "duration": 26,
    "start_time": "2023-04-25T10:29:02.013Z"
   },
   {
    "duration": 3,
    "start_time": "2023-04-25T10:29:04.697Z"
   },
   {
    "duration": 61,
    "start_time": "2023-04-25T10:29:04.788Z"
   },
   {
    "duration": 23,
    "start_time": "2023-04-25T10:29:07.100Z"
   },
   {
    "duration": 10,
    "start_time": "2023-04-25T10:29:08.312Z"
   },
   {
    "duration": 101,
    "start_time": "2023-04-25T10:29:10.437Z"
   },
   {
    "duration": 7,
    "start_time": "2023-04-25T10:29:11.887Z"
   },
   {
    "duration": 3,
    "start_time": "2023-04-25T10:29:15.346Z"
   },
   {
    "duration": 110,
    "start_time": "2023-04-25T10:29:16.458Z"
   },
   {
    "duration": 5,
    "start_time": "2023-04-25T10:29:18.228Z"
   },
   {
    "duration": 6,
    "start_time": "2023-04-25T10:29:20.012Z"
   },
   {
    "duration": 836,
    "start_time": "2023-04-25T10:29:21.816Z"
   },
   {
    "duration": 6,
    "start_time": "2023-04-25T10:29:24.811Z"
   },
   {
    "duration": 4,
    "start_time": "2023-04-25T10:29:27.511Z"
   },
   {
    "duration": 1096,
    "start_time": "2023-04-25T10:29:28.750Z"
   },
   {
    "duration": 5,
    "start_time": "2023-04-25T10:29:36.442Z"
   },
   {
    "duration": 114,
    "start_time": "2023-04-25T10:29:37.434Z"
   },
   {
    "duration": 5,
    "start_time": "2023-04-25T10:29:38.436Z"
   },
   {
    "duration": 7,
    "start_time": "2023-04-25T10:29:39.422Z"
   },
   {
    "duration": 814,
    "start_time": "2023-04-25T10:29:41.404Z"
   },
   {
    "duration": 12,
    "start_time": "2023-04-25T10:29:47.116Z"
   },
   {
    "duration": 12,
    "start_time": "2023-04-25T10:29:53.128Z"
   },
   {
    "duration": 5,
    "start_time": "2023-04-25T10:30:05.730Z"
   },
   {
    "duration": 69,
    "start_time": "2023-04-25T10:30:07.017Z"
   },
   {
    "duration": 5,
    "start_time": "2023-04-25T10:30:09.015Z"
   },
   {
    "duration": 50,
    "start_time": "2023-04-25T10:30:32.537Z"
   },
   {
    "duration": 49,
    "start_time": "2023-04-25T10:30:36.012Z"
   },
   {
    "duration": 3,
    "start_time": "2023-04-25T10:30:37.447Z"
   },
   {
    "duration": 7,
    "start_time": "2023-04-25T10:30:38.888Z"
   },
   {
    "duration": 49,
    "start_time": "2023-04-25T10:30:39.916Z"
   },
   {
    "duration": 4,
    "start_time": "2023-04-25T10:30:41.516Z"
   },
   {
    "duration": 9,
    "start_time": "2023-04-25T10:30:43.028Z"
   },
   {
    "duration": 15,
    "start_time": "2023-04-25T10:30:45.486Z"
   },
   {
    "duration": 77,
    "start_time": "2023-04-25T10:30:47.224Z"
   },
   {
    "duration": 56,
    "start_time": "2023-04-25T10:30:48.816Z"
   },
   {
    "duration": 35,
    "start_time": "2023-04-25T10:30:50.208Z"
   },
   {
    "duration": 82,
    "start_time": "2023-04-25T10:30:52.208Z"
   },
   {
    "duration": 10,
    "start_time": "2023-04-25T10:30:53.616Z"
   },
   {
    "duration": 3,
    "start_time": "2023-04-25T10:30:56.004Z"
   },
   {
    "duration": 90,
    "start_time": "2023-04-25T10:30:57.308Z"
   },
   {
    "duration": 126,
    "start_time": "2023-04-25T10:30:59.013Z"
   },
   {
    "duration": 112,
    "start_time": "2023-04-25T10:31:24.305Z"
   },
   {
    "duration": 8,
    "start_time": "2023-04-25T10:31:25.537Z"
   },
   {
    "duration": 6,
    "start_time": "2023-04-25T10:31:27.100Z"
   },
   {
    "duration": 141,
    "start_time": "2023-04-25T10:31:28.205Z"
   },
   {
    "duration": 145,
    "start_time": "2023-04-25T10:31:30.820Z"
   },
   {
    "duration": 4,
    "start_time": "2023-04-25T10:31:32.309Z"
   },
   {
    "duration": 5,
    "start_time": "2023-04-25T10:31:33.412Z"
   },
   {
    "duration": 6,
    "start_time": "2023-04-25T10:31:35.135Z"
   },
   {
    "duration": 11,
    "start_time": "2023-04-25T10:31:37.518Z"
   },
   {
    "duration": 42,
    "start_time": "2023-04-25T10:31:41.501Z"
   },
   {
    "duration": 1650,
    "start_time": "2023-04-26T10:02:45.763Z"
   },
   {
    "duration": 15,
    "start_time": "2023-04-26T10:02:47.416Z"
   },
   {
    "duration": 17,
    "start_time": "2023-04-26T10:02:51.070Z"
   },
   {
    "duration": 16,
    "start_time": "2023-04-26T10:02:52.820Z"
   },
   {
    "duration": 17,
    "start_time": "2023-04-26T10:02:56.910Z"
   },
   {
    "duration": 14,
    "start_time": "2023-04-26T10:03:05.284Z"
   },
   {
    "duration": 108,
    "start_time": "2023-04-26T10:03:11.019Z"
   },
   {
    "duration": 75,
    "start_time": "2023-04-26T10:03:12.067Z"
   },
   {
    "duration": 11,
    "start_time": "2023-04-26T10:03:13.076Z"
   },
   {
    "duration": 9,
    "start_time": "2023-04-26T10:03:14.636Z"
   },
   {
    "duration": 4,
    "start_time": "2023-04-26T10:03:18.900Z"
   },
   {
    "duration": 14,
    "start_time": "2023-04-26T10:03:20.206Z"
   },
   {
    "duration": 6,
    "start_time": "2023-04-26T10:03:22.546Z"
   },
   {
    "duration": 11,
    "start_time": "2023-04-26T10:03:23.612Z"
   },
   {
    "duration": 5,
    "start_time": "2023-04-26T10:03:25.090Z"
   },
   {
    "duration": 14,
    "start_time": "2023-04-26T10:03:26.737Z"
   },
   {
    "duration": 13,
    "start_time": "2023-04-26T10:03:29.483Z"
   },
   {
    "duration": 7,
    "start_time": "2023-04-26T10:03:36.949Z"
   },
   {
    "duration": 12,
    "start_time": "2023-04-26T10:03:38.274Z"
   },
   {
    "duration": 12,
    "start_time": "2023-04-26T10:03:40.259Z"
   },
   {
    "duration": 16,
    "start_time": "2023-04-26T10:03:43.317Z"
   },
   {
    "duration": 13,
    "start_time": "2023-04-26T10:03:45.780Z"
   },
   {
    "duration": 369,
    "start_time": "2023-04-26T10:03:47.141Z"
   },
   {
    "duration": 7,
    "start_time": "2023-04-26T10:03:51.969Z"
   },
   {
    "duration": 11,
    "start_time": "2023-04-26T10:03:53.218Z"
   },
   {
    "duration": 4,
    "start_time": "2023-04-26T10:03:55.515Z"
   },
   {
    "duration": 10,
    "start_time": "2023-04-26T10:03:56.703Z"
   },
   {
    "duration": 10,
    "start_time": "2023-04-26T10:03:58.586Z"
   },
   {
    "duration": 239,
    "start_time": "2023-04-26T10:04:00.869Z"
   },
   {
    "duration": 140,
    "start_time": "2023-04-26T10:04:02.579Z"
   },
   {
    "duration": 14,
    "start_time": "2023-04-26T10:04:04.960Z"
   },
   {
    "duration": 5,
    "start_time": "2023-04-26T10:04:07.524Z"
   },
   {
    "duration": 9,
    "start_time": "2023-04-26T10:04:08.876Z"
   },
   {
    "duration": 10,
    "start_time": "2023-04-26T10:04:10.212Z"
   },
   {
    "duration": 10,
    "start_time": "2023-04-26T10:04:15.250Z"
   },
   {
    "duration": 10,
    "start_time": "2023-04-26T10:04:18.148Z"
   },
   {
    "duration": 256,
    "start_time": "2023-04-26T10:04:19.627Z"
   },
   {
    "duration": 240,
    "start_time": "2023-04-26T10:04:27.949Z"
   },
   {
    "duration": 24,
    "start_time": "2023-04-26T10:04:29.959Z"
   },
   {
    "duration": 9,
    "start_time": "2023-04-26T10:04:37.131Z"
   },
   {
    "duration": 375,
    "start_time": "2023-04-26T10:04:38.671Z"
   },
   {
    "duration": 7,
    "start_time": "2023-04-26T10:04:42.185Z"
   },
   {
    "duration": 9,
    "start_time": "2023-04-26T10:04:43.732Z"
   },
   {
    "duration": 298,
    "start_time": "2023-04-26T10:04:45.828Z"
   },
   {
    "duration": 12,
    "start_time": "2023-04-26T10:04:49.872Z"
   },
   {
    "duration": 365,
    "start_time": "2023-04-26T10:04:51.555Z"
   },
   {
    "duration": 11,
    "start_time": "2023-04-26T10:04:55.284Z"
   },
   {
    "duration": 8,
    "start_time": "2023-04-26T10:04:56.541Z"
   },
   {
    "duration": 8,
    "start_time": "2023-04-26T10:04:57.998Z"
   },
   {
    "duration": 4,
    "start_time": "2023-04-26T10:05:00.612Z"
   },
   {
    "duration": 7,
    "start_time": "2023-04-26T10:05:06.568Z"
   },
   {
    "duration": 315,
    "start_time": "2023-04-26T10:05:06.578Z"
   },
   {
    "duration": 187,
    "start_time": "2023-04-26T10:05:06.895Z"
   },
   {
    "duration": 177,
    "start_time": "2023-04-26T10:05:08.628Z"
   },
   {
    "duration": 190,
    "start_time": "2023-04-26T10:05:11.612Z"
   },
   {
    "duration": 8,
    "start_time": "2023-04-26T10:05:14.359Z"
   },
   {
    "duration": 7,
    "start_time": "2023-04-26T10:05:16.682Z"
   },
   {
    "duration": 190,
    "start_time": "2023-04-26T10:05:20.313Z"
   },
   {
    "duration": 196,
    "start_time": "2023-04-26T10:05:23.430Z"
   },
   {
    "duration": 6,
    "start_time": "2023-04-26T10:05:28.007Z"
   },
   {
    "duration": 6,
    "start_time": "2023-04-26T10:05:29.515Z"
   },
   {
    "duration": 56,
    "start_time": "2023-04-26T10:05:31.776Z"
   },
   {
    "duration": 4,
    "start_time": "2023-04-26T10:05:33.875Z"
   },
   {
    "duration": 6,
    "start_time": "2023-04-26T10:05:35.081Z"
   },
   {
    "duration": 56,
    "start_time": "2023-04-26T10:05:36.490Z"
   },
   {
    "duration": 3,
    "start_time": "2023-04-26T10:05:39.249Z"
   },
   {
    "duration": 10,
    "start_time": "2023-04-26T10:05:40.579Z"
   },
   {
    "duration": 26,
    "start_time": "2023-04-26T10:05:42.179Z"
   },
   {
    "duration": 74,
    "start_time": "2023-04-26T10:05:43.510Z"
   },
   {
    "duration": 117,
    "start_time": "2023-04-26T10:05:44.956Z"
   },
   {
    "duration": 12,
    "start_time": "2023-04-26T10:05:47.676Z"
   },
   {
    "duration": 18,
    "start_time": "2023-04-26T10:05:50.162Z"
   },
   {
    "duration": 3,
    "start_time": "2023-04-26T10:05:51.715Z"
   },
   {
    "duration": 55,
    "start_time": "2023-04-26T10:05:52.948Z"
   },
   {
    "duration": 27,
    "start_time": "2023-04-26T10:05:54.306Z"
   },
   {
    "duration": 18,
    "start_time": "2023-04-26T10:05:55.860Z"
   },
   {
    "duration": 75,
    "start_time": "2023-04-26T10:05:57.876Z"
   },
   {
    "duration": 8,
    "start_time": "2023-04-26T10:05:59.266Z"
   },
   {
    "duration": 3,
    "start_time": "2023-04-26T10:06:01.450Z"
   },
   {
    "duration": 85,
    "start_time": "2023-04-26T10:06:02.529Z"
   },
   {
    "duration": 4,
    "start_time": "2023-04-26T10:06:05.241Z"
   },
   {
    "duration": 6,
    "start_time": "2023-04-26T10:06:06.386Z"
   },
   {
    "duration": 6,
    "start_time": "2023-04-26T10:06:07.940Z"
   },
   {
    "duration": 10,
    "start_time": "2023-04-26T10:06:09.756Z"
   },
   {
    "duration": 30,
    "start_time": "2023-04-26T10:06:13.141Z"
   },
   {
    "duration": 42,
    "start_time": "2023-04-26T10:06:16.647Z"
   },
   {
    "duration": 8,
    "start_time": "2023-04-26T10:06:21.541Z"
   },
   {
    "duration": 11,
    "start_time": "2023-04-26T10:06:23.028Z"
   },
   {
    "duration": 8,
    "start_time": "2023-04-26T10:06:32.573Z"
   },
   {
    "duration": 6,
    "start_time": "2023-04-26T10:06:35.587Z"
   },
   {
    "duration": 8,
    "start_time": "2023-04-26T10:06:37.172Z"
   },
   {
    "duration": 6,
    "start_time": "2023-04-26T10:06:40.084Z"
   },
   {
    "duration": 5,
    "start_time": "2023-04-26T10:06:42.417Z"
   },
   {
    "duration": 26,
    "start_time": "2023-04-26T10:06:45.212Z"
   },
   {
    "duration": 25,
    "start_time": "2023-04-26T10:06:51.436Z"
   },
   {
    "duration": 25,
    "start_time": "2023-04-26T10:07:38.219Z"
   },
   {
    "duration": 1447,
    "start_time": "2023-04-26T17:07:36.673Z"
   },
   {
    "duration": 11,
    "start_time": "2023-04-26T17:07:38.123Z"
   },
   {
    "duration": 28,
    "start_time": "2023-04-26T17:07:38.136Z"
   },
   {
    "duration": 21,
    "start_time": "2023-04-26T17:07:38.167Z"
   },
   {
    "duration": 31,
    "start_time": "2023-04-26T17:07:38.189Z"
   },
   {
    "duration": 110,
    "start_time": "2023-04-26T17:07:38.222Z"
   },
   {
    "duration": 61,
    "start_time": "2023-04-26T17:07:38.334Z"
   },
   {
    "duration": 8,
    "start_time": "2023-04-26T17:07:38.397Z"
   },
   {
    "duration": 35,
    "start_time": "2023-04-26T17:07:38.406Z"
   },
   {
    "duration": 15,
    "start_time": "2023-04-26T17:07:38.444Z"
   },
   {
    "duration": 32,
    "start_time": "2023-04-26T17:07:38.461Z"
   },
   {
    "duration": 20,
    "start_time": "2023-04-26T17:07:38.495Z"
   },
   {
    "duration": 39,
    "start_time": "2023-04-26T17:07:38.517Z"
   },
   {
    "duration": 36,
    "start_time": "2023-04-26T17:07:38.558Z"
   },
   {
    "duration": 17,
    "start_time": "2023-04-26T17:07:38.596Z"
   },
   {
    "duration": 23,
    "start_time": "2023-04-26T17:07:38.614Z"
   },
   {
    "duration": 33,
    "start_time": "2023-04-26T17:07:38.639Z"
   },
   {
    "duration": 42,
    "start_time": "2023-04-26T17:07:38.673Z"
   },
   {
    "duration": 19,
    "start_time": "2023-04-26T17:07:38.717Z"
   },
   {
    "duration": 16,
    "start_time": "2023-04-26T17:07:38.738Z"
   },
   {
    "duration": 18,
    "start_time": "2023-04-26T17:07:38.757Z"
   },
   {
    "duration": 308,
    "start_time": "2023-04-26T17:07:38.777Z"
   },
   {
    "duration": 5,
    "start_time": "2023-04-26T17:07:39.087Z"
   },
   {
    "duration": 34,
    "start_time": "2023-04-26T17:07:39.093Z"
   },
   {
    "duration": 11,
    "start_time": "2023-04-26T17:07:39.129Z"
   },
   {
    "duration": 25,
    "start_time": "2023-04-26T17:07:39.142Z"
   },
   {
    "duration": 11,
    "start_time": "2023-04-26T17:07:39.169Z"
   },
   {
    "duration": 178,
    "start_time": "2023-04-26T17:07:39.185Z"
   },
   {
    "duration": 126,
    "start_time": "2023-04-26T17:07:39.364Z"
   },
   {
    "duration": 10,
    "start_time": "2023-04-26T17:07:39.492Z"
   },
   {
    "duration": 15,
    "start_time": "2023-04-26T17:07:39.504Z"
   },
   {
    "duration": 16,
    "start_time": "2023-04-26T17:07:39.521Z"
   },
   {
    "duration": 16,
    "start_time": "2023-04-26T17:07:39.539Z"
   },
   {
    "duration": 17,
    "start_time": "2023-04-26T17:07:39.557Z"
   },
   {
    "duration": 20,
    "start_time": "2023-04-26T17:07:39.576Z"
   },
   {
    "duration": 253,
    "start_time": "2023-04-26T17:07:39.598Z"
   },
   {
    "duration": 245,
    "start_time": "2023-04-26T17:07:39.853Z"
   },
   {
    "duration": 20,
    "start_time": "2023-04-26T17:07:40.099Z"
   },
   {
    "duration": 5,
    "start_time": "2023-04-26T17:07:40.121Z"
   },
   {
    "duration": 415,
    "start_time": "2023-04-26T17:07:40.128Z"
   },
   {
    "duration": 5,
    "start_time": "2023-04-26T17:07:40.545Z"
   },
   {
    "duration": 27,
    "start_time": "2023-04-26T17:07:40.552Z"
   },
   {
    "duration": 210,
    "start_time": "2023-04-26T17:07:40.581Z"
   },
   {
    "duration": 9,
    "start_time": "2023-04-26T17:07:40.793Z"
   },
   {
    "duration": 350,
    "start_time": "2023-04-26T17:07:40.803Z"
   },
   {
    "duration": 10,
    "start_time": "2023-04-26T17:07:41.155Z"
   },
   {
    "duration": 23,
    "start_time": "2023-04-26T17:07:41.167Z"
   },
   {
    "duration": 13,
    "start_time": "2023-04-26T17:07:41.192Z"
   },
   {
    "duration": 10,
    "start_time": "2023-04-26T17:07:41.207Z"
   },
   {
    "duration": 25,
    "start_time": "2023-04-26T17:07:41.219Z"
   },
   {
    "duration": 239,
    "start_time": "2023-04-26T17:07:41.246Z"
   },
   {
    "duration": 166,
    "start_time": "2023-04-26T17:07:41.487Z"
   },
   {
    "duration": 7,
    "start_time": "2023-04-26T17:07:41.655Z"
   },
   {
    "duration": 19,
    "start_time": "2023-04-26T17:07:41.664Z"
   },
   {
    "duration": 157,
    "start_time": "2023-04-26T17:07:41.684Z"
   },
   {
    "duration": 168,
    "start_time": "2023-04-26T17:07:41.842Z"
   },
   {
    "duration": 5,
    "start_time": "2023-04-26T17:07:42.012Z"
   },
   {
    "duration": 29,
    "start_time": "2023-04-26T17:07:42.019Z"
   },
   {
    "duration": 59,
    "start_time": "2023-04-26T17:07:42.050Z"
   },
   {
    "duration": 7,
    "start_time": "2023-04-26T17:07:42.111Z"
   },
   {
    "duration": 9,
    "start_time": "2023-04-26T17:07:42.119Z"
   },
   {
    "duration": 54,
    "start_time": "2023-04-26T17:07:42.129Z"
   },
   {
    "duration": 14,
    "start_time": "2023-04-26T17:07:42.185Z"
   },
   {
    "duration": 15,
    "start_time": "2023-04-26T17:07:42.201Z"
   },
   {
    "duration": 26,
    "start_time": "2023-04-26T17:07:42.217Z"
   },
   {
    "duration": 54,
    "start_time": "2023-04-26T17:07:42.245Z"
   },
   {
    "duration": 50,
    "start_time": "2023-04-26T17:07:42.300Z"
   },
   {
    "duration": 23,
    "start_time": "2023-04-26T17:07:42.351Z"
   },
   {
    "duration": 67,
    "start_time": "2023-04-26T17:07:42.375Z"
   },
   {
    "duration": 35,
    "start_time": "2023-04-26T17:07:42.443Z"
   },
   {
    "duration": 26,
    "start_time": "2023-04-26T17:07:42.480Z"
   },
   {
    "duration": 88,
    "start_time": "2023-04-26T17:07:42.507Z"
   },
   {
    "duration": 7,
    "start_time": "2023-04-26T17:07:42.597Z"
   },
   {
    "duration": 12,
    "start_time": "2023-04-26T17:07:42.605Z"
   },
   {
    "duration": 95,
    "start_time": "2023-04-26T17:07:42.618Z"
   },
   {
    "duration": 3,
    "start_time": "2023-04-26T17:07:42.715Z"
   },
   {
    "duration": 45,
    "start_time": "2023-04-26T17:07:42.720Z"
   },
   {
    "duration": 34,
    "start_time": "2023-04-26T17:07:42.766Z"
   },
   {
    "duration": 20,
    "start_time": "2023-04-26T17:07:42.802Z"
   },
   {
    "duration": 35,
    "start_time": "2023-04-26T17:07:42.823Z"
   },
   {
    "duration": 28,
    "start_time": "2023-04-26T17:07:42.859Z"
   },
   {
    "duration": 6,
    "start_time": "2023-04-26T17:07:42.892Z"
   },
   {
    "duration": 12,
    "start_time": "2023-04-26T17:07:42.900Z"
   },
   {
    "duration": 13,
    "start_time": "2023-04-26T17:07:42.913Z"
   },
   {
    "duration": 8,
    "start_time": "2023-04-26T17:07:42.928Z"
   },
   {
    "duration": 27,
    "start_time": "2023-04-26T17:07:42.937Z"
   },
   {
    "duration": 12,
    "start_time": "2023-04-26T17:07:42.966Z"
   },
   {
    "duration": 20,
    "start_time": "2023-04-26T17:07:42.979Z"
   },
   {
    "duration": 33,
    "start_time": "2023-04-26T17:07:43.000Z"
   },
   {
    "duration": 35,
    "start_time": "2023-04-26T17:07:43.035Z"
   },
   {
    "duration": 81,
    "start_time": "2023-04-26T17:08:46.580Z"
   },
   {
    "duration": 1695,
    "start_time": "2023-04-27T06:25:45.022Z"
   },
   {
    "duration": 14,
    "start_time": "2023-04-27T06:25:46.719Z"
   },
   {
    "duration": 36,
    "start_time": "2023-04-27T06:25:46.735Z"
   },
   {
    "duration": 22,
    "start_time": "2023-04-27T06:25:46.773Z"
   },
   {
    "duration": 21,
    "start_time": "2023-04-27T06:25:46.802Z"
   },
   {
    "duration": 108,
    "start_time": "2023-04-27T06:25:46.825Z"
   },
   {
    "duration": 79,
    "start_time": "2023-04-27T06:25:46.935Z"
   },
   {
    "duration": 10,
    "start_time": "2023-04-27T06:25:47.016Z"
   },
   {
    "duration": 13,
    "start_time": "2023-04-27T06:25:47.027Z"
   },
   {
    "duration": 7,
    "start_time": "2023-04-27T06:25:47.042Z"
   },
   {
    "duration": 15,
    "start_time": "2023-04-27T06:25:47.051Z"
   },
   {
    "duration": 8,
    "start_time": "2023-04-27T06:25:47.068Z"
   },
   {
    "duration": 30,
    "start_time": "2023-04-27T06:25:47.078Z"
   },
   {
    "duration": 9,
    "start_time": "2023-04-27T06:25:47.110Z"
   },
   {
    "duration": 14,
    "start_time": "2023-04-27T06:25:47.121Z"
   },
   {
    "duration": 17,
    "start_time": "2023-04-27T06:25:47.137Z"
   },
   {
    "duration": 52,
    "start_time": "2023-04-27T06:25:47.156Z"
   },
   {
    "duration": 11,
    "start_time": "2023-04-27T06:25:47.210Z"
   },
   {
    "duration": 12,
    "start_time": "2023-04-27T06:25:47.223Z"
   },
   {
    "duration": 15,
    "start_time": "2023-04-27T06:25:47.238Z"
   },
   {
    "duration": 20,
    "start_time": "2023-04-27T06:25:47.290Z"
   },
   {
    "duration": 400,
    "start_time": "2023-04-27T06:25:47.312Z"
   },
   {
    "duration": 7,
    "start_time": "2023-04-27T06:25:47.714Z"
   },
   {
    "duration": 18,
    "start_time": "2023-04-27T06:25:47.723Z"
   },
   {
    "duration": 15,
    "start_time": "2023-04-27T06:25:47.743Z"
   },
   {
    "duration": 14,
    "start_time": "2023-04-27T06:25:47.760Z"
   },
   {
    "duration": 17,
    "start_time": "2023-04-27T06:25:47.790Z"
   },
   {
    "duration": 296,
    "start_time": "2023-04-27T06:25:47.815Z"
   },
   {
    "duration": 165,
    "start_time": "2023-04-27T06:25:48.114Z"
   },
   {
    "duration": 27,
    "start_time": "2023-04-27T06:25:48.281Z"
   },
   {
    "duration": 16,
    "start_time": "2023-04-27T06:25:48.310Z"
   },
   {
    "duration": 14,
    "start_time": "2023-04-27T06:25:48.328Z"
   },
   {
    "duration": 12,
    "start_time": "2023-04-27T06:25:48.344Z"
   },
   {
    "duration": 9,
    "start_time": "2023-04-27T06:25:48.358Z"
   },
   {
    "duration": 26,
    "start_time": "2023-04-27T06:25:48.369Z"
   },
   {
    "duration": 274,
    "start_time": "2023-04-27T06:25:48.397Z"
   },
   {
    "duration": 276,
    "start_time": "2023-04-27T06:25:48.674Z"
   },
   {
    "duration": 56,
    "start_time": "2023-04-27T06:25:48.951Z"
   },
   {
    "duration": 8,
    "start_time": "2023-04-27T06:25:49.009Z"
   },
   {
    "duration": 444,
    "start_time": "2023-04-27T06:25:49.019Z"
   },
   {
    "duration": 8,
    "start_time": "2023-04-27T06:25:49.465Z"
   },
   {
    "duration": 34,
    "start_time": "2023-04-27T06:25:49.476Z"
   },
   {
    "duration": 288,
    "start_time": "2023-04-27T06:25:49.512Z"
   },
   {
    "duration": 13,
    "start_time": "2023-04-27T06:25:49.801Z"
   },
   {
    "duration": 435,
    "start_time": "2023-04-27T06:25:49.817Z"
   },
   {
    "duration": 12,
    "start_time": "2023-04-27T06:25:50.255Z"
   },
   {
    "duration": 29,
    "start_time": "2023-04-27T06:25:50.270Z"
   },
   {
    "duration": 12,
    "start_time": "2023-04-27T06:25:50.301Z"
   },
   {
    "duration": 10,
    "start_time": "2023-04-27T06:25:50.315Z"
   },
   {
    "duration": 20,
    "start_time": "2023-04-27T06:25:50.328Z"
   },
   {
    "duration": 360,
    "start_time": "2023-04-27T06:25:50.352Z"
   },
   {
    "duration": 212,
    "start_time": "2023-04-27T06:25:50.716Z"
   },
   {
    "duration": 9,
    "start_time": "2023-04-27T06:25:50.930Z"
   },
   {
    "duration": 31,
    "start_time": "2023-04-27T06:25:50.942Z"
   },
   {
    "duration": 230,
    "start_time": "2023-04-27T06:25:50.976Z"
   },
   {
    "duration": 213,
    "start_time": "2023-04-27T06:25:51.210Z"
   },
   {
    "duration": 6,
    "start_time": "2023-04-27T06:25:51.425Z"
   },
   {
    "duration": 37,
    "start_time": "2023-04-27T06:25:51.433Z"
   },
   {
    "duration": 74,
    "start_time": "2023-04-27T06:25:51.472Z"
   },
   {
    "duration": 23,
    "start_time": "2023-04-27T06:25:51.548Z"
   },
   {
    "duration": 86,
    "start_time": "2023-04-27T06:25:51.575Z"
   },
   {
    "duration": 95,
    "start_time": "2023-04-27T06:25:51.663Z"
   },
   {
    "duration": 33,
    "start_time": "2023-04-27T06:25:51.760Z"
   },
   {
    "duration": 17,
    "start_time": "2023-04-27T06:25:51.799Z"
   },
   {
    "duration": 26,
    "start_time": "2023-04-27T06:25:51.818Z"
   },
   {
    "duration": 86,
    "start_time": "2023-04-27T06:25:51.847Z"
   },
   {
    "duration": 26,
    "start_time": "2023-04-27T06:25:51.936Z"
   },
   {
    "duration": 24,
    "start_time": "2023-04-27T06:25:51.964Z"
   },
   {
    "duration": 97,
    "start_time": "2023-04-27T06:25:51.990Z"
   },
   {
    "duration": 53,
    "start_time": "2023-04-27T06:25:52.098Z"
   },
   {
    "duration": 20,
    "start_time": "2023-04-27T06:25:52.154Z"
   },
   {
    "duration": 99,
    "start_time": "2023-04-27T06:25:52.176Z"
   },
   {
    "duration": 21,
    "start_time": "2023-04-27T06:25:52.277Z"
   },
   {
    "duration": 11,
    "start_time": "2023-04-27T06:25:52.300Z"
   },
   {
    "duration": 114,
    "start_time": "2023-04-27T06:25:52.313Z"
   },
   {
    "duration": 3,
    "start_time": "2023-04-27T06:25:52.429Z"
   },
   {
    "duration": 10,
    "start_time": "2023-04-27T06:25:52.433Z"
   },
   {
    "duration": 10,
    "start_time": "2023-04-27T06:25:52.445Z"
   },
   {
    "duration": 11,
    "start_time": "2023-04-27T06:25:52.457Z"
   },
   {
    "duration": 84,
    "start_time": "2023-04-27T06:25:52.470Z"
   },
   {
    "duration": 32,
    "start_time": "2023-04-27T06:25:52.556Z"
   },
   {
    "duration": 14,
    "start_time": "2023-04-27T06:25:52.603Z"
   },
   {
    "duration": 18,
    "start_time": "2023-04-27T06:25:52.619Z"
   },
   {
    "duration": 13,
    "start_time": "2023-04-27T06:25:52.639Z"
   },
   {
    "duration": 11,
    "start_time": "2023-04-27T06:25:52.654Z"
   },
   {
    "duration": 37,
    "start_time": "2023-04-27T06:25:52.667Z"
   },
   {
    "duration": 7,
    "start_time": "2023-04-27T06:25:52.708Z"
   },
   {
    "duration": 17,
    "start_time": "2023-04-27T06:25:52.718Z"
   },
   {
    "duration": 27,
    "start_time": "2023-04-27T06:25:52.738Z"
   },
   {
    "duration": 30,
    "start_time": "2023-04-27T06:25:52.790Z"
   },
   {
    "duration": 32,
    "start_time": "2023-04-27T06:46:34.717Z"
   },
   {
    "duration": 11,
    "start_time": "2023-04-27T06:46:34.751Z"
   },
   {
    "duration": 20,
    "start_time": "2023-04-27T06:46:34.766Z"
   },
   {
    "duration": 21,
    "start_time": "2023-04-27T06:46:34.789Z"
   },
   {
    "duration": 24,
    "start_time": "2023-04-27T06:46:34.812Z"
   },
   {
    "duration": 46,
    "start_time": "2023-04-27T06:46:34.839Z"
   },
   {
    "duration": 30,
    "start_time": "2023-04-27T06:46:34.888Z"
   },
   {
    "duration": 11,
    "start_time": "2023-04-27T06:46:34.920Z"
   },
   {
    "duration": 34,
    "start_time": "2023-04-27T06:46:34.933Z"
   },
   {
    "duration": 25,
    "start_time": "2023-04-27T06:46:34.970Z"
   },
   {
    "duration": 18,
    "start_time": "2023-04-27T06:46:34.997Z"
   },
   {
    "duration": 7,
    "start_time": "2023-04-27T06:46:35.017Z"
   },
   {
    "duration": 31,
    "start_time": "2023-04-27T06:46:35.026Z"
   },
   {
    "duration": 37,
    "start_time": "2023-04-27T06:46:35.059Z"
   },
   {
    "duration": 32,
    "start_time": "2023-04-27T06:46:35.100Z"
   },
   {
    "duration": 49,
    "start_time": "2023-04-27T06:46:35.134Z"
   },
   {
    "duration": 29,
    "start_time": "2023-04-27T06:46:35.185Z"
   },
   {
    "duration": 33,
    "start_time": "2023-04-27T06:46:35.217Z"
   },
   {
    "duration": 64,
    "start_time": "2023-04-27T06:46:35.252Z"
   },
   {
    "duration": 36,
    "start_time": "2023-04-27T06:46:35.318Z"
   },
   {
    "duration": 39,
    "start_time": "2023-04-27T06:46:35.356Z"
   },
   {
    "duration": 327,
    "start_time": "2023-04-27T06:46:35.401Z"
   },
   {
    "duration": 7,
    "start_time": "2023-04-27T06:46:35.730Z"
   },
   {
    "duration": 59,
    "start_time": "2023-04-27T06:46:35.739Z"
   },
   {
    "duration": 39,
    "start_time": "2023-04-27T06:46:35.805Z"
   },
   {
    "duration": 65,
    "start_time": "2023-04-27T06:46:35.846Z"
   },
   {
    "duration": 58,
    "start_time": "2023-04-27T06:46:35.914Z"
   },
   {
    "duration": 330,
    "start_time": "2023-04-27T06:46:35.974Z"
   },
   {
    "duration": 161,
    "start_time": "2023-04-27T06:46:36.306Z"
   },
   {
    "duration": 15,
    "start_time": "2023-04-27T06:46:36.469Z"
   },
   {
    "duration": 13,
    "start_time": "2023-04-27T06:46:36.489Z"
   },
   {
    "duration": 17,
    "start_time": "2023-04-27T06:46:36.504Z"
   },
   {
    "duration": 18,
    "start_time": "2023-04-27T06:46:36.523Z"
   },
   {
    "duration": 31,
    "start_time": "2023-04-27T06:46:36.543Z"
   },
   {
    "duration": 30,
    "start_time": "2023-04-27T06:46:36.577Z"
   },
   {
    "duration": 319,
    "start_time": "2023-04-27T06:46:36.611Z"
   },
   {
    "duration": 311,
    "start_time": "2023-04-27T06:46:36.932Z"
   },
   {
    "duration": 51,
    "start_time": "2023-04-27T06:46:37.248Z"
   },
   {
    "duration": 8,
    "start_time": "2023-04-27T06:46:37.307Z"
   },
   {
    "duration": 334,
    "start_time": "2023-04-27T06:46:37.317Z"
   },
   {
    "duration": 7,
    "start_time": "2023-04-27T06:46:37.660Z"
   },
   {
    "duration": 39,
    "start_time": "2023-04-27T06:46:37.669Z"
   },
   {
    "duration": 281,
    "start_time": "2023-04-27T06:46:37.715Z"
   },
   {
    "duration": 25,
    "start_time": "2023-04-27T06:46:37.997Z"
   },
   {
    "duration": 404,
    "start_time": "2023-04-27T06:46:38.028Z"
   },
   {
    "duration": 11,
    "start_time": "2023-04-27T06:46:38.434Z"
   },
   {
    "duration": 25,
    "start_time": "2023-04-27T06:46:38.447Z"
   },
   {
    "duration": 19,
    "start_time": "2023-04-27T06:46:38.491Z"
   },
   {
    "duration": 7,
    "start_time": "2023-04-27T06:46:38.513Z"
   },
   {
    "duration": 15,
    "start_time": "2023-04-27T06:46:38.523Z"
   },
   {
    "duration": 333,
    "start_time": "2023-04-27T06:46:38.543Z"
   },
   {
    "duration": 205,
    "start_time": "2023-04-27T06:46:38.879Z"
   },
   {
    "duration": 17,
    "start_time": "2023-04-27T06:46:39.089Z"
   },
   {
    "duration": 6,
    "start_time": "2023-04-27T06:46:39.111Z"
   },
   {
    "duration": 252,
    "start_time": "2023-04-27T06:46:39.120Z"
   },
   {
    "duration": 226,
    "start_time": "2023-04-27T06:46:39.374Z"
   },
   {
    "duration": 10,
    "start_time": "2023-04-27T06:46:39.602Z"
   },
   {
    "duration": 47,
    "start_time": "2023-04-27T06:46:39.615Z"
   },
   {
    "duration": 118,
    "start_time": "2023-04-27T06:46:39.664Z"
   },
   {
    "duration": 8,
    "start_time": "2023-04-27T06:46:39.784Z"
   },
   {
    "duration": 38,
    "start_time": "2023-04-27T06:46:39.794Z"
   },
   {
    "duration": 86,
    "start_time": "2023-04-27T06:46:39.834Z"
   },
   {
    "duration": 5,
    "start_time": "2023-04-27T06:46:39.923Z"
   },
   {
    "duration": 22,
    "start_time": "2023-04-27T06:46:39.930Z"
   },
   {
    "duration": 43,
    "start_time": "2023-04-27T06:46:39.955Z"
   },
   {
    "duration": 84,
    "start_time": "2023-04-27T06:46:40.003Z"
   },
   {
    "duration": 40,
    "start_time": "2023-04-27T06:46:40.090Z"
   },
   {
    "duration": 12,
    "start_time": "2023-04-27T06:46:40.135Z"
   },
   {
    "duration": 92,
    "start_time": "2023-04-27T06:46:40.149Z"
   },
   {
    "duration": 35,
    "start_time": "2023-04-27T06:46:40.244Z"
   },
   {
    "duration": 16,
    "start_time": "2023-04-27T06:46:40.284Z"
   },
   {
    "duration": 131,
    "start_time": "2023-04-27T06:46:40.307Z"
   },
   {
    "duration": 31,
    "start_time": "2023-04-27T06:46:40.440Z"
   },
   {
    "duration": 38,
    "start_time": "2023-04-27T06:46:40.473Z"
   },
   {
    "duration": 141,
    "start_time": "2023-04-27T06:46:40.514Z"
   },
   {
    "duration": 4,
    "start_time": "2023-04-27T06:46:40.658Z"
   },
   {
    "duration": 28,
    "start_time": "2023-04-27T06:46:40.664Z"
   },
   {
    "duration": 7,
    "start_time": "2023-04-27T06:46:40.699Z"
   },
   {
    "duration": 29,
    "start_time": "2023-04-27T06:46:40.711Z"
   },
   {
    "duration": 40,
    "start_time": "2023-04-27T06:46:40.743Z"
   },
   {
    "duration": 46,
    "start_time": "2023-04-27T06:46:40.786Z"
   },
   {
    "duration": 7,
    "start_time": "2023-04-27T06:46:40.834Z"
   },
   {
    "duration": 31,
    "start_time": "2023-04-27T06:46:40.845Z"
   },
   {
    "duration": 41,
    "start_time": "2023-04-27T06:46:40.878Z"
   },
   {
    "duration": 7,
    "start_time": "2023-04-27T06:46:40.921Z"
   },
   {
    "duration": 10,
    "start_time": "2023-04-27T06:46:40.930Z"
   },
   {
    "duration": 18,
    "start_time": "2023-04-27T06:46:40.942Z"
   },
   {
    "duration": 14,
    "start_time": "2023-04-27T06:46:40.962Z"
   },
   {
    "duration": 62,
    "start_time": "2023-04-27T06:46:40.978Z"
   },
   {
    "duration": 33,
    "start_time": "2023-04-27T06:46:41.042Z"
   },
   {
    "duration": 4,
    "start_time": "2023-04-27T06:48:56.369Z"
   },
   {
    "duration": 49,
    "start_time": "2023-04-27T06:49:27.979Z"
   },
   {
    "duration": 44,
    "start_time": "2023-04-27T07:22:24.382Z"
   },
   {
    "duration": 9,
    "start_time": "2023-04-27T07:22:24.429Z"
   },
   {
    "duration": 36,
    "start_time": "2023-04-27T07:22:24.440Z"
   },
   {
    "duration": 23,
    "start_time": "2023-04-27T07:22:24.479Z"
   },
   {
    "duration": 24,
    "start_time": "2023-04-27T07:22:24.504Z"
   },
   {
    "duration": 52,
    "start_time": "2023-04-27T07:22:24.530Z"
   },
   {
    "duration": 21,
    "start_time": "2023-04-27T07:22:24.584Z"
   },
   {
    "duration": 12,
    "start_time": "2023-04-27T07:22:24.614Z"
   },
   {
    "duration": 34,
    "start_time": "2023-04-27T07:22:24.628Z"
   },
   {
    "duration": 10,
    "start_time": "2023-04-27T07:22:24.667Z"
   },
   {
    "duration": 39,
    "start_time": "2023-04-27T07:22:24.680Z"
   },
   {
    "duration": 7,
    "start_time": "2023-04-27T07:22:24.721Z"
   },
   {
    "duration": 30,
    "start_time": "2023-04-27T07:22:24.730Z"
   },
   {
    "duration": 11,
    "start_time": "2023-04-27T07:22:24.762Z"
   },
   {
    "duration": 40,
    "start_time": "2023-04-27T07:22:24.775Z"
   },
   {
    "duration": 16,
    "start_time": "2023-04-27T07:22:24.818Z"
   },
   {
    "duration": 32,
    "start_time": "2023-04-27T07:22:24.836Z"
   },
   {
    "duration": 38,
    "start_time": "2023-04-27T07:22:24.871Z"
   },
   {
    "duration": 13,
    "start_time": "2023-04-27T07:22:24.913Z"
   },
   {
    "duration": 42,
    "start_time": "2023-04-27T07:22:24.928Z"
   },
   {
    "duration": 36,
    "start_time": "2023-04-27T07:22:24.972Z"
   },
   {
    "duration": 304,
    "start_time": "2023-04-27T07:22:25.009Z"
   },
   {
    "duration": 8,
    "start_time": "2023-04-27T07:22:25.319Z"
   },
   {
    "duration": 89,
    "start_time": "2023-04-27T07:22:25.329Z"
   },
   {
    "duration": 23,
    "start_time": "2023-04-27T07:22:25.421Z"
   },
   {
    "duration": 28,
    "start_time": "2023-04-27T07:22:25.446Z"
   },
   {
    "duration": 9,
    "start_time": "2023-04-27T07:22:25.476Z"
   },
   {
    "duration": 274,
    "start_time": "2023-04-27T07:22:25.492Z"
   },
   {
    "duration": 198,
    "start_time": "2023-04-27T07:22:25.768Z"
   },
   {
    "duration": 13,
    "start_time": "2023-04-27T07:22:25.968Z"
   },
   {
    "duration": 33,
    "start_time": "2023-04-27T07:22:25.984Z"
   },
   {
    "duration": 33,
    "start_time": "2023-04-27T07:22:26.022Z"
   },
   {
    "duration": 29,
    "start_time": "2023-04-27T07:22:26.057Z"
   },
   {
    "duration": 39,
    "start_time": "2023-04-27T07:22:26.088Z"
   },
   {
    "duration": 23,
    "start_time": "2023-04-27T07:22:26.129Z"
   },
   {
    "duration": 315,
    "start_time": "2023-04-27T07:22:26.154Z"
   },
   {
    "duration": 269,
    "start_time": "2023-04-27T07:22:26.471Z"
   },
   {
    "duration": 25,
    "start_time": "2023-04-27T07:22:26.742Z"
   },
   {
    "duration": 21,
    "start_time": "2023-04-27T07:22:26.769Z"
   },
   {
    "duration": 374,
    "start_time": "2023-04-27T07:22:26.795Z"
   },
   {
    "duration": 7,
    "start_time": "2023-04-27T07:22:27.171Z"
   },
   {
    "duration": 33,
    "start_time": "2023-04-27T07:22:27.188Z"
   },
   {
    "duration": 264,
    "start_time": "2023-04-27T07:22:27.224Z"
   },
   {
    "duration": 13,
    "start_time": "2023-04-27T07:22:27.500Z"
   },
   {
    "duration": 389,
    "start_time": "2023-04-27T07:22:27.517Z"
   },
   {
    "duration": 15,
    "start_time": "2023-04-27T07:22:27.911Z"
   },
   {
    "duration": 10,
    "start_time": "2023-04-27T07:22:27.931Z"
   },
   {
    "duration": 16,
    "start_time": "2023-04-27T07:22:27.943Z"
   },
   {
    "duration": 5,
    "start_time": "2023-04-27T07:22:27.961Z"
   },
   {
    "duration": 54,
    "start_time": "2023-04-27T07:22:27.969Z"
   },
   {
    "duration": 300,
    "start_time": "2023-04-27T07:22:28.025Z"
   },
   {
    "duration": 210,
    "start_time": "2023-04-27T07:22:28.327Z"
   },
   {
    "duration": 9,
    "start_time": "2023-04-27T07:22:28.539Z"
   },
   {
    "duration": 10,
    "start_time": "2023-04-27T07:22:28.550Z"
   },
   {
    "duration": 234,
    "start_time": "2023-04-27T07:22:28.562Z"
   },
   {
    "duration": 199,
    "start_time": "2023-04-27T07:22:28.798Z"
   },
   {
    "duration": 5,
    "start_time": "2023-04-27T07:22:28.999Z"
   },
   {
    "duration": 12,
    "start_time": "2023-04-27T07:22:29.007Z"
   },
   {
    "duration": 68,
    "start_time": "2023-04-27T07:22:29.025Z"
   },
   {
    "duration": 4,
    "start_time": "2023-04-27T07:22:29.095Z"
   },
   {
    "duration": 28,
    "start_time": "2023-04-27T07:22:29.101Z"
   },
   {
    "duration": 54,
    "start_time": "2023-04-27T07:22:29.131Z"
   },
   {
    "duration": 37,
    "start_time": "2023-04-27T07:22:29.187Z"
   },
   {
    "duration": 13,
    "start_time": "2023-04-27T07:22:29.226Z"
   },
   {
    "duration": 21,
    "start_time": "2023-04-27T07:22:29.241Z"
   },
   {
    "duration": 72,
    "start_time": "2023-04-27T07:22:29.264Z"
   },
   {
    "duration": 27,
    "start_time": "2023-04-27T07:22:29.338Z"
   },
   {
    "duration": 15,
    "start_time": "2023-04-27T07:22:29.367Z"
   },
   {
    "duration": 64,
    "start_time": "2023-04-27T07:22:29.384Z"
   },
   {
    "duration": 26,
    "start_time": "2023-04-27T07:22:29.450Z"
   },
   {
    "duration": 24,
    "start_time": "2023-04-27T07:22:29.478Z"
   },
   {
    "duration": 73,
    "start_time": "2023-04-27T07:22:29.504Z"
   },
   {
    "duration": 10,
    "start_time": "2023-04-27T07:22:29.579Z"
   },
   {
    "duration": 5,
    "start_time": "2023-04-27T07:22:29.597Z"
   },
   {
    "duration": 106,
    "start_time": "2023-04-27T07:22:29.615Z"
   },
   {
    "duration": 4,
    "start_time": "2023-04-27T07:22:29.723Z"
   },
   {
    "duration": 19,
    "start_time": "2023-04-27T07:22:29.729Z"
   },
   {
    "duration": 10,
    "start_time": "2023-04-27T07:22:29.753Z"
   },
   {
    "duration": 12,
    "start_time": "2023-04-27T07:22:29.765Z"
   },
   {
    "duration": 46,
    "start_time": "2023-04-27T07:22:29.779Z"
   },
   {
    "duration": 33,
    "start_time": "2023-04-27T07:22:29.827Z"
   },
   {
    "duration": 32,
    "start_time": "2023-04-27T07:22:29.867Z"
   },
   {
    "duration": 29,
    "start_time": "2023-04-27T07:22:29.901Z"
   },
   {
    "duration": 12,
    "start_time": "2023-04-27T07:22:29.934Z"
   },
   {
    "duration": 10,
    "start_time": "2023-04-27T07:22:29.949Z"
   },
   {
    "duration": 18,
    "start_time": "2023-04-27T07:22:29.961Z"
   },
   {
    "duration": 7,
    "start_time": "2023-04-27T07:22:29.981Z"
   },
   {
    "duration": 18,
    "start_time": "2023-04-27T07:22:29.996Z"
   },
   {
    "duration": 29,
    "start_time": "2023-04-27T07:22:30.017Z"
   },
   {
    "duration": 55,
    "start_time": "2023-04-27T07:22:30.048Z"
   },
   {
    "duration": 3,
    "start_time": "2023-04-27T07:22:30.105Z"
   },
   {
    "duration": 9,
    "start_time": "2023-04-27T07:25:05.637Z"
   },
   {
    "duration": 12,
    "start_time": "2023-04-27T07:25:43.882Z"
   },
   {
    "duration": 13,
    "start_time": "2023-04-27T07:25:54.101Z"
   },
   {
    "duration": 21,
    "start_time": "2023-04-27T07:27:58.577Z"
   },
   {
    "duration": 17,
    "start_time": "2023-04-27T07:28:57.832Z"
   },
   {
    "duration": 85,
    "start_time": "2023-04-27T07:29:30.576Z"
   },
   {
    "duration": 72,
    "start_time": "2023-04-27T07:29:47.247Z"
   },
   {
    "duration": 17,
    "start_time": "2023-04-27T07:30:32.116Z"
   },
   {
    "duration": 23,
    "start_time": "2023-04-27T07:30:45.418Z"
   },
   {
    "duration": 30,
    "start_time": "2023-04-27T07:30:47.582Z"
   },
   {
    "duration": 31,
    "start_time": "2023-04-27T07:40:14.073Z"
   },
   {
    "duration": 28,
    "start_time": "2023-04-27T07:40:15.185Z"
   },
   {
    "duration": 101,
    "start_time": "2023-04-27T07:40:31.348Z"
   },
   {
    "duration": 1353,
    "start_time": "2023-04-27T10:01:34.819Z"
   },
   {
    "duration": 11,
    "start_time": "2023-04-27T10:01:36.174Z"
   },
   {
    "duration": 14,
    "start_time": "2023-04-27T10:01:36.187Z"
   },
   {
    "duration": 17,
    "start_time": "2023-04-27T10:01:36.203Z"
   },
   {
    "duration": 10,
    "start_time": "2023-04-27T10:01:36.222Z"
   },
   {
    "duration": 79,
    "start_time": "2023-04-27T10:01:36.234Z"
   },
   {
    "duration": 65,
    "start_time": "2023-04-27T10:01:36.315Z"
   },
   {
    "duration": 7,
    "start_time": "2023-04-27T10:01:36.382Z"
   },
   {
    "duration": 10,
    "start_time": "2023-04-27T10:01:36.391Z"
   },
   {
    "duration": 3,
    "start_time": "2023-04-27T10:01:36.404Z"
   },
   {
    "duration": 26,
    "start_time": "2023-04-27T10:01:36.409Z"
   },
   {
    "duration": 7,
    "start_time": "2023-04-27T10:01:36.437Z"
   },
   {
    "duration": 12,
    "start_time": "2023-04-27T10:01:36.446Z"
   },
   {
    "duration": 5,
    "start_time": "2023-04-27T10:01:36.460Z"
   },
   {
    "duration": 35,
    "start_time": "2023-04-27T10:01:36.466Z"
   },
   {
    "duration": 10,
    "start_time": "2023-04-27T10:01:36.502Z"
   },
   {
    "duration": 5,
    "start_time": "2023-04-27T10:01:36.513Z"
   },
   {
    "duration": 9,
    "start_time": "2023-04-27T10:01:36.519Z"
   },
   {
    "duration": 9,
    "start_time": "2023-04-27T10:01:36.529Z"
   },
   {
    "duration": 59,
    "start_time": "2023-04-27T10:01:36.539Z"
   },
   {
    "duration": 12,
    "start_time": "2023-04-27T10:01:36.600Z"
   },
   {
    "duration": 324,
    "start_time": "2023-04-27T10:01:36.614Z"
   },
   {
    "duration": 5,
    "start_time": "2023-04-27T10:01:36.940Z"
   },
   {
    "duration": 12,
    "start_time": "2023-04-27T10:01:36.947Z"
   },
   {
    "duration": 5,
    "start_time": "2023-04-27T10:01:36.960Z"
   },
   {
    "duration": 25,
    "start_time": "2023-04-27T10:01:36.967Z"
   },
   {
    "duration": 11,
    "start_time": "2023-04-27T10:01:36.993Z"
   },
   {
    "duration": 201,
    "start_time": "2023-04-27T10:01:37.007Z"
   },
   {
    "duration": 129,
    "start_time": "2023-04-27T10:01:37.210Z"
   },
   {
    "duration": 9,
    "start_time": "2023-04-27T10:01:37.341Z"
   },
   {
    "duration": 5,
    "start_time": "2023-04-27T10:01:37.352Z"
   },
   {
    "duration": 17,
    "start_time": "2023-04-27T10:01:37.359Z"
   },
   {
    "duration": 21,
    "start_time": "2023-04-27T10:01:37.378Z"
   },
   {
    "duration": 20,
    "start_time": "2023-04-27T10:01:37.401Z"
   },
   {
    "duration": 9,
    "start_time": "2023-04-27T10:01:37.423Z"
   },
   {
    "duration": 293,
    "start_time": "2023-04-27T10:01:37.434Z"
   },
   {
    "duration": 236,
    "start_time": "2023-04-27T10:01:37.729Z"
   },
   {
    "duration": 26,
    "start_time": "2023-04-27T10:01:37.967Z"
   },
   {
    "duration": 6,
    "start_time": "2023-04-27T10:01:37.995Z"
   },
   {
    "duration": 354,
    "start_time": "2023-04-27T10:01:38.003Z"
   },
   {
    "duration": 5,
    "start_time": "2023-04-27T10:01:38.359Z"
   },
   {
    "duration": 25,
    "start_time": "2023-04-27T10:01:38.366Z"
   },
   {
    "duration": 238,
    "start_time": "2023-04-27T10:01:38.393Z"
   },
   {
    "duration": 8,
    "start_time": "2023-04-27T10:01:38.633Z"
   },
   {
    "duration": 372,
    "start_time": "2023-04-27T10:01:38.642Z"
   },
   {
    "duration": 8,
    "start_time": "2023-04-27T10:01:39.016Z"
   },
   {
    "duration": 25,
    "start_time": "2023-04-27T10:01:39.026Z"
   },
   {
    "duration": 17,
    "start_time": "2023-04-27T10:01:39.053Z"
   },
   {
    "duration": 29,
    "start_time": "2023-04-27T10:01:39.072Z"
   },
   {
    "duration": 31,
    "start_time": "2023-04-27T10:01:39.103Z"
   },
   {
    "duration": 227,
    "start_time": "2023-04-27T10:01:39.136Z"
   },
   {
    "duration": 160,
    "start_time": "2023-04-27T10:01:39.364Z"
   },
   {
    "duration": 6,
    "start_time": "2023-04-27T10:01:39.526Z"
   },
   {
    "duration": 27,
    "start_time": "2023-04-27T10:01:39.533Z"
   },
   {
    "duration": 169,
    "start_time": "2023-04-27T10:01:39.561Z"
   },
   {
    "duration": 164,
    "start_time": "2023-04-27T10:01:39.731Z"
   },
   {
    "duration": 4,
    "start_time": "2023-04-27T10:01:39.897Z"
   },
   {
    "duration": 32,
    "start_time": "2023-04-27T10:01:39.902Z"
   },
   {
    "duration": 60,
    "start_time": "2023-04-27T10:01:39.936Z"
   },
   {
    "duration": 19,
    "start_time": "2023-04-27T10:01:39.997Z"
   },
   {
    "duration": 18,
    "start_time": "2023-04-27T10:01:40.017Z"
   },
   {
    "duration": 57,
    "start_time": "2023-04-27T10:01:40.036Z"
   },
   {
    "duration": 19,
    "start_time": "2023-04-27T10:01:40.094Z"
   },
   {
    "duration": 23,
    "start_time": "2023-04-27T10:01:40.114Z"
   },
   {
    "duration": 34,
    "start_time": "2023-04-27T10:01:40.139Z"
   },
   {
    "duration": 57,
    "start_time": "2023-04-27T10:01:40.174Z"
   },
   {
    "duration": 36,
    "start_time": "2023-04-27T10:01:40.233Z"
   },
   {
    "duration": 11,
    "start_time": "2023-04-27T10:01:40.273Z"
   },
   {
    "duration": 59,
    "start_time": "2023-04-27T10:01:40.286Z"
   },
   {
    "duration": 49,
    "start_time": "2023-04-27T10:01:40.346Z"
   },
   {
    "duration": 9,
    "start_time": "2023-04-27T10:01:40.397Z"
   },
   {
    "duration": 89,
    "start_time": "2023-04-27T10:01:40.408Z"
   },
   {
    "duration": 6,
    "start_time": "2023-04-27T10:01:40.499Z"
   },
   {
    "duration": 17,
    "start_time": "2023-04-27T10:01:40.506Z"
   },
   {
    "duration": 99,
    "start_time": "2023-04-27T10:01:40.524Z"
   },
   {
    "duration": 2,
    "start_time": "2023-04-27T10:01:40.625Z"
   },
   {
    "duration": 28,
    "start_time": "2023-04-27T10:01:40.629Z"
   },
   {
    "duration": 23,
    "start_time": "2023-04-27T10:01:40.658Z"
   },
   {
    "duration": 13,
    "start_time": "2023-04-27T10:01:40.682Z"
   },
   {
    "duration": 39,
    "start_time": "2023-04-27T10:01:40.697Z"
   },
   {
    "duration": 25,
    "start_time": "2023-04-27T10:01:40.738Z"
   },
   {
    "duration": 7,
    "start_time": "2023-04-27T10:01:40.768Z"
   },
   {
    "duration": 22,
    "start_time": "2023-04-27T10:01:40.776Z"
   },
   {
    "duration": 18,
    "start_time": "2023-04-27T10:01:40.799Z"
   },
   {
    "duration": 27,
    "start_time": "2023-04-27T10:01:40.819Z"
   },
   {
    "duration": 16,
    "start_time": "2023-04-27T10:01:40.847Z"
   },
   {
    "duration": 19,
    "start_time": "2023-04-27T10:01:40.865Z"
   },
   {
    "duration": 31,
    "start_time": "2023-04-27T10:01:40.886Z"
   },
   {
    "duration": 47,
    "start_time": "2023-04-27T10:01:40.918Z"
   },
   {
    "duration": 14,
    "start_time": "2023-04-27T10:01:40.966Z"
   },
   {
    "duration": 13,
    "start_time": "2023-04-27T10:01:40.982Z"
   }
  ],
  "kernelspec": {
   "display_name": "Python 3 (ipykernel)",
   "language": "python",
   "name": "python3"
  },
  "language_info": {
   "codemirror_mode": {
    "name": "ipython",
    "version": 3
   },
   "file_extension": ".py",
   "mimetype": "text/x-python",
   "name": "python",
   "nbconvert_exporter": "python",
   "pygments_lexer": "ipython3",
   "version": "3.9.13"
  },
  "toc": {
   "base_numbering": 1,
   "nav_menu": {},
   "number_sections": true,
   "sideBar": true,
   "skip_h1_title": true,
   "title_cell": "Table of Contents",
   "title_sidebar": "Contents",
   "toc_cell": false,
   "toc_position": {},
   "toc_section_display": true,
   "toc_window_display": false
  }
 },
 "nbformat": 4,
 "nbformat_minor": 2
}
